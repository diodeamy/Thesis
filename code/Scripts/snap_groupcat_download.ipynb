{
 "cells": [
  {
   "cell_type": "code",
   "execution_count": null,
   "id": "6c4ac16d",
   "metadata": {},
   "outputs": [],
   "source": [
    "import os\n",
    "\n",
    "# Function to fetch files using wget\n",
    "def fetch_files_with_wget(base_url, file_type, num_files):\n",
    "    folder_names = {\"snapshot\": \"snapdir\", \"groupcat\": \"groups\"}\n",
    "\n",
    "    for i in range(49, num_files + 1, 4):\n",
    "        folder_name = folder_names.get(file_type, file_type)\n",
    "        directory = f\"{folder_name}_{i:03}\"\n",
    "        url = f\"{base_url}/{file_type}-{i}/?format=api\"\n",
    "        command = f'nohup wget -nd -nc -nv -e robots=off -l 1 -r -A hdf5 --content-disposition --header=\"API-Key: $API_KEY\" \"{url}\" -P \"{directory}\" &'\n",
    "        os.system(command)\n",
    "        print(f\"Files for {folder_name}_{i:03} are being downloaded.\")\n",
    "\n",
    "# Main function\n",
    "def main():\n",
    "    base_url = \"http://www.illustris-project.org/api/Illustris-3-Dark/files\"  # Replace with the base URL of the API\n",
    "    num_snapshots = 10  # Replace with the number of snapshots\n",
    "    num_groups = 10  # Replace with the number of group catalogs\n",
    "#     api_key = \"YOUR_API_KEY\"  # Replace with your API key\n",
    "\n",
    "    # Fetch snapshots\n",
    "    fetch_files_with_wget(base_url, \"snapshot\", num_snapshots, api_key)\n",
    "\n",
    "    # Fetch group catalogs\n",
    "    fetch_files_with_wget(base_url, \"groupcat\", num_groups, api_key)\n",
    "\n",
    "if __name__ == \"__main__\":\n",
    "    main()"
   ]
  },
  {
   "cell_type": "code",
   "execution_count": null,
   "id": "5c68bd96",
   "metadata": {},
   "outputs": [],
   "source": []
  }
 ],
 "metadata": {
  "kernelspec": {
   "display_name": "Anaconda3 - 2023.03",
   "language": "python",
   "name": "python3-2023.03"
  },
  "language_info": {
   "codemirror_mode": {
    "name": "ipython",
    "version": 3
   },
   "file_extension": ".py",
   "mimetype": "text/x-python",
   "name": "python",
   "nbconvert_exporter": "python",
   "pygments_lexer": "ipython3",
   "version": "3.10.13"
  }
 },
 "nbformat": 4,
 "nbformat_minor": 5
}
