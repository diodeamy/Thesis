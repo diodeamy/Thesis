{
 "cells": [
  {
   "cell_type": "code",
   "execution_count": 17,
   "id": "beff6604",
   "metadata": {},
   "outputs": [],
   "source": [
    "#the id's for the 5 most massive subhalos are [0, 574, 961, 1661, 1890] according to the API."
   ]
  },
  {
   "cell_type": "code",
   "execution_count": 67,
   "id": "2d96ce32",
   "metadata": {},
   "outputs": [],
   "source": [
    "import vaex\n",
    "import illustris_python as il\n",
    "import numpy as np\n",
    "import matplotlib as mpl\n",
    "import shared\n",
    "import matplotlib.pyplot as plt"
   ]
  },
  {
   "cell_type": "code",
   "execution_count": 68,
   "id": "8a6c90c3",
   "metadata": {},
   "outputs": [],
   "source": [
    "def get_coordinates_for_particleIDs(data, particle_ids):\n",
    "    coordinates = data['Coordinates']\n",
    "    ids = data['ParticleIDs']\n",
    "    \n",
    "    id_to_index = {particle_id: index for index, particle_id in enumerate(ids)}\n",
    "    particle_indices = [id_to_index.get(particle_id) for particle_id in particle_ids]\n",
    "    valid_indices = [index for index in particle_indices if index is not None]\n",
    "    \n",
    "    if len(valid_indices) != len(particle_indices):\n",
    "        print(\"Warning: Some particle IDs were not found.\")\n",
    "    \n",
    "    return coordinates[valid_indices]"
   ]
  },
  {
   "cell_type": "code",
   "execution_count": 69,
   "id": "aca50e9d",
   "metadata": {},
   "outputs": [],
   "source": [
    "base_path = \"/Users/users/nastase/PROJECT/\""
   ]
  },
  {
   "cell_type": "code",
   "execution_count": 73,
   "id": "68bfd0a0",
   "metadata": {},
   "outputs": [],
   "source": [
    "subhaloes_54 = il.snapshot.loadSubhalo(base_path, 54, 574, 'DM')\n",
    "part_IDs = subhaloes_54['ParticleIDs']\n",
    "coordinates_54 = subhaloes_54['Coordinates']\n",
    "coords_IDs_98 = il.snapshot.loadSubset(base_path, 98,'dm', ['Coordinates', 'ParticleIDs'])\n",
    "coords_IDs_135 = il.snapshot.loadSubset(base_path, 135, 'dm', ['Coordinates', 'ParticleIDs'])"
   ]
  },
  {
   "cell_type": "code",
   "execution_count": 71,
   "id": "93f59320",
   "metadata": {},
   "outputs": [],
   "source": [
    "coordinates_98 = get_coordinates_for_particleIDs(coords_IDs_98, part_IDs)"
   ]
  },
  {
   "cell_type": "code",
   "execution_count": 72,
   "id": "d06c1c89",
   "metadata": {},
   "outputs": [],
   "source": [
    "coordinates_135 = get_coordinates_for_particleIDs(coords_IDs_135, part_IDs)"
   ]
  },
  {
   "cell_type": "code",
   "execution_count": 76,
   "id": "da0acfc9",
   "metadata": {},
   "outputs": [
    {
     "data": {
      "text/plain": [
       "<matplotlib.collections.PathCollection at 0x2b149a401690>"
      ]
     },
     "execution_count": 76,
     "metadata": {},
     "output_type": "execute_result"
    },
    {
     "data": {
      "text/plain": [
       "<matplotlib.collections.PathCollection at 0x2b149aaa5d50>"
      ]
     },
     "execution_count": 76,
     "metadata": {},
     "output_type": "execute_result"
    },
    {
     "data": {
      "text/plain": [
       "<matplotlib.collections.PathCollection at 0x2b149aaa6380>"
      ]
     },
     "execution_count": 76,
     "metadata": {},
     "output_type": "execute_result"
    },
    {
     "data": {
      "image/png": "[encoded data removed]",
      "text/plain": [
       "<Figure size 640x480 with 1 Axes>"
      ]
     },
     "metadata": {},
     "output_type": "display_data"
    }
   ],
   "source": [
    "fig, ax = plt.subplots()\n",
    "\n",
    "ax.scatter(coordinates_54[:,0], coordinates_54[:,1], c='blue', alpha=0.3, label='z = 5')\n",
    "ax.scatter(coordinates_98[:,0], coordinates_98[:,1], c='blue', alpha=0.5, label='z = 5')\n",
    "ax.scatter(coordinates_135[:,0], coordinates_135[:,1], c='blue', alpha=0.7, label='z = 5')"
   ]
  },
  {
   "cell_type": "code",
   "execution_count": null,
   "id": "2e4c7dc0",
   "metadata": {},
   "outputs": [],
   "source": []
  }
 ],
 "metadata": {
  "kernelspec": {
   "display_name": "Anaconda3 - 2023.03",
   "language": "python",
   "name": "python3-2023.03"
  },
  "language_info": {
   "codemirror_mode": {
    "name": "ipython",
    "version": 3
   },
   "file_extension": ".py",
   "mimetype": "text/x-python",
   "name": "python",
   "nbconvert_exporter": "python",
   "pygments_lexer": "ipython3",
   "version": "3.10.13"
  }
 },
 "nbformat": 4,
 "nbformat_minor": 5
}
