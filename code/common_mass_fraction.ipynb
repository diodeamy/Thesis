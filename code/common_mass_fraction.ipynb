{
 "cells": [
  {
   "cell_type": "code",
   "execution_count": 1,
   "id": "db4c8fc3",
   "metadata": {},
   "outputs": [],
   "source": [
    "import sys\n",
    "import os\n",
    "import pickle\n",
    "\n",
    "import numpy as np\n",
    "import matplotlib.pyplot as plt\n",
    "import pandas as pd\n",
    "\n",
    "# Import Illustris\n",
    "nexus_python_path = os.path.abspath(\"/Users/users/nastase/Applications/NEXUS_python/NEXUS_1.0/python/python_import/\")\n",
    "sys.path.append(nexus_python_path)\n",
    "import illustris_python as il\n",
    "\n",
    "# Import redshift to snapshot dict\n",
    "shared_path = os.path.abspath(\"/Users/users/nastase/GitBub/Thesis/code/shared/\")\n",
    "sys.path.append(shared_path)\n",
    "from utilities import get_redshift_dictionary"
   ]
  },
  {
   "cell_type": "markdown",
   "id": "2c0aa952",
   "metadata": {},
   "source": [
    "you extract the IDs associated to a particular environment at a snapshot.\n",
    "then you look for those IDs in the other snapshot and check how many stayed in the same environment vs how many \n",
    "    moved to a different type of environment"
   ]
  },
  {
   "cell_type": "code",
   "execution_count": 2,
   "id": "73dac356",
   "metadata": {},
   "outputs": [],
   "source": [
    "def load_dfs(snapnums):\n",
    "    \n",
    "    dfs = []\n",
    "    for snapnum in snapnums:\n",
    "        if snapnum <100:\n",
    "            snapnum = f\"0{snapnum}\"\n",
    "        with open(f'/Users/users/nastase/PROJECT/DATA/nexus_outputs/particle_selecta/particle_types_dataframe_{snapnum}.pickle', 'rb') as handle:\n",
    "            dfs.append(pickle.load(handle))\n",
    "       \n",
    "    return dfs"
   ]
  },
  {
   "cell_type": "code",
   "execution_count": 3,
   "id": "b922b91f",
   "metadata": {},
   "outputs": [],
   "source": [
    "def join_dfs(base_df, dfs_to_join):\n",
    "    df = base_df\n",
    "    \n",
    "    for df_to_join in dfs_to_join:\n",
    "        df = df.join(df_to_join)\n",
    "        \n",
    "    return df"
   ]
  },
  {
   "cell_type": "code",
   "execution_count": 4,
   "id": "a6caa5b1",
   "metadata": {},
   "outputs": [],
   "source": [
    "snapshot_list = get_redshift_dictionary()[\"snapshots\"]"
   ]
  },
  {
   "cell_type": "code",
   "execution_count": 5,
   "id": "26bd31a7",
   "metadata": {},
   "outputs": [],
   "source": [
    "# Note: Load 'dfs' from 'nexus_outputs/particle_selecta/list_of_small_selectas.pickle'\n",
    "# dfs = load_dfs(snapshot_list)"
   ]
  },
  {
   "cell_type": "code",
   "execution_count": 27,
   "id": "52408591",
   "metadata": {},
   "outputs": [],
   "source": [
    "# for i in range(0,len(snapshot_list)):\n",
    "#     curr_df = dfs[i]\n",
    "#     curr_snapshot_number = snapshot_list[i]\n",
    "#     curr_df.set_index(curr_df.index.astype('uint32', copy=False),inplace=True)\n",
    "    \n",
    "#     if curr_snapshot_number < 100:\n",
    "#         curr_snapshot_number = f\"0{curr_snapshot_number}\"\n",
    "    \n",
    "#     column_name = f\"particle_type_{curr_snapshot\n",
    "# _number}\"\n",
    "#     if curr_snapshot_number == 133:\n",
    "#         column_name = f\"particle_type\"\n",
    "        \n",
    "#     curr_df[column_name] = curr_df[column_name].astype('category')"
   ]
  },
  {
   "cell_type": "code",
   "execution_count": 32,
   "id": "77901115",
   "metadata": {},
   "outputs": [],
   "source": [
    "# with open(f'/Users/users/nastase/PROJECT/DATA/nexus_outputs/particle_selecta/list_of_small_selectas.pickle', 'wb') as handle:\n",
    "#     pickle.dump(dfs, handle, protocol=4)"
   ]
  },
  {
   "cell_type": "code",
   "execution_count": 33,
   "id": "8381caf3",
   "metadata": {},
   "outputs": [],
   "source": [
    "# # Load 'joined_dfs' from 'nexus_outputs/particle_selecta/particle_ids_all.pickle'\n",
    "# joined_dfs = join_dfs(dfs[0], dfs[1:])"
   ]
  },
  {
   "cell_type": "code",
   "execution_count": 5,
   "id": "c3f3c25e",
   "metadata": {},
   "outputs": [],
   "source": [
    "with open(f'/Users/users/nastase/PROJECT/DATA/nexus_outputs/particle_selecta/particle_ids_all.pickle', 'rb') as handle:\n",
    "    joined_dfs = pickle.load(handle)"
   ]
  },
  {
   "cell_type": "code",
   "execution_count": 39,
   "id": "609146ee",
   "metadata": {},
   "outputs": [],
   "source": [
    "# with open(f'/Users/users/nastase/PROJECT/DATA/nexus_outputs/particle_selecta/particle_ids_all.pickle', 'wb') as handle:\n",
    "#     pickle.dump(joined_dfs, handle, protocol=4)"
   ]
  },
  {
   "cell_type": "markdown",
   "id": "1627d13a",
   "metadata": {},
   "source": [
    "i want to make plots of f_i_j (ie result of common_mass_fraction) vs the redshift of the snapshot; I want to do it for each env type (ie mass contributions to voids from other env, to filaments from other env...)"
   ]
  },
  {
   "cell_type": "code",
   "execution_count": 6,
   "id": "eb508164",
   "metadata": {},
   "outputs": [],
   "source": [
    "def proportions_for_snapshots2(df, base_snapshot, snapshots, initial_particle_type):\n",
    "    data = []\n",
    "\n",
    "    if base_snapshot < 100:\n",
    "        base_snapshot = f\"0{base_snapshot}\"  \n",
    "    for snapshot in snapshots:\n",
    "        \n",
    "        if snapshot < 100:\n",
    "            snapshot = f\"0{snapshot}\"\n",
    "\n",
    "            \n",
    "        indexing_name = f'particle_type_{snapshot}'\n",
    "        tmp = df[df[f\"particle_type_{base_snapshot}\"] == initial_particle_type][indexing_name]\n",
    "        proportions = tmp.value_counts(normalize=True).reindex(['n', 'f', 'w', 'v'], fill_value=0)\n",
    "        \n",
    "        # Append a tuple with the snapshot index and the proportions for each type\n",
    "        data.append(proportions)\n",
    "        print(f\"Processed snapshot {snapshot}\")\n",
    "\n",
    "    # Create a DataFrame from the list of Series objects\n",
    "    return pd.DataFrame(data, index=snapshots, columns=['n', 'f', 'w', 'v'])"
   ]
  },
  {
   "cell_type": "code",
   "execution_count": 67,
   "id": "6d33b7cf",
   "metadata": {},
   "outputs": [
    {
     "name": "stdout",
     "output_type": "stream",
     "text": [
      "Processed snapshot 135\n",
      "Processed snapshot 133\n",
      "Processed snapshot 131\n",
      "Processed snapshot 129\n",
      "Processed snapshot 127\n",
      "Processed snapshot 125\n",
      "Processed snapshot 123\n",
      "Processed snapshot 122\n",
      "Processed snapshot 118\n",
      "Processed snapshot 114\n",
      "Processed snapshot 110\n",
      "Processed snapshot 106\n",
      "Processed snapshot 102\n",
      "Processed snapshot 098\n",
      "Processed snapshot 094\n",
      "Processed snapshot 090\n",
      "Processed snapshot 086\n",
      "Processed snapshot 082\n",
      "Processed snapshot 078\n",
      "Processed snapshot 074\n",
      "Processed snapshot 070\n",
      "Processed snapshot 066\n",
      "Processed snapshot 064\n",
      "Processed snapshot 062\n",
      "Processed snapshot 060\n",
      "Processed snapshot 058\n",
      "Processed snapshot 056\n",
      "Processed snapshot 054\n",
      "Processed snapshot 053\n",
      "Processed snapshot 051\n",
      "Processed snapshot 049\n"
     ]
    }
   ],
   "source": [
    "proportions2 = proportions_for_snapshots2(joined_dfs, 110, snapshot_list, 'v')"
   ]
  },
  {
   "cell_type": "code",
   "execution_count": 68,
   "id": "27e1646d",
   "metadata": {},
   "outputs": [],
   "source": [
    "redshifts = proportions2.index.map(\n",
    "    lambda x: get_redshift_dictionary()[\"redshifts\"][get_redshift_dictionary()[\"snapshots\"].index(x)]\n",
    ")\n",
    "redshifts_values = redshifts.to_numpy()"
   ]
  },
  {
   "cell_type": "code",
   "execution_count": 70,
   "id": "2dd6e8bc",
   "metadata": {},
   "outputs": [
    {
     "data": {
      "image/png": "[encoded data removed]",
      "text/plain": [
       "<Figure size 1000x600 with 1 Axes>"
      ]
     },
     "metadata": {},
     "output_type": "display_data"
    }
   ],
   "source": [
    "linewidth = 3\n",
    "markersize = 7\n",
    "fontsize = 14\n",
    "\n",
    "plt.figure(figsize=(10,6))\n",
    "plt.plot(\n",
    "    redshifts_values, \n",
    "    proportions2[\"n\"].values, \n",
    "    'o-',color='#808000', label=\"nodes\", linewidth= linewidth, markersize=markersize)\n",
    "plt.plot(\n",
    "    redshifts_values, \n",
    "    proportions2[\"f\"].values,  \n",
    "    '^-',color='#6A5ACD', label=\"filaments\", linewidth=linewidth, markersize=markersize)\n",
    "plt.plot(\n",
    "    redshifts_values, \n",
    "    proportions2[\"w\"].values,\n",
    "    's-',color='#008080', label=\"walls\", linewidth=linewidth, markersize=markersize)\n",
    "plt.plot(\n",
    "    redshifts_values, \n",
    "    proportions2[\"v\"].values,\n",
    "    '^--',color='#FF7F50', label=\"voids\", linewidth=linewidth, markersize=markersize)\n",
    "plt.grid(linewidth=0.2)\n",
    "plt.yticks(np.linspace(0, 1, 20, endpoint=False), minor=True)\n",
    "plt.xticks(np.linspace(0, 5, 25, endpoint=False), minor=True)\n",
    "plt.tick_params(axis='both', which='major', labelsize=12) \n",
    "# plt.xlim(-0.01,1)\n",
    "# plt.ylim(-0.01, 0.2)\n",
    "plt.xlabel(\"redshift $z_2$\", fontsize=fontsize)\n",
    "plt.ylabel(\"f$_{ij}$($z_1 = 0$, $z_2$)\", fontsize=fontsize)\n",
    "# plt.title(\"Evolution of $\\it{void}$ particles from z = 5\", fontsize= fontsize)\n",
    "# plt.title(\"Origins of today's $\\it{node}$ particles\", fontsize= fontsize)\n",
    "# plt.title(\"Particuliarity in the origin of $\\it{filament}$ particles\", fontsize=fontsize)\n",
    "plt.legend()\n",
    "# plt.savefig(\"/Users/users/nastase/GitBub/Thesis/ResultsPaper/figures/voids_110.png\")\n",
    "plt.show()"
   ]
  },
  {
   "cell_type": "code",
   "execution_count": null,
   "id": "993ed5b3",
   "metadata": {},
   "outputs": [],
   "source": []
  }
 ],
 "metadata": {
  "@webio": {
   "lastCommId": null,
   "lastKernelId": null
  },
  "kernelspec": {
   "display_name": "Anaconda3 - 2023.03",
   "language": "python",
   "name": "python3-2023.03"
  },
  "language_info": {
   "codemirror_mode": {
    "name": "ipython",
    "version": 3
   },
   "file_extension": ".py",
   "mimetype": "text/x-python",
   "name": "python",
   "nbconvert_exporter": "python",
   "pygments_lexer": "ipython3",
   "version": "3.10.13"
  }
 },
 "nbformat": 4,
 "nbformat_minor": 5
}
