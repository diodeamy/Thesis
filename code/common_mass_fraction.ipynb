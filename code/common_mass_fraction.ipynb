{
 "cells": [
  {
   "cell_type": "code",
   "execution_count": 5,
   "id": "db4c8fc3",
   "metadata": {},
   "outputs": [],
   "source": [
    "import numpy as np\n",
    "import sys\n",
    "import os\n",
    "\n",
    "nexus_python_path = os.path.abspath(\"/Users/users/nastase/Applications/NEXUS_python/NEXUS_1.0/python/python_import/\")\n",
    "sys.path.append(nexus_python_path)\n",
    "from gadget import GadgetParticles, GadgetHeader, readGadgetHeader, readGadgetData\n",
    "import illustris_python as il"
   ]
  },
  {
   "cell_type": "code",
   "execution_count": 2,
   "id": "f16eecc4",
   "metadata": {},
   "outputs": [],
   "source": [
    "fiel = np.fromfile(\"/Users/users/nastase/PROJECT/DATA/nexus_outputs/particle_selecta/selecta_output_131.gadget\")"
   ]
  },
  {
   "cell_type": "code",
   "execution_count": 4,
   "id": "e9f2ad14",
   "metadata": {},
   "outputs": [],
   "source": [
    "def generateMask(r, Nex):\n",
    "    \"\"\"\n",
    "    Generates a mask array based on the positions in r and the values in Nex.\n",
    "    \n",
    "    Parameters:\n",
    "    r (array-like): A list of vectors, each containing x, y, and z positions.\n",
    "    Nex (3D array): A 3D numpy array where each dimension corresponds to x, y, or z. Values are either 1 or 0.\n",
    "    \n",
    "    Returns:\n",
    "    mask (array): An array of 1s and 0s corresponding to whether each vector in r lies on a 1 or 0 in Nex.\n",
    "    \"\"\"\n",
    "    # Convert r to a numpy array for easier manipulation\n",
    "    r = np.array(r)\n",
    "    \n",
    "    # Ensure r is of shape (n, 3)\n",
    "    if r.shape[1] != 3:\n",
    "        raise ValueError(\"Each vector in r must have exactly 3 coordinates (x, y, z)\")\n",
    "    \n",
    "    # Extract x, y, z coordinates from r\n",
    "    x_coords = r[:, 0].astype(int)\n",
    "    y_coords = r[:, 1].astype(int)\n",
    "    z_coords = r[:, 2].astype(int)\n",
    "    \n",
    "    # Ensure the coordinates are within the bounds of Nex\n",
    "    \n",
    "    if (x_coords >= Nex.shape[0]).any() or (y_coords >= Nex.shape[1]).any() or (z_coords >= Nex.shape[2]).any():\n",
    "        \n",
    "        raise ValueError(\"Some coordinates in r are out of bounds of the Nex array\")\n",
    "    \n",
    "    # Generate the mask by indexing into Nex\n",
    "    mask = Nex[x_coords, y_coords, z_coords]\n",
    "    \n",
    "    return mask\n"
   ]
  },
  {
   "cell_type": "code",
   "execution_count": 5,
   "id": "dd9d904f",
   "metadata": {},
   "outputs": [],
   "source": [
    "\n",
    "def compute_mass_fraction(particle_ids_1, env_1, particle_ids_2, env_2, env_i, env_j):\n",
    "    # Find the particles in environment i at z1\n",
    "    mask_i_z1 = (env_1 == env_i)\n",
    "    ids_i_z1 = particle_ids_1[mask_i_z1]\n",
    "    \n",
    "    # Find the particles in environment j at z2\n",
    "    mask_j_z2 = (env_2 == env_j)\n",
    "    ids_j_z2 = particle_ids_2[mask_j_z2]\n",
    "    \n",
    "    # Find common particles\n",
    "    common_ids = np.intersect1d(ids_i_z1, ids_j_z2)\n",
    "    \n",
    "    # Calculate mass fraction\n",
    "    M_i_z1 = len(ids_i_z1)\n",
    "    M_i_z1_and_j_z2 = len(common_ids)\n",
    "    \n",
    "    f_ij = M_i_z1_and_j_z2 / M_i_z1\n",
    "    return f_ij\n"
   ]
  },
  {
   "cell_type": "code",
   "execution_count": null,
   "id": "e86ace0d",
   "metadata": {},
   "outputs": [],
   "source": [
    "# # Replace with the actual filenames for your snapshots at different redshifts\n",
    "# filename_z1 = 'snapshot_z1.hdf5'\n",
    "# filename_z2 = 'snapshot_z2.hdf5'\n",
    "\n",
    "# # Read the snapshots\n",
    "# particle_ids_z1, positions_z1, environments_z1 = read_snapshot(filename_z1)\n",
    "# particle_ids_z2, positions_z2, environments_z2 = read_snapshot(filename_z2)\n",
    "\n",
    "# # Define the environments (for example, 1 = voids, 2 = walls, 3 = filaments, 4 = nodes)\n",
    "# env_i = 3  # filaments at z1\n",
    "# env_j = 4  # nodes at z2\n",
    "\n",
    "# # Compute the mass fraction\n",
    "# f_ij = compute_mass_fraction(particle_ids_z1, environments_z1, particle_ids_z2, environments_z2, env_i, env_j)\n",
    "\n",
    "# print(f'The common mass fraction f_{env_i}{env_j}(z1, z2) is: {f_ij:.4f}')"
   ]
  }
 ],
 "metadata": {
  "@webio": {
   "lastCommId": null,
   "lastKernelId": null
  },
  "kernelspec": {
   "display_name": "Anaconda3 - 2023.03",
   "language": "python",
   "name": "python3-2023.03"
  },
  "language_info": {
   "codemirror_mode": {
    "name": "ipython",
    "version": 3
   },
   "file_extension": ".py",
   "mimetype": "text/x-python",
   "name": "python",
   "nbconvert_exporter": "python",
   "pygments_lexer": "ipython3",
   "version": "3.10.13"
  }
 },
 "nbformat": 4,
 "nbformat_minor": 5
}
