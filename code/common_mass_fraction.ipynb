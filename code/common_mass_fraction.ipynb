{
 "cells": [
  {
   "cell_type": "code",
   "execution_count": 1,
   "id": "db4c8fc3",
   "metadata": {},
   "outputs": [],
   "source": [
    "import numpy as np\n",
    "import sys\n",
    "import os\n",
    "\n",
    "nexus_python_path = os.path.abspath(\"/Users/users/nastase/Applications/NEXUS_python/NEXUS_1.0/python/python_import/\")\n",
    "sys.path.append(nexus_python_path)\n",
    "from gadget import GadgetParticles, GadgetHeader, readGadgetHeader, readGadgetData\n",
    "import illustris_python as il"
   ]
  },
  {
   "cell_type": "code",
   "execution_count": 5,
   "id": "dd9d904f",
   "metadata": {},
   "outputs": [],
   "source": [
    "\n",
    "def compute_mass_fraction(particle_ids_1, env_1, particle_ids_2, env_2, env_i, env_j):\n",
    "    # Find the particles in environment i at z1\n",
    "    mask_i_z1 = (env_1 == env_i)\n",
    "    ids_i_z1 = particle_ids_1[mask_i_z1]\n",
    "    \n",
    "    # Find the particles in environment j at z2\n",
    "    mask_j_z2 = (env_2 == env_j)\n",
    "    ids_j_z2 = particle_ids_2[mask_j_z2]\n",
    "    \n",
    "    # Find common particles\n",
    "    common_ids = np.intersect1d(ids_i_z1, ids_j_z2)\n",
    "    \n",
    "    # Calculate mass fraction\n",
    "    M_i_z1 = len(ids_i_z1)\n",
    "    M_i_z1_and_j_z2 = len(common_ids)\n",
    "    \n",
    "    f_ij = M_i_z1_and_j_z2 / M_i_z1\n",
    "    return f_ij\n"
   ]
  }
 ],
 "metadata": {
  "@webio": {
   "lastCommId": null,
   "lastKernelId": null
  },
  "kernelspec": {
   "display_name": "Anaconda3 - 2023.03",
   "language": "python",
   "name": "python3-2023.03"
  },
  "language_info": {
   "codemirror_mode": {
    "name": "ipython",
    "version": 3
   },
   "file_extension": ".py",
   "mimetype": "text/x-python",
   "name": "python",
   "nbconvert_exporter": "python",
   "pygments_lexer": "ipython3",
   "version": "3.10.13"
  }
 },
 "nbformat": 4,
 "nbformat_minor": 5
}
