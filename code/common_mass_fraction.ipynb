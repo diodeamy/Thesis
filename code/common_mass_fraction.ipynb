{
 "cells": [
  {
   "cell_type": "code",
   "execution_count": 38,
   "id": "db4c8fc3",
   "metadata": {},
   "outputs": [],
   "source": [
    "import numpy as np\n",
    "import sys\n",
    "import os\n",
    "import pickle\n",
    "nexus_python_path = os.path.abspath(\"/Users/users/nastase/Applications/NEXUS_python/NEXUS_1.0/python/python_import/\")\n",
    "sys.path.append(nexus_python_path)\n",
    "import illustris_python as il\n",
    "import matplotlib.pyplot as plt"
   ]
  },
  {
   "cell_type": "markdown",
   "id": "2c0aa952",
   "metadata": {},
   "source": [
    "you extract the IDs associated to a particular environment at a snapshot.\n",
    "then you look for those IDs in the other snapshot and check how many stayed in the same environment vs how many \n",
    "    moved to a different type of environment"
   ]
  },
  {
   "cell_type": "code",
   "execution_count": 5,
   "id": "d1926808",
   "metadata": {},
   "outputs": [],
   "source": [
    "def common_mass_fraction(df_joined, snapnum1, snapnum2, env1, env2 ):\n",
    "    \n",
    "    \"\"\"\n",
    "    snapnum1 should correspond to the snapshot of z1 and snapnum2 to the snapshot of z2\n",
    "    \n",
    "    \n",
    "    IMPORTANT!!!! \n",
    "    \n",
    "    if snapnum1 > snapnum2 -> z1 < z2 and the fraction is mass in env1 at z1 that originated in env2 at z2\n",
    "    if snapnum1 < snapnum2 -> z1 > z2 and the fraction is mass in env1 at z1 that migrated to env2 at z2\n",
    "    \n",
    "    \"\"\"\n",
    "    \n",
    "    df_env1_snap1 = df_joined[df_joined[f\"particle_type_{snapnum1}\"] == env1]\n",
    "    denominator = df_env1_snap1.shape[0]\n",
    "    \n",
    "    df_env1_snap1_env2_snap2 = df_env1_snap1[df_env1_snap1[f\"particle_type_{snapnum2}\"] == env2]\n",
    "    numerator = df_env1_snap1_env2_snap2.shape[0]\n",
    "    \n",
    "    f_i_j = (numerator/denominator)\n",
    "    \n",
    "    return f_i_j"
   ]
  },
  {
   "cell_type": "code",
   "execution_count": 6,
   "id": "73dac356",
   "metadata": {},
   "outputs": [],
   "source": [
    "def load_dfs(snapnums):\n",
    "    \n",
    "    dfs = []\n",
    "    for snapnum in snapnums:\n",
    "        with open(f'/Users/users/nastase/PROJECT/DATA/nexus_outputs/particle_selecta/particle_types_dataframe_{snapnum}.pickle', 'rb') as handle:\n",
    "            dfs.append(pickle.load(handle))\n",
    "       \n",
    "    return dfs"
   ]
  },
  {
   "cell_type": "code",
   "execution_count": 7,
   "id": "fa5be436",
   "metadata": {},
   "outputs": [],
   "source": [
    "def join_dfs(base_df, dfs_to_join):\n",
    "    df = base_df\n",
    "    \n",
    "    for df_to_join in dfs_to_join:\n",
    "        df = df.join(df_to_join)\n",
    "        \n",
    "    return df"
   ]
  },
  {
   "cell_type": "code",
   "execution_count": 8,
   "id": "0d007305",
   "metadata": {},
   "outputs": [],
   "source": [
    "dfs = load_dfs([133, 129, 110])"
   ]
  },
  {
   "cell_type": "code",
   "execution_count": 9,
   "id": "2a455856",
   "metadata": {},
   "outputs": [],
   "source": [
    "base_df = load_dfs([135])[0]"
   ]
  },
  {
   "cell_type": "code",
   "execution_count": 10,
   "id": "94f79b39",
   "metadata": {},
   "outputs": [],
   "source": [
    "joined_df = join_dfs(base_df, dfs)"
   ]
  },
  {
   "cell_type": "code",
   "execution_count": null,
   "id": "6f8cdfed",
   "metadata": {},
   "outputs": [],
   "source": [
    "common_mass_fraction(df_joined, 135, 129, \"f\", \"n\")"
   ]
  },
  {
   "cell_type": "markdown",
   "id": "1627d13a",
   "metadata": {},
   "source": [
    "i want to make plots of f_i_j (ie result of common_mass_fraction) vs the redshift of the snapshot; I want to do it for each env type (ie mass contributions to voids from other env, to filaments from other env...)"
   ]
  },
  {
   "cell_type": "code",
   "execution_count": 13,
   "id": "4e1cf368",
   "metadata": {},
   "outputs": [],
   "source": [
    "def proportions_for_snapshots(df, snapshots, initial_particle_type):\n",
    "    proportions_for_snapshot = {}\n",
    "\n",
    "    for snapshot in snapshots:\n",
    "        \n",
    "        indexing_name = f'particle_type_{snapshot}'\n",
    "        if snapshot == 133:\n",
    "            indexing_name = \"particle_type\"\n",
    "        \n",
    "        tmp = df[df[\"particle_type_135\"] == initial_particle_type][indexing_name]\n",
    "        proportions = tmp.value_counts(normalize=True) * 100\n",
    "        proportions_for_snapshot[snapshot] = proportions\n",
    "    \n",
    "    return proportions_for_snapshot"
   ]
  },
  {
   "cell_type": "code",
   "execution_count": 14,
   "id": "9753461f",
   "metadata": {},
   "outputs": [],
   "source": [
    "proportions = proportions_for_snapshots(joined_df, [133, 129, 110], 'n')"
   ]
  },
  {
   "cell_type": "code",
   "execution_count": 11,
   "id": "447fe104",
   "metadata": {},
   "outputs": [
    {
     "data": {
      "text/html": [
       "<div>\n",
       "<style scoped>\n",
       "    .dataframe tbody tr th:only-of-type {\n",
       "        vertical-align: middle;\n",
       "    }\n",
       "\n",
       "    .dataframe tbody tr th {\n",
       "        vertical-align: top;\n",
       "    }\n",
       "\n",
       "    .dataframe thead th {\n",
       "        text-align: right;\n",
       "    }\n",
       "</style>\n",
       "<table border=\"1\" class=\"dataframe\">\n",
       "  <thead>\n",
       "    <tr style=\"text-align: right;\">\n",
       "      <th></th>\n",
       "      <th>particle_type_135</th>\n",
       "      <th>particle_type</th>\n",
       "      <th>particle_type_129</th>\n",
       "      <th>particle_type_110</th>\n",
       "    </tr>\n",
       "  </thead>\n",
       "  <tbody>\n",
       "    <tr>\n",
       "      <th>3454907</th>\n",
       "      <td>n</td>\n",
       "      <td>n</td>\n",
       "      <td>n</td>\n",
       "      <td>n</td>\n",
       "    </tr>\n",
       "    <tr>\n",
       "      <th>88038007</th>\n",
       "      <td>n</td>\n",
       "      <td>n</td>\n",
       "      <td>n</td>\n",
       "      <td>n</td>\n",
       "    </tr>\n",
       "    <tr>\n",
       "      <th>3454932</th>\n",
       "      <td>n</td>\n",
       "      <td>n</td>\n",
       "      <td>n</td>\n",
       "      <td>n</td>\n",
       "    </tr>\n",
       "    <tr>\n",
       "      <th>88043982</th>\n",
       "      <td>n</td>\n",
       "      <td>n</td>\n",
       "      <td>n</td>\n",
       "      <td>n</td>\n",
       "    </tr>\n",
       "    <tr>\n",
       "      <th>2455757</th>\n",
       "      <td>n</td>\n",
       "      <td>n</td>\n",
       "      <td>n</td>\n",
       "      <td>n</td>\n",
       "    </tr>\n",
       "    <tr>\n",
       "      <th>...</th>\n",
       "      <td>...</td>\n",
       "      <td>...</td>\n",
       "      <td>...</td>\n",
       "      <td>...</td>\n",
       "    </tr>\n",
       "    <tr>\n",
       "      <th>94196367</th>\n",
       "      <td>v</td>\n",
       "      <td>v</td>\n",
       "      <td>v</td>\n",
       "      <td>v</td>\n",
       "    </tr>\n",
       "    <tr>\n",
       "      <th>94196368</th>\n",
       "      <td>v</td>\n",
       "      <td>v</td>\n",
       "      <td>v</td>\n",
       "      <td>v</td>\n",
       "    </tr>\n",
       "    <tr>\n",
       "      <th>94196369</th>\n",
       "      <td>f</td>\n",
       "      <td>f</td>\n",
       "      <td>f</td>\n",
       "      <td>f</td>\n",
       "    </tr>\n",
       "    <tr>\n",
       "      <th>94196373</th>\n",
       "      <td>w</td>\n",
       "      <td>w</td>\n",
       "      <td>w</td>\n",
       "      <td>w</td>\n",
       "    </tr>\n",
       "    <tr>\n",
       "      <th>94196375</th>\n",
       "      <td>w</td>\n",
       "      <td>w</td>\n",
       "      <td>w</td>\n",
       "      <td>w</td>\n",
       "    </tr>\n",
       "  </tbody>\n",
       "</table>\n",
       "<p>94196375 rows × 4 columns</p>\n",
       "</div>"
      ],
      "text/plain": [
       "         particle_type_135 particle_type particle_type_129 particle_type_110\n",
       "3454907                  n             n                 n                 n\n",
       "88038007                 n             n                 n                 n\n",
       "3454932                  n             n                 n                 n\n",
       "88043982                 n             n                 n                 n\n",
       "2455757                  n             n                 n                 n\n",
       "...                    ...           ...               ...               ...\n",
       "94196367                 v             v                 v                 v\n",
       "94196368                 v             v                 v                 v\n",
       "94196369                 f             f                 f                 f\n",
       "94196373                 w             w                 w                 w\n",
       "94196375                 w             w                 w                 w\n",
       "\n",
       "[94196375 rows x 4 columns]"
      ]
     },
     "execution_count": 11,
     "metadata": {},
     "output_type": "execute_result"
    }
   ],
   "source": [
    "joined_df"
   ]
  },
  {
   "cell_type": "code",
   "execution_count": 15,
   "id": "68080d09",
   "metadata": {},
   "outputs": [
    {
     "data": {
      "text/plain": [
       "{133: particle_type\n",
       " n    92.826704\n",
       " f     7.120309\n",
       " w     0.051560\n",
       " v     0.001426\n",
       " Name: proportion, dtype: float64,\n",
       " 129: particle_type_129\n",
       " n    79.892879\n",
       " f    19.876875\n",
       " w     0.218075\n",
       " v     0.012171\n",
       " Name: proportion, dtype: float64,\n",
       " 110: particle_type_110\n",
       " f    50.985951\n",
       " n    44.701466\n",
       " w     4.091820\n",
       " v     0.220764\n",
       " Name: proportion, dtype: float64}"
      ]
     },
     "execution_count": 15,
     "metadata": {},
     "output_type": "execute_result"
    }
   ],
   "source": [
    "proportions"
   ]
  },
  {
   "cell_type": "code",
   "execution_count": 50,
   "id": "caf17777",
   "metadata": {},
   "outputs": [],
   "source": [
    "def proportions_per_type(proportions_dict, particle_type):\n",
    "    particle_proportions = [100]\n",
    "    \n",
    "    if particle_type != 'n':\n",
    "        particle_proportions = [0]\n",
    "    \n",
    "    for snap in sorted(proportions_dict.keys(), reverse=True):\n",
    "        particle_proportions.append(proportions_dict[snap][particle_type])\n",
    "\n",
    "    return particle_proportions"
   ]
  },
  {
   "cell_type": "code",
   "execution_count": 51,
   "id": "dde3ba2d",
   "metadata": {},
   "outputs": [
    {
     "data": {
      "text/plain": [
       "[100, 92.82670420166556, 79.89287865366357, 44.701466063949184]"
      ]
     },
     "execution_count": 51,
     "metadata": {},
     "output_type": "execute_result"
    }
   ],
   "source": [
    "proportions_per_type(proportions, 'n')"
   ]
  },
  {
   "cell_type": "code",
   "execution_count": 41,
   "id": "5fe6ea94",
   "metadata": {},
   "outputs": [],
   "source": [
    "allsnaps = [135, 133, 129,110]"
   ]
  },
  {
   "cell_type": "code",
   "execution_count": 52,
   "id": "a92ceb77",
   "metadata": {},
   "outputs": [
    {
     "data": {
      "text/plain": [
       "[0, 7.120309075959967, 19.876875453369262, 50.985950652678866]"
      ]
     },
     "execution_count": 52,
     "metadata": {},
     "output_type": "execute_result"
    }
   ],
   "source": [
    "proportions_per_type(proportions, 'f')"
   ]
  },
  {
   "cell_type": "code",
   "execution_count": 57,
   "id": "482808b7",
   "metadata": {},
   "outputs": [
    {
     "data": {
      "image/png": "[encoded data removed]",
      "text/plain": [
       "<Figure size 640x480 with 1 Axes>"
      ]
     },
     "metadata": {},
     "output_type": "display_data"
    }
   ],
   "source": [
    "plt.plot(\n",
    "    allsnaps, \n",
    "    proportions_per_type(proportions, 'n'), \n",
    "    'r--' ,\n",
    "    allsnaps,  \n",
    "    proportions_per_type(proportions, 'f'), \n",
    "    'g^' ,\n",
    "    allsnaps,\n",
    "    proportions_per_type(proportions, 'w'),\n",
    "    'bs',\n",
    "    allsnaps,\n",
    "    proportions_per_type(proportions, 'v'),\n",
    "    'yo'\n",
    ")\n",
    "plt.show()"
   ]
  },
  {
   "cell_type": "code",
   "execution_count": null,
   "id": "ac17782b",
   "metadata": {},
   "outputs": [],
   "source": []
  }
 ],
 "metadata": {
  "@webio": {
   "lastCommId": null,
   "lastKernelId": null
  },
  "kernelspec": {
   "display_name": "Anaconda3 - 2023.03",
   "language": "python",
   "name": "python3-2023.03"
  },
  "language_info": {
   "codemirror_mode": {
    "name": "ipython",
    "version": 3
   },
   "file_extension": ".py",
   "mimetype": "text/x-python",
   "name": "python",
   "nbconvert_exporter": "python",
   "pygments_lexer": "ipython3",
   "version": "3.10.13"
  }
 },
 "nbformat": 4,
 "nbformat_minor": 5
}
