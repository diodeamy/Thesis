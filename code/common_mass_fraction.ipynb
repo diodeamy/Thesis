{
 "cells": [
  {
   "cell_type": "code",
   "execution_count": 5,
   "id": "db4c8fc3",
   "metadata": {},
   "outputs": [],
   "source": [
    "import numpy as np\n",
    "import sys\n",
    "import os\n",
    "\n",
    "nexus_python_path = os.path.abspath(\"/Users/users/nastase/Applications/NEXUS_python/NEXUS_1.0/python/python_import/\")\n",
    "sys.path.append(nexus_python_path)\n",
    "from gadget import GadgetParticles, GadgetHeader, readGadgetHeader, readGadgetData\n",
    "import illustris_python as il"
   ]
  },
  {
   "cell_type": "code",
   "execution_count": 2,
   "id": "f16eecc4",
   "metadata": {},
   "outputs": [],
   "source": [
    "fiel = np.fromfile(\"/Users/users/nastase/PROJECT/DATA/nexus_outputs/particle_selecta/selecta_output_131.gadget\")"
   ]
  },
  {
   "cell_type": "code",
   "execution_count": 4,
   "id": "e9f2ad14",
   "metadata": {},
   "outputs": [],
   "source": [
    "def generateMask(r, Nex):\n",
    "    \"\"\"\n",
    "    Generates a mask array based on the positions in r and the values in Nex.\n",
    "    \n",
    "    Parameters:\n",
    "    r (array-like): A list of vectors, each containing x, y, and z positions.\n",
    "    Nex (3D array): A 3D numpy array where each dimension corresponds to x, y, or z. Values are either 1 or 0.\n",
    "    \n",
    "    Returns:\n",
    "    mask (array): An array of 1s and 0s corresponding to whether each vector in r lies on a 1 or 0 in Nex.\n",
    "    \"\"\"\n",
    "    # Convert r to a numpy array for easier manipulation\n",
    "    r = np.array(r)\n",
    "    \n",
    "    # Ensure r is of shape (n, 3)\n",
    "    if r.shape[1] != 3:\n",
    "        raise ValueError(\"Each vector in r must have exactly 3 coordinates (x, y, z)\")\n",
    "    \n",
    "    # Extract x, y, z coordinates from r\n",
    "    x_coords = r[:, 0].astype(int)\n",
    "    y_coords = r[:, 1].astype(int)\n",
    "    z_coords = r[:, 2].astype(int)\n",
    "    \n",
    "    # Ensure the coordinates are within the bounds of Nex\n",
    "    \n",
    "    if (x_coords >= Nex.shape[0]).any() or (y_coords >= Nex.shape[1]).any() or (z_coords >= Nex.shape[2]).any():\n",
    "        \n",
    "        raise ValueError(\"Some coordinates in r are out of bounds of the Nex array\")\n",
    "    \n",
    "    # Generate the mask by indexing into Nex\n",
    "    mask = Nex[x_coords, y_coords, z_coords]\n",
    "    \n",
    "    return mask\n"
   ]
  },
  {
   "cell_type": "code",
   "execution_count": 5,
   "id": "dd9d904f",
   "metadata": {},
   "outputs": [],
   "source": [
    "\n",
    "def compute_mass_fraction(particle_ids_1, env_1, particle_ids_2, env_2, env_i, env_j):\n",
    "    # Find the particles in environment i at z1\n",
    "    mask_i_z1 = (env_1 == env_i)\n",
    "    ids_i_z1 = particle_ids_1[mask_i_z1]\n",
    "    \n",
    "    # Find the particles in environment j at z2\n",
    "    mask_j_z2 = (env_2 == env_j)\n",
    "    ids_j_z2 = particle_ids_2[mask_j_z2]\n",
    "    \n",
    "    # Find common particles\n",
    "    common_ids = np.intersect1d(ids_i_z1, ids_j_z2)\n",
    "    \n",
    "    # Calculate mass fraction\n",
    "    M_i_z1 = len(ids_i_z1)\n",
    "    M_i_z1_and_j_z2 = len(common_ids)\n",
    "    \n",
    "    f_ij = M_i_z1_and_j_z2 / M_i_z1\n",
    "    return f_ij\n"
   ]
  },
  {
   "cell_type": "code",
   "execution_count": 6,
   "id": "38a1440a",
   "metadata": {},
   "outputs": [
    {
     "ename": "OSError",
     "evalue": "Unable to open file (file signature not found)",
     "output_type": "error",
     "traceback": [
      "\u001b[0;31m---------------------------------------------------------------------------\u001b[0m",
      "\u001b[0;31mOSError\u001b[0m                                   Traceback (most recent call last)",
      "Cell \u001b[0;32mIn[6], line 1\u001b[0m\n\u001b[0;32m----> 1\u001b[0m \u001b[43mread_snapshot\u001b[49m\u001b[43m(\u001b[49m\u001b[38;5;124;43m\"\u001b[39;49m\u001b[38;5;124;43m/Users/users/nastase/PROJECT/DATA/nexus_outputs/particle_selecta/selecta_output_131.gadget\u001b[39;49m\u001b[38;5;124;43m\"\u001b[39;49m\u001b[43m)\u001b[49m\n",
      "Cell \u001b[0;32mIn[5], line 2\u001b[0m, in \u001b[0;36mread_snapshot\u001b[0;34m(filename)\u001b[0m\n\u001b[1;32m      1\u001b[0m \u001b[38;5;28;01mdef\u001b[39;00m \u001b[38;5;21mread_snapshot\u001b[39m(filename):\n\u001b[0;32m----> 2\u001b[0m     \u001b[38;5;28;01mwith\u001b[39;00m \u001b[43mh5py\u001b[49m\u001b[38;5;241;43m.\u001b[39;49m\u001b[43mFile\u001b[49m\u001b[43m(\u001b[49m\u001b[43mfilename\u001b[49m\u001b[43m,\u001b[49m\u001b[43m \u001b[49m\u001b[38;5;124;43m'\u001b[39;49m\u001b[38;5;124;43mr\u001b[39;49m\u001b[38;5;124;43m'\u001b[39;49m\u001b[43m)\u001b[49m \u001b[38;5;28;01mas\u001b[39;00m f:\n\u001b[1;32m      3\u001b[0m         particle_ids \u001b[38;5;241m=\u001b[39m f[\u001b[38;5;124m'\u001b[39m\u001b[38;5;124mPartType1/ParticleIDs\u001b[39m\u001b[38;5;124m'\u001b[39m][:]\n\u001b[1;32m      4\u001b[0m         positions \u001b[38;5;241m=\u001b[39m f[\u001b[38;5;124m'\u001b[39m\u001b[38;5;124mPartType1/Coordinates\u001b[39m\u001b[38;5;124m'\u001b[39m][:]\n",
      "File \u001b[0;32m/Software/users/modules/7/software/anaconda3/2023.03/lib/python3.10/site-packages/h5py/_hl/files.py:567\u001b[0m, in \u001b[0;36mFile.__init__\u001b[0;34m(self, name, mode, driver, libver, userblock_size, swmr, rdcc_nslots, rdcc_nbytes, rdcc_w0, track_order, fs_strategy, fs_persist, fs_threshold, fs_page_size, page_buf_size, min_meta_keep, min_raw_keep, locking, alignment_threshold, alignment_interval, meta_block_size, **kwds)\u001b[0m\n\u001b[1;32m    558\u001b[0m     fapl \u001b[38;5;241m=\u001b[39m make_fapl(driver, libver, rdcc_nslots, rdcc_nbytes, rdcc_w0,\n\u001b[1;32m    559\u001b[0m                      locking, page_buf_size, min_meta_keep, min_raw_keep,\n\u001b[1;32m    560\u001b[0m                      alignment_threshold\u001b[38;5;241m=\u001b[39malignment_threshold,\n\u001b[1;32m    561\u001b[0m                      alignment_interval\u001b[38;5;241m=\u001b[39malignment_interval,\n\u001b[1;32m    562\u001b[0m                      meta_block_size\u001b[38;5;241m=\u001b[39mmeta_block_size,\n\u001b[1;32m    563\u001b[0m                      \u001b[38;5;241m*\u001b[39m\u001b[38;5;241m*\u001b[39mkwds)\n\u001b[1;32m    564\u001b[0m     fcpl \u001b[38;5;241m=\u001b[39m make_fcpl(track_order\u001b[38;5;241m=\u001b[39mtrack_order, fs_strategy\u001b[38;5;241m=\u001b[39mfs_strategy,\n\u001b[1;32m    565\u001b[0m                      fs_persist\u001b[38;5;241m=\u001b[39mfs_persist, fs_threshold\u001b[38;5;241m=\u001b[39mfs_threshold,\n\u001b[1;32m    566\u001b[0m                      fs_page_size\u001b[38;5;241m=\u001b[39mfs_page_size)\n\u001b[0;32m--> 567\u001b[0m     fid \u001b[38;5;241m=\u001b[39m \u001b[43mmake_fid\u001b[49m\u001b[43m(\u001b[49m\u001b[43mname\u001b[49m\u001b[43m,\u001b[49m\u001b[43m \u001b[49m\u001b[43mmode\u001b[49m\u001b[43m,\u001b[49m\u001b[43m \u001b[49m\u001b[43muserblock_size\u001b[49m\u001b[43m,\u001b[49m\u001b[43m \u001b[49m\u001b[43mfapl\u001b[49m\u001b[43m,\u001b[49m\u001b[43m \u001b[49m\u001b[43mfcpl\u001b[49m\u001b[43m,\u001b[49m\u001b[43m \u001b[49m\u001b[43mswmr\u001b[49m\u001b[38;5;241;43m=\u001b[39;49m\u001b[43mswmr\u001b[49m\u001b[43m)\u001b[49m\n\u001b[1;32m    569\u001b[0m \u001b[38;5;28;01mif\u001b[39;00m \u001b[38;5;28misinstance\u001b[39m(libver, \u001b[38;5;28mtuple\u001b[39m):\n\u001b[1;32m    570\u001b[0m     \u001b[38;5;28mself\u001b[39m\u001b[38;5;241m.\u001b[39m_libver \u001b[38;5;241m=\u001b[39m libver\n",
      "File \u001b[0;32m/Software/users/modules/7/software/anaconda3/2023.03/lib/python3.10/site-packages/h5py/_hl/files.py:231\u001b[0m, in \u001b[0;36mmake_fid\u001b[0;34m(name, mode, userblock_size, fapl, fcpl, swmr)\u001b[0m\n\u001b[1;32m    229\u001b[0m     \u001b[38;5;28;01mif\u001b[39;00m swmr \u001b[38;5;129;01mand\u001b[39;00m swmr_support:\n\u001b[1;32m    230\u001b[0m         flags \u001b[38;5;241m|\u001b[39m\u001b[38;5;241m=\u001b[39m h5f\u001b[38;5;241m.\u001b[39mACC_SWMR_READ\n\u001b[0;32m--> 231\u001b[0m     fid \u001b[38;5;241m=\u001b[39m \u001b[43mh5f\u001b[49m\u001b[38;5;241;43m.\u001b[39;49m\u001b[43mopen\u001b[49m\u001b[43m(\u001b[49m\u001b[43mname\u001b[49m\u001b[43m,\u001b[49m\u001b[43m \u001b[49m\u001b[43mflags\u001b[49m\u001b[43m,\u001b[49m\u001b[43m \u001b[49m\u001b[43mfapl\u001b[49m\u001b[38;5;241;43m=\u001b[39;49m\u001b[43mfapl\u001b[49m\u001b[43m)\u001b[49m\n\u001b[1;32m    232\u001b[0m \u001b[38;5;28;01melif\u001b[39;00m mode \u001b[38;5;241m==\u001b[39m \u001b[38;5;124m'\u001b[39m\u001b[38;5;124mr+\u001b[39m\u001b[38;5;124m'\u001b[39m:\n\u001b[1;32m    233\u001b[0m     fid \u001b[38;5;241m=\u001b[39m h5f\u001b[38;5;241m.\u001b[39mopen(name, h5f\u001b[38;5;241m.\u001b[39mACC_RDWR, fapl\u001b[38;5;241m=\u001b[39mfapl)\n",
      "File \u001b[0;32mh5py/_objects.pyx:54\u001b[0m, in \u001b[0;36mh5py._objects.with_phil.wrapper\u001b[0;34m()\u001b[0m\n",
      "File \u001b[0;32mh5py/_objects.pyx:55\u001b[0m, in \u001b[0;36mh5py._objects.with_phil.wrapper\u001b[0;34m()\u001b[0m\n",
      "File \u001b[0;32mh5py/h5f.pyx:106\u001b[0m, in \u001b[0;36mh5py.h5f.open\u001b[0;34m()\u001b[0m\n",
      "\u001b[0;31mOSError\u001b[0m: Unable to open file (file signature not found)"
     ]
    }
   ],
   "source": [
    "read_snapshot(\"/Users/users/nastase/PROJECT/DATA/nexus_outputs/particle_selecta/selecta_output_131.gadget\")"
   ]
  },
  {
   "cell_type": "code",
   "execution_count": null,
   "id": "e86ace0d",
   "metadata": {},
   "outputs": [],
   "source": [
    "# # Replace with the actual filenames for your snapshots at different redshifts\n",
    "# filename_z1 = 'snapshot_z1.hdf5'\n",
    "# filename_z2 = 'snapshot_z2.hdf5'\n",
    "\n",
    "# # Read the snapshots\n",
    "# particle_ids_z1, positions_z1, environments_z1 = read_snapshot(filename_z1)\n",
    "# particle_ids_z2, positions_z2, environments_z2 = read_snapshot(filename_z2)\n",
    "\n",
    "# # Define the environments (for example, 1 = voids, 2 = walls, 3 = filaments, 4 = nodes)\n",
    "# env_i = 3  # filaments at z1\n",
    "# env_j = 4  # nodes at z2\n",
    "\n",
    "# # Compute the mass fraction\n",
    "# f_ij = compute_mass_fraction(particle_ids_z1, environments_z1, particle_ids_z2, environments_z2, env_i, env_j)\n",
    "\n",
    "# print(f'The common mass fraction f_{env_i}{env_j}(z1, z2) is: {f_ij:.4f}')"
   ]
  }
 ],
 "metadata": {
  "@webio": {
   "lastCommId": null,
   "lastKernelId": null
  },
  "kernelspec": {
   "display_name": "Anaconda3 - 2023.03",
   "language": "python",
   "name": "python3-2023.03"
  },
  "language_info": {
   "codemirror_mode": {
    "name": "ipython",
    "version": 3
   },
   "file_extension": ".py",
   "mimetype": "text/x-python",
   "name": "python",
   "nbconvert_exporter": "python",
   "pygments_lexer": "ipython3",
   "version": "3.10.13"
  }
 },
 "nbformat": 4,
 "nbformat_minor": 5
}
