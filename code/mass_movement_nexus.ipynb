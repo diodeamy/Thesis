{
 "cells": [
  {
   "cell_type": "code",
   "execution_count": 36,
   "id": "24941268",
   "metadata": {},
   "outputs": [],
   "source": [
    "import illustris_python as il\n",
    "\n",
    "import numpy as np\n",
    "import pickle\n",
    "import pandas as pd\n",
    "import re"
   ]
  },
  {
   "cell_type": "code",
   "execution_count": 6,
   "id": "935f9c94",
   "metadata": {},
   "outputs": [],
   "source": [
    "base_path = \"/Users/users/nastase/PROJECT/\""
   ]
  },
  {
   "cell_type": "code",
   "execution_count": 28,
   "id": "f594a4a7",
   "metadata": {},
   "outputs": [],
   "source": [
    "data_directory = \"/Users/users/nastase/PROJECT/DATA/nexus_outputs/MMF_outputs/\""
   ]
  },
  {
   "cell_type": "code",
   "execution_count": 31,
   "id": "8174d9fe",
   "metadata": {},
   "outputs": [],
   "source": [
    "def tempfile_finder(snapnum):\n",
    "    tempfile = f\"/Users/users/nastase/PROJECT/DATA/nexus_outputs/MMF_outputs/output_{snapnum}.a_den\"\n",
    "    \n",
    "    return tempfile"
   ]
  },
  {
   "cell_type": "code",
   "execution_count": 39,
   "id": "40e4ddea",
   "metadata": {},
   "outputs": [],
   "source": [
    "tempfile_initial = tempfile_finder(135)"
   ]
  },
  {
   "cell_type": "markdown",
   "id": "b63370a2",
   "metadata": {},
   "source": [
    "# Data Imports"
   ]
  },
  {
   "cell_type": "markdown",
   "id": "6a6d4227",
   "metadata": {},
   "source": [
    "## Illustris"
   ]
  },
  {
   "cell_type": "code",
   "execution_count": 32,
   "id": "144392ae",
   "metadata": {},
   "outputs": [],
   "source": [
    "def snapshot_finder(snapnum, base_path=base_path):\n",
    "    snap = il.snapshot.loadSubset(base_path, 135, 'dm', [\"Coordinates\", \"ParticleIDs\"])\n",
    "    positions_array = snap[\"Coordinates\"]\n",
    "    ids_array = snap[\"ParticleIDs\"]\n",
    "    \n",
    "    return positions_array, ids_array"
   ]
  },
  {
   "cell_type": "code",
   "execution_count": 41,
   "id": "4e573e0e",
   "metadata": {},
   "outputs": [],
   "source": [
    "positions_array_initial, ids_array = snapshot_finder(135)"
   ]
  },
  {
   "cell_type": "markdown",
   "id": "79733441",
   "metadata": {},
   "source": [
    "## NEXUS+ results dataframe"
   ]
  },
  {
   "cell_type": "code",
   "execution_count": 8,
   "id": "1b1cf7a8",
   "metadata": {},
   "outputs": [],
   "source": [
    "with open(f'/Users/users/nastase/PROJECT/DATA/nexus_outputs/particle_selecta/particle_ids_all.pickle', 'rb') as handle:\n",
    "    joined_dfs = pickle.load(handle)"
   ]
  },
  {
   "cell_type": "markdown",
   "id": "d1567df1",
   "metadata": {},
   "source": [
    "## NEXUS+ MMF results"
   ]
  },
  {
   "cell_type": "code",
   "execution_count": 29,
   "id": "4e5a13c1",
   "metadata": {},
   "outputs": [],
   "source": [
    "def readNEXUS(densityFile, gridsize=512):\n",
    "    \n",
    "    pattern = r'(\\d{3})\\.a_den$'\n",
    "    \n",
    "    # Search for the pattern in the densityFile name\n",
    "    match = re.search(pattern, densityFile)\n",
    "    \n",
    "    if match:\n",
    "        # Extract the 3 digits\n",
    "        digits = match.group(1)\n",
    "#         print(\"Extracted digits: {digits}\")\n",
    "    else:\n",
    "        print(\"No matching digits found before '.a_den'\")\n",
    "        \n",
    "    shape = (gridsize,gridsize,gridsize)\n",
    "    MMFn = np.fromfile(f\"{data_directory}node_{digits}_clean.MMF\",dtype=np.int16)\n",
    "    MMFn = np.reshape(MMFn[527:-1],shape)\n",
    "    MMFf = np.fromfile(f\"{data_directory}fila_{digits}_clean.MMF\",dtype=np.int16)\n",
    "    MMFf = np.reshape(MMFf[527:-1],shape)\n",
    "    MMFw = np.fromfile(f\"{data_directory}wall_{digits}_clean.MMF\",dtype=np.int16)\n",
    "    MMFw = np.reshape(MMFw[527:-1],shape)\n",
    "    \n",
    "    return MMFn, MMFf, MMFw"
   ]
  },
  {
   "cell_type": "code",
   "execution_count": 37,
   "id": "6944fff4",
   "metadata": {},
   "outputs": [],
   "source": [
    "MMFn, MMFf, MMFw = readNEXUS(tempfile)"
   ]
  },
  {
   "cell_type": "markdown",
   "id": "3751e1fb",
   "metadata": {},
   "source": [
    "# Snapping data to NEXUS+ grid\n",
    "\n",
    "we want to initially normalise the coordinates, such that they overlap with the grid that comes out of nexus"
   ]
  },
  {
   "cell_type": "code",
   "execution_count": 9,
   "id": "07ef1054",
   "metadata": {},
   "outputs": [],
   "source": [
    "def snap_to_grid(positions_array, gridsize=512):\n",
    "    \n",
    "    positions_grid = ((positions_array - np.min(positions_array)) / (np.max(positions_array) - np.min(positions_array)) * gridsize) - 1\n",
    "    \n",
    "    return positions_grid"
   ]
  },
  {
   "cell_type": "code",
   "execution_count": 42,
   "id": "116ea65a",
   "metadata": {},
   "outputs": [],
   "source": [
    "grid_positions_initial = snap_to_grid(positions_array_initial)"
   ]
  },
  {
   "cell_type": "code",
   "execution_count": 43,
   "id": "608aac98",
   "metadata": {},
   "outputs": [],
   "source": [
    "particles_df_initial = pd.DataFrame(grid_positions_initial, columns=['x', 'y', 'z'])\n",
    "particles_df['ParticleID'] = ids_array"
   ]
  },
  {
   "cell_type": "markdown",
   "id": "6b797ebf",
   "metadata": {},
   "source": [
    "# Extracting particle positions in grid"
   ]
  },
  {
   "cell_type": "code",
   "execution_count": 67,
   "id": "72b156f9",
   "metadata": {},
   "outputs": [],
   "source": [
    "def position_finder(snapnums, particle_type_i, particle_type_ii, selecta_df ):\n",
    "    \"\"\"\n",
    "    finds the positions in the NEXUS sized grid, per environment and per snapshot\n",
    "    \n",
    "    selecta_df: df containing all the identified particles\n",
    "    \"\"\"\n",
    "    \n",
    "    results = {}\n",
    "    \n",
    "    initial_snapshot=snapnums[0]\n",
    "    \n",
    "    \n",
    "    if initial_snapshot < 100:\n",
    "        initial_snapshot = f\"0{initial_snapshot}\"  \n",
    "\n",
    "    positions_i, ids = snapshot_finder(initial_snapshot)\n",
    "    \n",
    "    particles_df_i = pd.DataFrame(snap_to_grid(positions_i), columns=['x', 'y', 'z'])\n",
    "    particles_df_i['ParticleIDs'] = ids\n",
    "    \n",
    "    indexing_name_i = f\"particle_type_{initial_snapshot}\"\n",
    "    tmp_ids_i = selecta_df[selecta_df[indexing_name_i] == particle_type_i][indexing_name_i].index\n",
    "    tmp_positions_grid_i = particles_df_i[particles_df_i['ParticleIDs'].isin(tmp_ids_i)][['x', 'y', 'z']]\n",
    "    \n",
    "    results[f'{particle_type_i}_positions_{initial_snapshot}'] = tmp_positions_grid_i\n",
    "    \n",
    "    for snapshot in snapnums[1:]:\n",
    "        if snapshot < 100:\n",
    "            snapshot = f\"0{snapshot}\"\n",
    "        \n",
    "        indexing_name_ii = f\"particle_type_{snapshot}\"\n",
    "        positions_ii = snapshot_finder(snapshot)[0]\n",
    "        tmp_ids_ii = selecta_df[selecta_df[indexing_name_ii] == particle_type_ii][indexing_name_i].index\n",
    "        particles_df_ii = pd.DataFrame(snap_to_grid(positions_ii), columns=['x', 'y', 'z'])\n",
    "        particles_df_ii['ParticleIDs'] = ids\n",
    "        \n",
    "        tmp_positions_grid_ii = particles_df_ii[particles_df_ii['ParticleIDs'].isin(tmp_ids_ii) & \n",
    "                                               particles_df_ii['ParticleIDs'].isin(tmp_ids_i)][['x','y','z']]\n",
    "        \n",
    "        results[f\"{particle_type_ii}_poisitons_{snapshot}\"] = tmp_positions_grid_ii\n",
    "        \n",
    "    return results\n"
   ]
  },
  {
   "cell_type": "code",
   "execution_count": 70,
   "id": "5f088fbb",
   "metadata": {},
   "outputs": [],
   "source": [
    "snapnumlala = [135, 70]"
   ]
  },
  {
   "cell_type": "code",
   "execution_count": 71,
   "id": "b0ade53b",
   "metadata": {},
   "outputs": [],
   "source": [
    "prel_res = position_finder(snapnumlala, 'v', 'w',joined_dfs )"
   ]
  },
  {
   "cell_type": "code",
   "execution_count": 56,
   "id": "c93b25c3",
   "metadata": {},
   "outputs": [],
   "source": [
    " w_ids_later = joined_dfs[joined_dfs[f\"particle_type_{snapnumlala:03}\"] == 'w']['particle_type_135'].index"
   ]
  },
  {
   "cell_type": "code",
   "execution_count": 61,
   "id": "13595781",
   "metadata": {},
   "outputs": [
    {
     "data": {
      "text/plain": [
       "15685457    n\n",
       "87844357    n\n",
       "15833632    n\n",
       "15848232    n\n",
       "15852957    n\n",
       "           ..\n",
       "94196365    f\n",
       "94196366    w\n",
       "94196369    f\n",
       "94196373    w\n",
       "94196375    w\n",
       "Name: particle_type_135, Length: 31401530, dtype: category\n",
       "Categories (4, object): ['f', 'n', 'v', 'w']"
      ]
     },
     "execution_count": 61,
     "metadata": {},
     "output_type": "execute_result"
    }
   ],
   "source": [
    "joined_dfs[joined_dfs[f\"particle_type_{snapnumlala:03}\"] == 'w']['particle_type_135']"
   ]
  },
  {
   "cell_type": "code",
   "execution_count": 38,
   "id": "d83efa42",
   "metadata": {},
   "outputs": [
    {
     "data": {
      "text/html": [
       "<div>\n",
       "<style scoped>\n",
       "    .dataframe tbody tr th:only-of-type {\n",
       "        vertical-align: middle;\n",
       "    }\n",
       "\n",
       "    .dataframe tbody tr th {\n",
       "        vertical-align: top;\n",
       "    }\n",
       "\n",
       "    .dataframe thead th {\n",
       "        text-align: right;\n",
       "    }\n",
       "</style>\n",
       "<table border=\"1\" class=\"dataframe\">\n",
       "  <thead>\n",
       "    <tr style=\"text-align: right;\">\n",
       "      <th></th>\n",
       "      <th>x</th>\n",
       "      <th>y</th>\n",
       "      <th>z</th>\n",
       "    </tr>\n",
       "  </thead>\n",
       "  <tbody>\n",
       "    <tr>\n",
       "      <th>9721354</th>\n",
       "      <td>54.393417</td>\n",
       "      <td>83.109436</td>\n",
       "      <td>239.050049</td>\n",
       "    </tr>\n",
       "    <tr>\n",
       "      <th>9729448</th>\n",
       "      <td>54.471657</td>\n",
       "      <td>83.619659</td>\n",
       "      <td>239.070404</td>\n",
       "    </tr>\n",
       "    <tr>\n",
       "      <th>9731224</th>\n",
       "      <td>54.262611</td>\n",
       "      <td>83.067642</td>\n",
       "      <td>239.199142</td>\n",
       "    </tr>\n",
       "    <tr>\n",
       "      <th>9732135</th>\n",
       "      <td>54.410904</td>\n",
       "      <td>83.001785</td>\n",
       "      <td>239.139709</td>\n",
       "    </tr>\n",
       "    <tr>\n",
       "      <th>9733466</th>\n",
       "      <td>54.230911</td>\n",
       "      <td>83.046570</td>\n",
       "      <td>239.273895</td>\n",
       "    </tr>\n",
       "    <tr>\n",
       "      <th>...</th>\n",
       "      <td>...</td>\n",
       "      <td>...</td>\n",
       "      <td>...</td>\n",
       "    </tr>\n",
       "    <tr>\n",
       "      <th>94196359</th>\n",
       "      <td>405.715912</td>\n",
       "      <td>6.611196</td>\n",
       "      <td>506.254883</td>\n",
       "    </tr>\n",
       "    <tr>\n",
       "      <th>94196366</th>\n",
       "      <td>407.210022</td>\n",
       "      <td>190.872437</td>\n",
       "      <td>294.781464</td>\n",
       "    </tr>\n",
       "    <tr>\n",
       "      <th>94196367</th>\n",
       "      <td>427.440430</td>\n",
       "      <td>217.235443</td>\n",
       "      <td>434.804840</td>\n",
       "    </tr>\n",
       "    <tr>\n",
       "      <th>94196370</th>\n",
       "      <td>402.230225</td>\n",
       "      <td>310.110504</td>\n",
       "      <td>188.078995</td>\n",
       "    </tr>\n",
       "    <tr>\n",
       "      <th>94196371</th>\n",
       "      <td>432.768555</td>\n",
       "      <td>347.492432</td>\n",
       "      <td>321.806030</td>\n",
       "    </tr>\n",
       "  </tbody>\n",
       "</table>\n",
       "<p>16008251 rows × 3 columns</p>\n",
       "</div>"
      ],
      "text/plain": [
       "                   x           y           z\n",
       "9721354    54.393417   83.109436  239.050049\n",
       "9729448    54.471657   83.619659  239.070404\n",
       "9731224    54.262611   83.067642  239.199142\n",
       "9732135    54.410904   83.001785  239.139709\n",
       "9733466    54.230911   83.046570  239.273895\n",
       "...              ...         ...         ...\n",
       "94196359  405.715912    6.611196  506.254883\n",
       "94196366  407.210022  190.872437  294.781464\n",
       "94196367  427.440430  217.235443  434.804840\n",
       "94196370  402.230225  310.110504  188.078995\n",
       "94196371  432.768555  347.492432  321.806030\n",
       "\n",
       "[16008251 rows x 3 columns]"
      ]
     },
     "execution_count": 38,
     "metadata": {},
     "output_type": "execute_result"
    }
   ],
   "source": [
    "position_finder(135, 'v', particles_df, joined_dfs)"
   ]
  },
  {
   "cell_type": "code",
   "execution_count": null,
   "id": "a435ca14",
   "metadata": {},
   "outputs": [],
   "source": []
  }
 ],
 "metadata": {
  "kernelspec": {
   "display_name": "Anaconda3 - 2023.03",
   "language": "python",
   "name": "python3-2023.03"
  },
  "language_info": {
   "codemirror_mode": {
    "name": "ipython",
    "version": 3
   },
   "file_extension": ".py",
   "mimetype": "text/x-python",
   "name": "python",
   "nbconvert_exporter": "python",
   "pygments_lexer": "ipython3",
   "version": "3.10.13"
  }
 },
 "nbformat": 4,
 "nbformat_minor": 5
}
