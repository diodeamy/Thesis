{
 "cells": [
  {
   "cell_type": "markdown",
   "id": "706e952a",
   "metadata": {},
   "source": [
    "plot regions with density thresholds \n",
    "over0-density is 5.6 of a spherical object that initially was a sphere, expanded with the expansion of space, stopped , and started to collapse becaus eits gravitationally bound\n",
    "anything below a density of -0.8 -0.5\n",
    "\n",
    "DTFE should be done by the end of the week, start nexus\n",
    "\n",
    "see if you can find what happens to all subhaloes on the same plot"
   ]
  },
  {
   "cell_type": "code",
   "execution_count": 1,
   "id": "c523c279",
   "metadata": {},
   "outputs": [],
   "source": [
    "import pickle\n",
    "from shared.DTFE_utilities_nonparallel import DTFE, load_results\n",
    "import numpy as np\n",
    "import matplotlib.pyplot as plt"
   ]
  },
  {
   "cell_type": "code",
   "execution_count": 2,
   "id": "37f1e76f",
   "metadata": {
    "scrolled": false
   },
   "outputs": [
    {
     "name": "stdout",
     "output_type": "stream",
     "text": [
      "Reading your stuffy stuff from: /Users/users/nastase/PROJECT/DATA/Data/W6_DTFE/persisted_dtfe_135.pickle\n"
     ]
    }
   ],
   "source": [
    "dtfe = load_results(\"/Users/users/nastase/PROJECT/DATA/Data/W6_DTFE/persisted_dtfe_135\")"
   ]
  },
  {
   "cell_type": "code",
   "execution_count": 3,
   "id": "f2287ebe",
   "metadata": {},
   "outputs": [],
   "source": [
    "L = 30000\n",
    "n = 256\n",
    "sigma = 8\n",
    "gamma = 1\n",
    "wid = 750"
   ]
  },
  {
   "cell_type": "code",
   "execution_count": 4,
   "id": "d5bec0ad",
   "metadata": {},
   "outputs": [
    {
     "name": "stdout",
     "output_type": "stream",
     "text": [
      "CPU times: user 1 µs, sys: 3 µs, total: 4 µs\n",
      "Wall time: 20.5 µs\n"
     ]
    }
   ],
   "source": [
    "%time\n",
    "\n",
    "X,Y,Z = np.meshgrid(np.linspace(-L/2,L/2,n),np.linspace(-L/2,L/2,n),np.linspace(-wid/2,wid/2,n))\n"
   ]
  },
  {
   "cell_type": "code",
   "execution_count": 5,
   "id": "c819071a",
   "metadata": {},
   "outputs": [],
   "source": [
    "%time\n",
    "d= dtfe.density(X.flatten(),Y.flatten(),Z.flatten())"
   ]
  },
  {
   "cell_type": "code",
   "execution_count": 6,
   "id": "461f0a47",
   "metadata": {},
   "outputs": [],
   "source": [
    "den = d.reshape(n,n,n)"
   ]
  },
  {
   "cell_type": "code",
   "execution_count": 7,
   "id": "6ac464a0",
   "metadata": {},
   "outputs": [],
   "source": [
    "dens = den[1:n-1,1:n-1,1:n-1]"
   ]
  },
  {
   "cell_type": "code",
   "execution_count": 8,
   "id": "42ef512f",
   "metadata": {},
   "outputs": [
    {
     "name": "stdout",
     "output_type": "stream",
     "text": [
      "Size of dens: 16387064\n"
     ]
    }
   ],
   "source": [
    "print(f\"Size of dens: {dens.size}\")"
   ]
  },
  {
   "cell_type": "code",
   "execution_count": 9,
   "id": "5a48a581",
   "metadata": {},
   "outputs": [
    {
     "data": {
      "text/plain": [
       "(254, 254, 254)"
      ]
     },
     "execution_count": 9,
     "metadata": {},
     "output_type": "execute_result"
    }
   ],
   "source": [
    "dens.shape"
   ]
  },
  {
   "cell_type": "code",
   "execution_count": 13,
   "id": "2ce5a9c4",
   "metadata": {},
   "outputs": [
    {
     "data": {
      "text/plain": [
       "-26364.92032822425"
      ]
     },
     "execution_count": 13,
     "metadata": {},
     "output_type": "execute_result"
    }
   ],
   "source": [
    "np.max((dens[int(n/2 -1), :, :]))"
   ]
  },
  {
   "cell_type": "code",
   "execution_count": 11,
   "id": "c0b27ed2",
   "metadata": {},
   "outputs": [
    {
     "data": {
      "text/plain": [
       "<matplotlib.image.AxesImage at 0x2b0a8a0ee560>"
      ]
     },
     "execution_count": 11,
     "metadata": {},
     "output_type": "execute_result"
    },
    {
     "data": {
      "image/png": "[encoded data removed]",
      "text/plain": [
       "<Figure size 640x480 with 1 Axes>"
      ]
     },
     "metadata": {},
     "output_type": "display_data"
    }
   ],
   "source": [
    "plt.imshow(dens[int(n/2 -1),:,:],norm=\"log\",origin=\"lower\",vmin =1e-8,vmax = 1e-3 )"
   ]
  },
  {
   "cell_type": "code",
   "execution_count": null,
   "id": "c493184a",
   "metadata": {},
   "outputs": [],
   "source": []
  }
 ],
 "metadata": {
  "@webio": {
   "lastCommId": null,
   "lastKernelId": null
  },
  "kernelspec": {
   "display_name": "Anaconda3 - 2023.03",
   "language": "python",
   "name": "python3-2023.03"
  },
  "language_info": {
   "codemirror_mode": {
    "name": "ipython",
    "version": 3
   },
   "file_extension": ".py",
   "mimetype": "text/x-python",
   "name": "python",
   "nbconvert_exporter": "python",
   "pygments_lexer": "ipython3",
   "version": "3.10.13"
  }
 },
 "nbformat": 4,
 "nbformat_minor": 5
}
