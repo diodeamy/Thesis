{
 "cells": [
  {
   "cell_type": "code",
   "execution_count": 1,
   "id": "4cd0b3b7",
   "metadata": {},
   "outputs": [],
   "source": [
    "import numpy as np\n",
    "from scipy.spatial import Delaunay\n",
    "import numba\n",
    "from numba import float32, float64, int64\n",
    "from typing import Union\n",
    "import illustris_python as il\n",
    "import matplotlib.pyplot as plt"
   ]
  },
  {
   "cell_type": "markdown",
   "id": "78a99aaa",
   "metadata": {},
   "source": [
    "## Define the DTFE class and additional functions"
   ]
  },
  {
   "cell_type": "code",
   "execution_count": 2,
   "id": "78de9f40",
   "metadata": {},
   "outputs": [],
   "source": [
    "@numba.jit(nopython=True, nogil=True)\n",
    "def tetrahedron_volume(sim: int64[:], points: float64[:,:]):\n",
    "    return abs(np.linalg.det(np.stack((points[sim[1]] - points[sim[0]], \n",
    "                                       points[sim[2]] - points[sim[0]],\n",
    "                                       points[sim[3]] - points[sim[0]])))) / 6\n",
    "\n",
    "@numba.jit(nopython=True, nogil=True)\n",
    "def compute_densities(pts: float64[:,:], simps: float64[:,:],\n",
    "                      m: Union[float64, float64[:]]) -> np.ndarray:\n",
    "    M = len(pts)\n",
    "    rho = np.zeros(M, dtype='float64')\n",
    "    for sim in simps:\n",
    "        vol = tetrahedron_volume(sim, pts)\n",
    "        for index in sim:\n",
    "            rho[index] += vol\n",
    "    return (3 + 1) * m / rho\n",
    "\n",
    "@numba.jit(nopython=True, nogil=True)\n",
    "def compute_gradients(pts: float64[:,:], simps: float64[:,:], rho: float64[:],\n",
    "                      v: float64[:,:]) -> tuple[np.ndarray, np.ndarray]:\n",
    "    N = len(simps)\n",
    "    Drho = np.zeros((N, 3), dtype='float64')\n",
    "    Dv   = np.zeros((N, 3, 3), dtype='float64')\n",
    "\n",
    "    for i, s in enumerate(simps):\n",
    "        [p0, p1, p2, p3] = pts[s]\n",
    "        [r0, r1, r2, r3] = rho[s]\n",
    "        [v0, v1, v2, v3] = v[s]\n",
    "\n",
    "        Ainv: float64[:,:] = np.linalg.inv(np.stack((p1 - p0, p2 - p0, p3 - p0)))\n",
    "        Drho[i] = Ainv @ np.array([r1 - r0, r2 - r0, r3 - r0])\n",
    "        Dv[i] = Ainv @ np.stack((v1 - v0, v2 - v0, v3 - v0))\n",
    "    return (Drho, Dv)\n",
    "\n",
    "@numba.jit(nopython=True, nogil=True)\n",
    "def map_affine(a, b, c):\n",
    "    assert(len(a) == len(b) == len(c))\n",
    "    result = np.zeros_like(a)\n",
    "    for i in range(len(a)):\n",
    "        result[i] = a[i] + b[i] @ c[i]\n",
    "    return result\n",
    "\n",
    "#The Delaunay Tesselation Field Estimator \n",
    "class DTFE:\n",
    "    def __init__(self, points, velocities, m):\n",
    "        print(\"Delaunay Tesselation Field Estimator initialization:\")\n",
    "        self.velocities = velocities\n",
    "        print(\"\\t-Evaluate Delaunay tessellation\")\n",
    "        self.delaunay = Delaunay(points)\n",
    "        \n",
    "        #Area of a triangle\n",
    "        \n",
    "        #The density estimate\n",
    "        print(\"\\t-Evaluate density estimate\")\n",
    "        self.rho = compute_densities(self.delaunay.points, self.delaunay.simplices, m)\n",
    "        #The gradients\n",
    "        print(\"\\t-Evaluate gradients\")\n",
    "        self.Drho, self.Dv = compute_gradients(self.delaunay.points, self.delaunay.simplices,\n",
    "                                               self.rho, self.velocities)\n",
    "\n",
    "    #The interpolations\n",
    "    def density(self, x, y, z):\n",
    "        simplexIndex = self.delaunay.find_simplex(np.c_[x, y, z])\n",
    "        pointIndex   = self.delaunay.simplices[simplexIndex][...,0]\n",
    "        return map_affine(self.rho[pointIndex], self.Drho[simplexIndex],\n",
    "                          np.c_[x, y, z] - self.delaunay.points[pointIndex])\n",
    "\n",
    "    def v(self, x, y, z):\n",
    "        simplexIndex = self.delaunay.find_simplex(np.c_[x, y, z])\n",
    "        pointIndex   = self.delaunay.simplices[simplexIndex][...,0]\n",
    "        return map_affine(self.velocities[pointIndex], self.Dv[simplexIndex],\n",
    "                          np.c_[x, y, z] - self.delaunay.points[pointIndex])\n",
    "    \n",
    "    def gradV(self, x, y, z):\n",
    "        return self.Dv[self.delaunay.find_simplex(np.c_[x, y, z])]\n",
    "\n",
    "    def theta(self, x, y, z):\n",
    "        simplexIndex = self.delaunay.find_simplex(np.c_[x, y, z])\n",
    "        return (self.Dv[simplexIndex][...,0,0] + \n",
    "                self.Dv[simplexIndex][...,1,1] + \n",
    "                self.Dv[simplexIndex][...,2,2])\n",
    "\n",
    "    def sigma(self, x, y, z):\n",
    "        simplexIndex = self.delaunay.find_simplex(np.c_[x, y, z])\n",
    "        Dv = self.Dv[simplexIndex]\n",
    "        theta = Dv[...,0,0] + Dv[...,1,1] + Dv[...,2,2]\n",
    "        return np.array([[Dv[...,0,0] - theta / 3       , (Dv[...,0,1] + Dv[...,1,0]) / 2, (Dv[...,0,2] + Dv[...,2,0]) / 2],\n",
    "                        [(Dv[...,1,0] + Dv[...,0,1]) / 2,  Dv[...,1,1] - theta / 3       , (Dv[...,1,2] + Dv[...,2,1]) / 2],\n",
    "                        [(Dv[...,2,0] + Dv[...,0,2]) / 2, (Dv[...,2,1] + Dv[...,1,2]) / 2,  Dv[...,2,2] - theta / 3       ]]) \n",
    "    \n",
    "    def omega(self, x, y, z):\n",
    "        simplexIndex = self.delaunay.find_simplex(np.c_[x, y, z])\n",
    "        Dv = self.Dv[simplexIndex]\n",
    "        zeros = np.zeros(len(simplexIndex))\n",
    "        return (np.array([[zeros, (Dv[...,0,1] - Dv[...,1,0]) / 2, (Dv[...,0,2] - Dv[...,2,0]) / 2],\n",
    "                          [(Dv[...,1,0] - Dv[...,0,1]) / 2, zeros, (Dv[...,1,2] - Dv[...,2,1]) / 2],\n",
    "                          [(Dv[...,2,0] - Dv[...,0,2]) / 2, (Dv[...,2,1] - Dv[...,1,2]) / 2, zeros]])) "
   ]
  },
  {
   "cell_type": "markdown",
   "id": "817340d2",
   "metadata": {},
   "source": [
    "## Load snapshot"
   ]
  },
  {
   "cell_type": "code",
   "execution_count": 3,
   "id": "89d73f03",
   "metadata": {},
   "outputs": [],
   "source": [
    "base_path = \"/Users/users/nastase/PROJECT/\"\n",
    "snapshot_number = 133"
   ]
  },
  {
   "cell_type": "code",
   "execution_count": 4,
   "id": "0d9f1834",
   "metadata": {},
   "outputs": [],
   "source": [
    "dm_data = il.snapshot.loadSubset(base_path, snapshot_number,'dm', ['Coordinates', 'Velocities'])\n",
    "dm_pos_all = dm_data['Coordinates']\n",
    "dm_vel_all = dm_data['Velocities']"
   ]
  },
  {
   "cell_type": "code",
   "execution_count": 5,
   "id": "05f19747",
   "metadata": {},
   "outputs": [
    {
     "data": {
      "text/plain": [
       "{'count': 94196375,\n",
       " 'Coordinates': array([[  851.8552  , 26336.646   , 18342.275   ],\n",
       "        [  853.7293  , 26339.006   , 18343.473   ],\n",
       "        [  850.2726  , 26341.738   , 18344.63    ],\n",
       "        ...,\n",
       "        [60515.91    , 49023.797   , 56935.59    ],\n",
       "        [65718.586   , 61601.94    , 46827.504   ],\n",
       "        [63968.37    , 61429.832   ,    72.121796]], dtype=float32),\n",
       " 'Velocities': array([[   7.6957703, -183.39737  , -136.04996  ],\n",
       "        [ 120.916016 , -130.1967   , -160.76692  ],\n",
       "        [ 102.222404 ,  -92.88087  , -200.93481  ],\n",
       "        ...,\n",
       "        [  87.63591  ,  151.37038  , -178.47028  ],\n",
       "        [ 245.2501   ,   24.462906 ,  117.35533  ],\n",
       "        [ 179.87665  ,   17.334671 ,   -8.167839 ]], dtype=float32)}"
      ]
     },
     "execution_count": 5,
     "metadata": {},
     "output_type": "execute_result"
    }
   ],
   "source": [
    "dm_data"
   ]
  },
  {
   "cell_type": "markdown",
   "id": "03fd287c",
   "metadata": {},
   "source": [
    "## Explore data after loading"
   ]
  },
  {
   "cell_type": "code",
   "execution_count": null,
   "id": "d9e22da8",
   "metadata": {},
   "outputs": [],
   "source": [
    "dm_pos_all"
   ]
  },
  {
   "cell_type": "code",
   "execution_count": null,
   "id": "67cf8847",
   "metadata": {},
   "outputs": [],
   "source": [
    "dm_vel_all"
   ]
  },
  {
   "cell_type": "markdown",
   "id": "24360fc4",
   "metadata": {},
   "source": [
    "## Create a filter for the data"
   ]
  },
  {
   "cell_type": "code",
   "execution_count": null,
   "id": "0b543367",
   "metadata": {},
   "outputs": [],
   "source": [
    "x_min, x_max = 10_000, 25_000\n",
    "y_min, y_max = 10_000, 25_000\n",
    "z_min, z_max = 10_000, 25_000"
   ]
  },
  {
   "cell_type": "code",
   "execution_count": null,
   "id": "0ce53810",
   "metadata": {},
   "outputs": [],
   "source": [
    "x_filter = (dm_pos_all[:,0] >= x_min) & (dm_pos_all[:,0] <= x_max)\n",
    "y_filter = (dm_pos_all[:,1] >= y_min) & (dm_pos_all[:,1] <= y_max) \n",
    "z_filter = (dm_pos_all[:,2] >= z_min) & (dm_pos_all[:,2] <= z_max) "
   ]
  },
  {
   "cell_type": "code",
   "execution_count": null,
   "id": "8702d944",
   "metadata": {},
   "outputs": [],
   "source": [
    "data_filter = x_filter & y_filter & z_filter"
   ]
  },
  {
   "cell_type": "markdown",
   "id": "ba6f4919",
   "metadata": {},
   "source": [
    "## Take a subset of data"
   ]
  },
  {
   "cell_type": "code",
   "execution_count": null,
   "id": "16dcd100",
   "metadata": {},
   "outputs": [],
   "source": [
    "dm_pos_subset = dm_pos_all[data_filter].astype(np.float64)\n",
    "dm_vel_subset = dm_vel_all[data_filter].astype(np.float64)"
   ]
  },
  {
   "cell_type": "markdown",
   "id": "72456bea",
   "metadata": {},
   "source": [
    "## Run DTFE"
   ]
  },
  {
   "cell_type": "code",
   "execution_count": null,
   "id": "5f450926",
   "metadata": {},
   "outputs": [],
   "source": [
    "m = np.ones(len(dm_pos_subset)).astype(np.float64)"
   ]
  },
  {
   "cell_type": "code",
   "execution_count": null,
   "id": "e1978d2f",
   "metadata": {},
   "outputs": [],
   "source": [
    "%%time\n",
    "dtfe = DTFE(dm_pos_subset, dm_vel_subset, m)"
   ]
  },
  {
   "cell_type": "markdown",
   "id": "66b72f6f",
   "metadata": {},
   "source": [
    "## Compute densities"
   ]
  },
  {
   "cell_type": "code",
   "execution_count": null,
   "id": "335d815f",
   "metadata": {},
   "outputs": [],
   "source": [
    "L = x_max - x_min\n",
    "n = 256\n",
    "\n",
    "X, Y = np.meshgrid(np.arange(0.1 * L, 0.9 * L, 0.8 * L / n),   \n",
    "                   np.arange(0.1 * L, 0.9 * L, 0.8 * L / n))"
   ]
  },
  {
   "cell_type": "code",
   "execution_count": null,
   "id": "80c8534b",
   "metadata": {},
   "outputs": [],
   "source": [
    "%%time\n",
    "dummy_coordinate = np.full_like(X, int(L / 2)).flat\n",
    "dens  = dtfe.density(dummy_coordinate, Y.flat, X.flat).reshape((n,n))"
   ]
  },
  {
   "cell_type": "markdown",
   "id": "67abc272",
   "metadata": {},
   "source": [
    "## Explore dens"
   ]
  },
  {
   "cell_type": "markdown",
   "id": "44bf0126",
   "metadata": {},
   "source": [
    "## Plot data"
   ]
  },
  {
   "cell_type": "code",
   "execution_count": null,
   "id": "186e9499",
   "metadata": {},
   "outputs": [],
   "source": [
    "def densPlot(data, imageSize):\n",
    "    X = np.arange(0, data.shape[0])\n",
    "    Y = np.arange(0, data.shape[1])\n",
    "    X, Y = np.meshgrid(X, Y)\n",
    "\n",
    "    plt.figure(figsize=(imageSize, imageSize))\n",
    "    plt.pcolormesh(X, Y, data, shading='auto')\n",
    "    plt.axis(\"equal\")\n",
    "    plt.show()"
   ]
  },
  {
   "cell_type": "code",
   "execution_count": null,
   "id": "833f6c62",
   "metadata": {},
   "outputs": [],
   "source": [
    "delta = 125\n",
    "densPlot(np.log(dens[(0 + delta):(255 - delta), (0 + delta):(255 - delta)]), 10)"
   ]
  },
  {
   "cell_type": "markdown",
   "id": "faf2b9db",
   "metadata": {},
   "source": [
    "## Plot data 3D"
   ]
  },
  {
   "cell_type": "code",
   "execution_count": null,
   "id": "2ed9226c",
   "metadata": {},
   "outputs": [],
   "source": [
    "L = x_max - x_min\n",
    "n = 256\n",
    "\n",
    "X, Y, Z = np.meshgrid(np.arange(0.1 * L, 0.9 * L, 0.8 * L / n),\n",
    "                      np.arange(0.1 * L, 0.9 * L, 0.8 * L / n),\n",
    "                      np.arange(0.1 * L, 0.9 * L, 0.8 * L / n))\n",
    "\n",
    "dens  = dtfe.density(X.flat, Y.flat, Z.flat).reshape((n,n,n))"
   ]
  },
  {
   "cell_type": "code",
   "execution_count": null,
   "id": "b1831f55",
   "metadata": {},
   "outputs": [],
   "source": [
    "def densPlot3D(data, imageSize):\n",
    "    X = np.arange(0, data.shape[0])\n",
    "    Z = np.arange(0, data.shape[2])\n",
    "    X, Z = np.meshgrid(X, Z)\n",
    "\n",
    "    plt.figure(figsize=(imageSize, imageSize))\n",
    "    plt.pcolormesh(X, Z, data, shading='auto')\n",
    "    plt.axis(\"equal\")\n",
    "    plt.show()"
   ]
  },
  {
   "cell_type": "code",
   "execution_count": null,
   "id": "ddbb6431",
   "metadata": {},
   "outputs": [],
   "source": [
    "densPlot3D(dens, 10)"
   ]
  },
  {
   "cell_type": "markdown",
   "id": "f436e02d",
   "metadata": {},
   "source": [
    "## Plot data 3D from Ispirov"
   ]
  },
  {
   "cell_type": "code",
   "execution_count": null,
   "id": "49ee5940",
   "metadata": {},
   "outputs": [],
   "source": [
    "n = 256\n",
    "L = 75000\n",
    "wid = 750\n",
    "\n",
    "X,Y,Z = np.meshgrid(np.linspace(-L/2,L/2,n),np.linspace(-L/2,L/2,n),np.linspace(-wid/2,wid/2,n))"
   ]
  },
  {
   "cell_type": "code",
   "execution_count": null,
   "id": "3b0ee05d",
   "metadata": {},
   "outputs": [],
   "source": [
    "d = dtfe.density(X.flatten(),Y.flatten(),Z.flatten())"
   ]
  },
  {
   "cell_type": "code",
   "execution_count": null,
   "id": "c261df51",
   "metadata": {},
   "outputs": [],
   "source": [
    "den = d.reshape(n,n,n)"
   ]
  },
  {
   "cell_type": "code",
   "execution_count": null,
   "id": "926735b5",
   "metadata": {},
   "outputs": [],
   "source": [
    "delta = 60\n",
    "dens = den[:, delta:(n-delta), delta:(n-delta)]"
   ]
  },
  {
   "cell_type": "code",
   "execution_count": null,
   "id": "87e0f88c",
   "metadata": {},
   "outputs": [],
   "source": [
    "plt.imshow(dens[200,:,:],norm=\"log\",origin=\"lower\",vmin =1e-8,vmax = 1e-3 )\n",
    "plt.yticks(np.linspace(0,n-2,5), np.linspace(-L/2,L/2,5,dtype=int))\n",
    "plt.xticks(np.linspace(0,n-2,5), np.linspace(-L/2,L/2,5,dtype=int))\n",
    "\n",
    "plt.title(\"Physical Space DTFE\")\n",
    "plt.colorbar()\n",
    "plt.show()"
   ]
  },
  {
   "cell_type": "code",
   "execution_count": null,
   "id": "bca78bae",
   "metadata": {},
   "outputs": [],
   "source": []
  }
 ],
 "metadata": {
  "@webio": {
   "lastCommId": null,
   "lastKernelId": null
  },
  "kernelspec": {
   "display_name": "Anaconda3 - 2023.03",
   "language": "python",
   "name": "python3-2023.03"
  },
  "language_info": {
   "codemirror_mode": {
    "name": "ipython",
    "version": 3
   },
   "file_extension": ".py",
   "mimetype": "text/x-python",
   "name": "python",
   "nbconvert_exporter": "python",
   "pygments_lexer": "ipython3",
   "version": "3.10.13"
  }
 },
 "nbformat": 4,
 "nbformat_minor": 5
}
