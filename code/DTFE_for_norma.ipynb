{
 "cells": [
  {
   "cell_type": "code",
   "execution_count": 1,
   "id": "67ade877",
   "metadata": {},
   "outputs": [],
   "source": [
    "#Load the numpy and scipy libraries\n",
    "import numpy as np\n",
    "from scipy.spatial import Delaunay\n",
    "import numba\n",
    "from numba import float32, float64, int64\n",
    "from typing import Union\n",
    "import illustris_python as il\n",
    "import matplotlib.pyplot as plt"
   ]
  },
  {
   "cell_type": "code",
   "execution_count": 2,
   "id": "ee4ae42e",
   "metadata": {},
   "outputs": [],
   "source": [
    "@numba.jit(nopython=True, nogil=True)\n",
    "def tetrahedron_volume(sim: int64[:], points: float64[:,:]):\n",
    "    return abs(np.linalg.det(np.stack((points[sim[1]] - points[sim[0]], \n",
    "                                       points[sim[2]] - points[sim[0]],\n",
    "                                       points[sim[3]] - points[sim[0]])))) / 6\n",
    "\n",
    "@numba.jit(nopython=True, nogil=True)\n",
    "def compute_densities(pts: float64[:,:], simps: float64[:,:],\n",
    "                      m: Union[float64, float64[:]]) -> np.ndarray:\n",
    "    M = len(pts)\n",
    "    rho = np.zeros(M, dtype='float64')\n",
    "    for sim in simps:\n",
    "        vol = tetrahedron_volume(sim, pts)\n",
    "        for index in sim:\n",
    "            rho[index] += vol\n",
    "    return (3 + 1) * m / rho\n",
    "\n",
    "@numba.jit(nopython=True, nogil=True)\n",
    "def compute_gradients(pts: float64[:,:], simps: float64[:,:], rho: float64[:],\n",
    "                      v: float64[:,:]) -> tuple[np.ndarray, np.ndarray]:\n",
    "    N = len(simps)\n",
    "    Drho = np.zeros((N, 3), dtype='float64')\n",
    "    Dv   = np.zeros((N, 3, 3), dtype='float64')\n",
    "\n",
    "    for i, s in enumerate(simps):\n",
    "        [p0, p1, p2, p3] = pts[s]\n",
    "        [r0, r1, r2, r3] = rho[s]\n",
    "        [v0, v1, v2, v3] = v[s]\n",
    "\n",
    "        Ainv: float64[:,:] = np.linalg.inv(np.stack((p1 - p0, p2 - p0, p3 - p0)))\n",
    "        Drho[i] = Ainv @ np.array([r1 - r0, r2 - r0, r3 - r0])\n",
    "        Dv[i] = Ainv @ np.stack((v1 - v0, v2 - v0, v3 - v0))\n",
    "    return (Drho, Dv)\n",
    "\n",
    "@numba.jit(nopython=True, nogil=True)\n",
    "def map_affine(a, b, c):\n",
    "    assert(len(a) == len(b) == len(c))\n",
    "    result = np.zeros_like(a)\n",
    "    for i in range(len(a)):\n",
    "        result[i] = a[i] + b[i] @ c[i]\n",
    "    return result\n",
    "\n",
    "#The Delaunay Tesselation Field Estimator \n",
    "class DTFE:\n",
    "    def __init__(self, points, velocities, m):\n",
    "        print(\"Delaunay Tesselation Field Estimator initialization:\")\n",
    "        self.velocities = velocities\n",
    "        print(\"\\t-Evaluate Delaunay tessellation\")\n",
    "        self.delaunay = Delaunay(points)\n",
    "        \n",
    "        #Area of a triangle\n",
    "        \n",
    "        #The density estimate\n",
    "        print(\"\\t-Evaluate density estimate\")\n",
    "        self.rho = compute_densities(self.delaunay.points, self.delaunay.simplices, m)\n",
    "        #The gradients\n",
    "        print(\"\\t-Evaluate gradients\")\n",
    "        self.Drho, self.Dv = compute_gradients(self.delaunay.points, self.delaunay.simplices,\n",
    "                                               self.rho, self.velocities)\n",
    "\n",
    "    #The interpolations\n",
    "    def density(self, x, y, z):\n",
    "        simplexIndex = self.delaunay.find_simplex(np.c_[x, y, z])\n",
    "        pointIndex   = self.delaunay.simplices[simplexIndex][...,0]\n",
    "        return map_affine(self.rho[pointIndex], self.Drho[simplexIndex],\n",
    "                          np.c_[x, y, z] - self.delaunay.points[pointIndex])\n",
    "\n",
    "    def v(self, x, y, z):\n",
    "        simplexIndex = self.delaunay.find_simplex(np.c_[x, y, z])\n",
    "        pointIndex   = self.delaunay.simplices[simplexIndex][...,0]\n",
    "        return map_affine(self.velocities[pointIndex], self.Dv[simplexIndex],\n",
    "                          np.c_[x, y, z] - self.delaunay.points[pointIndex])\n",
    "    \n",
    "    def gradV(self, x, y, z):\n",
    "        return self.Dv[self.delaunay.find_simplex(np.c_[x, y, z])]\n",
    "\n",
    "    def theta(self, x, y, z):\n",
    "        simplexIndex = self.delaunay.find_simplex(np.c_[x, y, z])\n",
    "        return (self.Dv[simplexIndex][...,0,0] + \n",
    "                self.Dv[simplexIndex][...,1,1] + \n",
    "                self.Dv[simplexIndex][...,2,2])\n",
    "\n",
    "    def sigma(self, x, y, z):\n",
    "        simplexIndex = self.delaunay.find_simplex(np.c_[x, y, z])\n",
    "        Dv = self.Dv[simplexIndex]\n",
    "        theta = Dv[...,0,0] + Dv[...,1,1] + Dv[...,2,2]\n",
    "        return np.array([[Dv[...,0,0] - theta / 3       , (Dv[...,0,1] + Dv[...,1,0]) / 2, (Dv[...,0,2] + Dv[...,2,0]) / 2],\n",
    "                        [(Dv[...,1,0] + Dv[...,0,1]) / 2,  Dv[...,1,1] - theta / 3       , (Dv[...,1,2] + Dv[...,2,1]) / 2],\n",
    "                        [(Dv[...,2,0] + Dv[...,0,2]) / 2, (Dv[...,2,1] + Dv[...,1,2]) / 2,  Dv[...,2,2] - theta / 3       ]]) \n",
    "    \n",
    "    def omega(self, x, y, z):\n",
    "        simplexIndex = self.delaunay.find_simplex(np.c_[x, y, z])\n",
    "        Dv = self.Dv[simplexIndex]\n",
    "        zeros = np.zeros(len(simplexIndex))\n",
    "        return (np.array([[zeros, (Dv[...,0,1] - Dv[...,1,0]) / 2, (Dv[...,0,2] - Dv[...,2,0]) / 2],\n",
    "                          [(Dv[...,1,0] - Dv[...,0,1]) / 2, zeros, (Dv[...,1,2] - Dv[...,2,1]) / 2],\n",
    "                          [(Dv[...,2,0] - Dv[...,0,2]) / 2, (Dv[...,2,1] - Dv[...,1,2]) / 2, zeros]])) "
   ]
  },
  {
   "cell_type": "code",
   "execution_count": 3,
   "id": "f307eeff",
   "metadata": {},
   "outputs": [],
   "source": [
    "L = 75000\n",
    "n = 256\n",
    "sigma = 8\n",
    "gamma = 1\n",
    "\n",
    "def power(k, gamma):\n",
    "    return k**gamma\n",
    "\n",
    "def GRF(L, gamma, sigma):\n",
    "    kRange = 2 * np.pi * np.fft.fftfreq(L)\n",
    "    kx, ky, kz = np.meshgrid(kRange, kRange, kRange)\n",
    "    k2 = kx**2 + ky**2 + kz**2\n",
    "    smooth_kernel = np.exp(- sigma ** 2 * k2 / 2)\n",
    "    grf = np.fft.ifftn(\n",
    "        np.sqrt(power(k2, gamma)) * \n",
    "                smooth_kernel * \n",
    "                np.fft.fftn(np.random.normal(0, 1, (L, L, L)))).real\n",
    "    return grf / np.std(grf)\n",
    "\n",
    "def gradient(data):\n",
    "    kRange = 2 * np.pi * np.fft.fftfreq(L)\n",
    "    kx, ky, kz = np.meshgrid(kRange, kRange, kRange)\n",
    "    \n",
    "    datax = -np.fft.ifftn(kx * np.fft.fftn(data)).imag\n",
    "    datay = -np.fft.ifftn(ky * np.fft.fftn(data)).imag\n",
    "    dataz = -np.fft.ifftn(kz * np.fft.fftn(data)).imag\n",
    "    \n",
    "    return np.transpose(np.array([datax, datay, dataz]),(1,2,3,0))\n",
    "\n",
    "def Zeldovich(grf, D):\n",
    "    velocities = gradient(grf)\n",
    "    X, Y, Z = np.meshgrid(np.arange(L), np.arange(L), np.arange(L))\n",
    "    points = np.transpose(np.array([X, Y, Z]), (1,2,3,0)) + D * velocities\n",
    "    return (points.reshape(L**3, 3), velocities.reshape(L**3, 3))"
   ]
  },
  {
   "cell_type": "code",
   "execution_count": 4,
   "id": "6d36deab",
   "metadata": {},
   "outputs": [],
   "source": [
    "base_path = \"/Users/users/nastase/PROJECT/\""
   ]
  },
  {
   "cell_type": "code",
   "execution_count": 5,
   "id": "a25f5118",
   "metadata": {},
   "outputs": [],
   "source": [
    "snapnum = 135"
   ]
  },
  {
   "cell_type": "code",
   "execution_count": 6,
   "id": "516d7116",
   "metadata": {},
   "outputs": [],
   "source": [
    "dm_data = il.snapshot.loadSubset(base_path,snapnum,'dm',['Coordinates', 'Velocities'])\n",
    "dm_pos_all = dm_data['Coordinates']\n",
    "dm_vel_all = dm_data['Velocities']"
   ]
  },
  {
   "cell_type": "code",
   "execution_count": 7,
   "id": "3ee5c7eb",
   "metadata": {},
   "outputs": [],
   "source": [
    "dm_vel_all = dm_vel_all.astype(np.float64)\n",
    "dm_pos_all = dm_pos_all.astype(np.float64)"
   ]
  },
  {
   "cell_type": "code",
   "execution_count": 9,
   "id": "3ed3205e",
   "metadata": {},
   "outputs": [],
   "source": [
    "m_all = np.ones(len(dm_vel_all))\n",
    "m_all = m_all.astype(np.float64)"
   ]
  },
  {
   "cell_type": "code",
   "execution_count": 26,
   "id": "54ae861e",
   "metadata": {},
   "outputs": [],
   "source": [
    "x_min, x_max = 15_000, 30_000\n",
    "y_min, y_max = 10_000, 25_000\n",
    "z_min, z_max = 10_000, 25_000"
   ]
  },
  {
   "cell_type": "code",
   "execution_count": 27,
   "id": "cfcb97f7",
   "metadata": {},
   "outputs": [],
   "source": [
    "x_filter = (dm_pos_all[:,0] >= x_min) & (dm_pos_all[:,0] <= x_max)\n",
    "y_filter = (dm_pos_all[:,1] >= y_min) & (dm_pos_all[:,1] <= y_max) \n",
    "z_filter = (dm_pos_all[:,2] >= z_min) & (dm_pos_all[:,2] <= z_max) "
   ]
  },
  {
   "cell_type": "code",
   "execution_count": 28,
   "id": "e173fc09",
   "metadata": {},
   "outputs": [],
   "source": [
    "data_filter = x_filter & y_filter & z_filter"
   ]
  },
  {
   "cell_type": "code",
   "execution_count": 29,
   "id": "1859c128",
   "metadata": {},
   "outputs": [],
   "source": [
    "dm_pos_subset = dm_pos_all[data_filter].astype(np.float64)\n",
    "dm_vel_subset = dm_vel_all[data_filter].astype(np.float64)"
   ]
  },
  {
   "cell_type": "code",
   "execution_count": 30,
   "id": "c33b8a48",
   "metadata": {},
   "outputs": [],
   "source": [
    "m_subset = np.ones(len(dm_pos_subset))\n",
    "m_subset = m_subset.astype(np.float64)"
   ]
  },
  {
   "cell_type": "code",
   "execution_count": 40,
   "id": "d926dd2e",
   "metadata": {},
   "outputs": [],
   "source": [
    "points = dm_pos_subset"
   ]
  },
  {
   "cell_type": "code",
   "execution_count": 41,
   "id": "1f297abb",
   "metadata": {},
   "outputs": [],
   "source": [
    "normx = points[:,0] - np.min(points[:,0])\n",
    "normy = points[:,1] - np.min(points[:,1])\n",
    "normz = points[:,2] - np.min(points[:,2])\n",
    "\n",
    "points_norm = np.transpose(np.array([normx,normy,normz]))"
   ]
  },
  {
   "cell_type": "code",
   "execution_count": 42,
   "id": "0f524c76",
   "metadata": {
    "scrolled": true
   },
   "outputs": [
    {
     "name": "stdout",
     "output_type": "stream",
     "text": [
      "Delaunay Tesselation Field Estimator initialization:\n",
      "\t-Evaluate Delaunay tessellation\n",
      "\t-Evaluate density estimate\n",
      "\t-Evaluate gradients\n",
      "CPU times: user 48.8 s, sys: 721 ms, total: 49.5 s\n",
      "Wall time: 1min 24s\n"
     ]
    }
   ],
   "source": [
    "%%time\n",
    "dtfe = DTFE(points_norm,dm_vel_subset, m_subset )"
   ]
  },
  {
   "cell_type": "code",
   "execution_count": 61,
   "id": "8755455a",
   "metadata": {},
   "outputs": [],
   "source": [
    "n=256\n",
    "L = 75000\n",
    "wid = 750 ##no idea?\n",
    "\n",
    "# X,Y,Z = np.meshgrid(np.linspace(-L/2,L/2,n),np.linspace(-L/2,L/2,n),np.linspace(-wid/2,wid/2,n))\n",
    "X, Y, Z = np.meshgrid(np.linspace(0.01*L, 0.99*L, n),   \n",
    "                   np.linspace(0.01*L, 0.99*L, n),\n",
    "                  np.linspace(0.01*L, 0.99*L, n))"
   ]
  },
  {
   "cell_type": "code",
   "execution_count": 62,
   "id": "791e9227",
   "metadata": {},
   "outputs": [],
   "source": [
    "d= dtfe.density(X.flatten(),Y.flatten(),Z.flatten())"
   ]
  },
  {
   "cell_type": "code",
   "execution_count": 63,
   "id": "1ac8ebc7",
   "metadata": {},
   "outputs": [
    {
     "data": {
      "text/plain": [
       "1199202.5106133865"
      ]
     },
     "execution_count": 63,
     "metadata": {},
     "output_type": "execute_result"
    }
   ],
   "source": [
    "np.max(d)"
   ]
  },
  {
   "cell_type": "code",
   "execution_count": 47,
   "id": "ed100739",
   "metadata": {},
   "outputs": [
    {
     "data": {
      "image/png": "[encoded data removed]",
      "text/plain": [
       "<Figure size 640x480 with 1 Axes>"
      ]
     },
     "metadata": {},
     "output_type": "display_data"
    }
   ],
   "source": [
    "plt.plot(d,label='x')\n",
    "plt.title('R Crawl')\n",
    "# plt.yscale('log')\n",
    "plt.show()\n"
   ]
  },
  {
   "cell_type": "code",
   "execution_count": 57,
   "id": "e891ddd6",
   "metadata": {},
   "outputs": [],
   "source": [
    "den = d.reshape(n,n,n)"
   ]
  },
  {
   "cell_type": "code",
   "execution_count": 58,
   "id": "e9f13903",
   "metadata": {},
   "outputs": [],
   "source": [
    "dens = den[1:n-1,1:n-1,1:n-1]"
   ]
  },
  {
   "cell_type": "code",
   "execution_count": 59,
   "id": "14fe94d8",
   "metadata": {},
   "outputs": [
    {
     "data": {
      "image/png": "[encoded data removed]",
      "text/plain": [
       "<Figure size 640x480 with 2 Axes>"
      ]
     },
     "metadata": {},
     "output_type": "display_data"
    }
   ],
   "source": [
    "plt.imshow(dens[:,:,int(n/2 -1)],norm=\"log\",origin=\"lower\",vmin =1e-8,vmax = 1e-3 )\n",
    "plt.yticks(np.linspace(0,n-2,5), np.linspace(-L/2,L/2,5,dtype=int))\n",
    "plt.xticks(np.linspace(0,n-2,5), np.linspace(-L/2,L/2,5,dtype=int))\n",
    "plt.title(\"Physical Space DTFE\")\n",
    "plt.colorbar()\n",
    "plt.show()\n"
   ]
  },
  {
   "cell_type": "code",
   "execution_count": null,
   "id": "ba6f476c",
   "metadata": {},
   "outputs": [],
   "source": []
  }
 ],
 "metadata": {
  "kernelspec": {
   "display_name": "Anaconda3 - 2023.03",
   "language": "python",
   "name": "python3-2023.03"
  },
  "language_info": {
   "codemirror_mode": {
    "name": "ipython",
    "version": 3
   },
   "file_extension": ".py",
   "mimetype": "text/x-python",
   "name": "python",
   "nbconvert_exporter": "python",
   "pygments_lexer": "ipython3",
   "version": "3.10.13"
  }
 },
 "nbformat": 4,
 "nbformat_minor": 5
}
