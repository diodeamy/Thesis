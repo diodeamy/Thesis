{
 "cells": [
  {
   "cell_type": "code",
   "execution_count": 2,
   "id": "007f6320-ef0e-497a-af9b-38cc2349a9ba",
   "metadata": {},
   "outputs": [],
   "source": [
    "import requests"
   ]
  },
  {
   "cell_type": "code",
   "execution_count": 3,
   "id": "ae39c5f8-77d3-4c6e-b701-4d4d8d8ceecb",
   "metadata": {},
   "outputs": [],
   "source": [
    "baseUrl = 'http://www.illustris-project.org/api/'\n",
    "headers = {\"api-key\":\"a7c770df3fb83d41a97bb145b5c9eda4\"}"
   ]
  },
  {
   "cell_type": "code",
   "execution_count": 4,
   "id": "7f99ea96-5406-45d1-9c26-2694b98b618b",
   "metadata": {},
   "outputs": [],
   "source": [
    "def get(path, params = None):\n",
    "    #makes HHTP GET request to path\n",
    "    \n",
    "    r = requests.get(path, params=params, headers=headers)\n",
    "    \n",
    "    #reaise exception if response is not HTTP SUCCESS (200)\n",
    "    r.raise_for_status()\n",
    "    \n",
    "    if r.headers['content-type']== 'application/json':\n",
    "        return r.json() #parses json automagically\n",
    "    \n",
    "    return t"
   ]
  },
  {
   "cell_type": "code",
   "execution_count": 7,
   "id": "4618e61d-1e99-4045-8ae4-d59a155f9a8c",
   "metadata": {},
   "outputs": [],
   "source": [
    "r = get(baseUrl)"
   ]
  },
  {
   "cell_type": "code",
   "execution_count": 10,
   "id": "508140d1-885e-47cf-b028-8e3861a48f07",
   "metadata": {},
   "outputs": [],
   "source": [
    "r.keys()\n",
    "\n",
    "names = [sim['name'] for sim in r['simulations']]"
   ]
  },
  {
   "cell_type": "code",
   "execution_count": 13,
   "id": "8fb337c2",
   "metadata": {},
   "outputs": [],
   "source": [
    "i = names.index('Illustris-3-Dark')"
   ]
  },
  {
   "cell_type": "code",
   "execution_count": 18,
   "id": "b7b8137c",
   "metadata": {},
   "outputs": [
    {
     "data": {
      "text/plain": [
       "94196375"
      ]
     },
     "execution_count": 18,
     "metadata": {},
     "output_type": "execute_result"
    }
   ],
   "source": [
    "sim = get(r['simulations'][i]['url'])\n",
    "sim.keys()\n",
    "\n",
    "sim['num_dm']"
   ]
  },
  {
   "cell_type": "code",
   "execution_count": 15,
   "id": "8e68b72d",
   "metadata": {},
   "outputs": [
    {
     "data": {
      "text/plain": [
       "136"
      ]
     },
     "execution_count": 15,
     "metadata": {},
     "output_type": "execute_result"
    }
   ],
   "source": [
    "snaps = get(sim['snapshots'])\n",
    "len(snaps)"
   ]
  },
  {
   "cell_type": "code",
   "execution_count": 19,
   "id": "986acb94",
   "metadata": {},
   "outputs": [
    {
     "data": {
      "text/plain": [
       "{'number': 135,\n",
       " 'redshift': 2.2204460492503099e-16,\n",
       " 'num_groups_subfind': 111992,\n",
       " 'url': 'http://www.illustris-project.org/api/Illustris-3-Dark/snapshots/135/'}"
      ]
     },
     "execution_count": 19,
     "metadata": {},
     "output_type": "execute_result"
    }
   ],
   "source": [
    "# last snap is\n",
    "snaps[-1]"
   ]
  },
  {
   "cell_type": "code",
   "execution_count": 20,
   "id": "c2d712dc",
   "metadata": {},
   "outputs": [],
   "source": [
    "#to retrieve full metadata about a snapshot you can do\n",
    "# snap = get(snaps[-1]['url'])\n",
    "# snap"
   ]
  },
  {
   "cell_type": "code",
   "execution_count": null,
   "id": "3108f2fe",
   "metadata": {},
   "outputs": [],
   "source": []
  }
 ],
 "metadata": {
  "kernelspec": {
   "display_name": "Python 3 (ipykernel)",
   "language": "python",
   "name": "python3"
  },
  "language_info": {
   "codemirror_mode": {
    "name": "ipython",
    "version": 3
   },
   "file_extension": ".py",
   "mimetype": "text/x-python",
   "name": "python",
   "nbconvert_exporter": "python",
   "pygments_lexer": "ipython3",
   "version": "3.9.7"
  }
 },
 "nbformat": 4,
 "nbformat_minor": 5
}
