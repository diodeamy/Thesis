{
 "cells": [
  {
   "cell_type": "code",
   "execution_count": 10,
   "id": "007f6320-ef0e-497a-af9b-38cc2349a9ba",
   "metadata": {},
   "outputs": [],
   "source": [
    "from shared.http import get"
   ]
  },
  {
   "cell_type": "code",
   "execution_count": 12,
   "id": "c5462320",
   "metadata": {},
   "outputs": [],
   "source": [
    "baseUrl = \"http://www.illustris-project.org/api/\""
   ]
  },
  {
   "cell_type": "code",
   "execution_count": 13,
   "id": "4618e61d-1e99-4045-8ae4-d59a155f9a8c",
   "metadata": {},
   "outputs": [],
   "source": [
    "r = get(baseUrl)"
   ]
  },
  {
   "cell_type": "code",
   "execution_count": 14,
   "id": "508140d1-885e-47cf-b028-8e3861a48f07",
   "metadata": {},
   "outputs": [
    {
     "name": "stdout",
     "output_type": "stream",
     "text": [
      "dict_keys(['simulations'])\n"
     ]
    }
   ],
   "source": [
    "print(r.keys())\n",
    "\n",
    "names = [sim['name'] for sim in r['simulations']]"
   ]
  },
  {
   "cell_type": "code",
   "execution_count": 15,
   "id": "8fb337c2",
   "metadata": {},
   "outputs": [],
   "source": [
    "i = names.index('Illustris-3-Dark')"
   ]
  },
  {
   "cell_type": "code",
   "execution_count": 23,
   "id": "b7b8137c",
   "metadata": {},
   "outputs": [
    {
     "name": "stdout",
     "output_type": "stream",
     "text": [
      "dict_keys(['num_files_groupcat', 'softening_gas_comoving_min', 'softening_dm_max_phys', 'num_files_rockstar', 'is_subbox', 'omega_L', 'child_simulations', 'longids', 'has_fof', 'num_files_ctrees', 'softening_blackholes_comoving', 'has_sublink', 'mass_gas', 'is_zoom', 'omega_B', 'num_snapshots', 'snapshots', 'has_rockstar', 'has_cooling', 'has_subfind', 'num_files_lhalotree', 'files', 'description', 'softening_gas_factor', 'num_files_snapshot', 'filesize_sublink', 'softening_gas_comoving', 'num_dm', 'filesize_lhalotree', 'boxsize', 'parent_simulation', 'num_files_sublink', 'filesize_ctrees', 'softening_dm_comoving', 'checksums', 'url', 'has_lhalotree', 'softening_stars_max_phys', 'has_winds', 'z_start', 'filesize_ics', 'name_alt', 'softening_stars_comoving', 'num_tr_vel', 'physics_model', 'is_uniform', 'name', 'hubble', 'cosmology', 'has_starformation', 'mass_dm', 'omega_0', 'has_ctrees', 'softening_blackholes_max_phys', 'has_blackholes', 'z_final', 'permission_required', 'num_tr_mc', 'filesize_simulation', 'softening_gas_max_phys'])\n"
     ]
    },
    {
     "data": {
      "text/plain": [
       "94196375"
      ]
     },
     "execution_count": 23,
     "metadata": {},
     "output_type": "execute_result"
    }
   ],
   "source": [
    "sim = get(r['simulations'][i]['url'])\n",
    "print(sim.keys())\n",
    "\n",
    "sim['num_dm']"
   ]
  },
  {
   "cell_type": "code",
   "execution_count": 24,
   "id": "8e68b72d",
   "metadata": {},
   "outputs": [
    {
     "data": {
      "text/plain": [
       "136"
      ]
     },
     "execution_count": 24,
     "metadata": {},
     "output_type": "execute_result"
    }
   ],
   "source": [
    "snaps = get(sim['snapshots'])\n",
    "len(snaps)"
   ]
  },
  {
   "cell_type": "code",
   "execution_count": 25,
   "id": "986acb94",
   "metadata": {},
   "outputs": [
    {
     "data": {
      "text/plain": [
       "{'num_groups_subfind': 111992,\n",
       " 'number': 135,\n",
       " 'redshift': 2.2204460492503099e-16,\n",
       " 'url': 'http://www.illustris-project.org/api/Illustris-3-Dark/snapshots/135/'}"
      ]
     },
     "execution_count": 25,
     "metadata": {},
     "output_type": "execute_result"
    }
   ],
   "source": [
    "# last snap is\n",
    "snaps[-1]"
   ]
  },
  {
   "cell_type": "code",
   "execution_count": 26,
   "id": "c2d712dc",
   "metadata": {},
   "outputs": [],
   "source": [
    "#to retrieve full metadata about a snapshot you can do\n",
    "# snap = get(snaps[-1]['url'])\n",
    "# snap"
   ]
  },
  {
   "cell_type": "code",
   "execution_count": 36,
   "id": "3108f2fe",
   "metadata": {},
   "outputs": [],
   "source": [
    "today_snapshots_url = sim['snapshots'] + \"z=4.01\""
   ]
  },
  {
   "cell_type": "code",
   "execution_count": 37,
   "id": "60ec7073",
   "metadata": {},
   "outputs": [],
   "source": [
    "snap = get(today_snapshots_url)"
   ]
  },
  {
   "cell_type": "code",
   "execution_count": 38,
   "id": "1842e6aa",
   "metadata": {},
   "outputs": [
    {
     "data": {
      "text/plain": [
       "{'files': {'groupcat': 'http://www.illustris-project.org/api/Illustris-3-Dark/files/groupcat-54/',\n",
       "  'snapshot': 'http://www.illustris-project.org/api/Illustris-3-Dark/files/snapshot-54/'},\n",
       " 'filesize_groupcat': 22800372.0,\n",
       " 'filesize_rockstar': 0.0,\n",
       " 'filesize_snapshot': 3391122236.0,\n",
       " 'num_bhs': 0,\n",
       " 'num_dm': 94196375,\n",
       " 'num_gas': 0,\n",
       " 'num_groups_fof': 60008,\n",
       " 'num_groups_rockstar': 0,\n",
       " 'num_groups_subfind': 63281,\n",
       " 'num_stars': 0,\n",
       " 'num_trmc': 0,\n",
       " 'number': 54,\n",
       " 'redshift': 4.007945111465269,\n",
       " 'simulation': 'http://www.illustris-project.org/api/Illustris-3-Dark/',\n",
       " 'subhalos': 'http://www.illustris-project.org/api/Illustris-3-Dark/snapshots/54/subhalos/',\n",
       " 'url': 'http://www.illustris-project.org/api/Illustris-3-Dark/snapshots/54/',\n",
       " 'vis': {'groupcat_halo_sizemass': 'http://www.illustris-project.org/api/Illustris-3-Dark/snapshots/54/subhalos/plot.png?xQuant=mhalo_200_log&yQuant=rhalo_200&xlim=9.0%2C15.0'}}"
      ]
     },
     "execution_count": 38,
     "metadata": {},
     "output_type": "execute_result"
    }
   ],
   "source": [
    "snap"
   ]
  },
  {
   "cell_type": "code",
   "execution_count": 40,
   "id": "280ecebb",
   "metadata": {},
   "outputs": [
    {
     "data": {
      "text/plain": [
       "'http://www.illustris-project.org/api/Illustris-3-Dark/snapshots/54/subhalos/'"
      ]
     },
     "execution_count": 40,
     "metadata": {},
     "output_type": "execute_result"
    }
   ],
   "source": [
    "snap['subhalos']"
   ]
  },
  {
   "cell_type": "code",
   "execution_count": 42,
   "id": "8bb629fc",
   "metadata": {},
   "outputs": [],
   "source": [
    "subs = get(snap['subhalos'], {'limit':5, 'order_by':'-mass'})"
   ]
  },
  {
   "cell_type": "code",
   "execution_count": 43,
   "id": "baaf3f8a",
   "metadata": {},
   "outputs": [
    {
     "data": {
      "text/plain": [
       "[13, 42, 0, 63, 51]"
      ]
     },
     "execution_count": 43,
     "metadata": {},
     "output_type": "execute_result"
    }
   ],
   "source": [
    "[subs['results'][i]['id'] for i in range(5)]"
   ]
  }
 ],
 "metadata": {
  "kernelspec": {
   "display_name": "Anaconda3 - 4.2.0",
   "language": "python",
   "name": "python3"
  },
  "language_info": {
   "codemirror_mode": {
    "name": "ipython",
    "version": 3
   },
   "file_extension": ".py",
   "mimetype": "text/x-python",
   "name": "python",
   "nbconvert_exporter": "python",
   "pygments_lexer": "ipython3",
   "version": "3.5.2"
  }
 },
 "nbformat": 4,
 "nbformat_minor": 5
}
