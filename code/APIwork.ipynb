{
 "cells": [
  {
   "cell_type": "code",
   "execution_count": 20,
   "id": "007f6320-ef0e-497a-af9b-38cc2349a9ba",
   "metadata": {},
   "outputs": [],
   "source": [
    "from shared.http import get"
   ]
  },
  {
   "cell_type": "code",
   "execution_count": 21,
   "id": "4618e61d-1e99-4045-8ae4-d59a155f9a8c",
   "metadata": {},
   "outputs": [],
   "source": [
    "r = get(baseUrl)"
   ]
  },
  {
   "cell_type": "code",
   "execution_count": 22,
   "id": "508140d1-885e-47cf-b028-8e3861a48f07",
   "metadata": {},
   "outputs": [
    {
     "name": "stdout",
     "output_type": "stream",
     "text": [
      "dict_keys(['simulations'])\n"
     ]
    }
   ],
   "source": [
    "print(r.keys())\n",
    "\n",
    "names = [sim['name'] for sim in r['simulations']]"
   ]
  },
  {
   "cell_type": "code",
   "execution_count": 23,
   "id": "8fb337c2",
   "metadata": {},
   "outputs": [],
   "source": [
    "i = names.index('Illustris-3-Dark')"
   ]
  },
  {
   "cell_type": "code",
   "execution_count": 24,
   "id": "b7b8137c",
   "metadata": {},
   "outputs": [
    {
     "name": "stdout",
     "output_type": "stream",
     "text": [
      "dict_keys(['softening_stars_max_phys', 'softening_gas_max_phys', 'description', 'has_subfind', 'num_files_lhalotree', 'softening_blackholes_max_phys', 'omega_L', 'longids', 'filesize_ics', 'mass_dm', 'omega_B', 'filesize_ctrees', 'softening_blackholes_comoving', 'softening_dm_comoving', 'softening_dm_max_phys', 'filesize_sublink', 'files', 'num_files_rockstar', 'has_cooling', 'has_rockstar', 'num_tr_vel', 'has_blackholes', 'num_dm', 'url', 'snapshots', 'filesize_lhalotree', 'softening_stars_comoving', 'has_sublink', 'checksums', 'has_fof', 'permission_required', 'num_tr_mc', 'num_files_ctrees', 'boxsize', 'is_subbox', 'softening_gas_comoving_min', 'num_files_snapshot', 'num_snapshots', 'has_winds', 'has_starformation', 'hubble', 'omega_0', 'softening_gas_factor', 'num_files_groupcat', 'child_simulations', 'name_alt', 'parent_simulation', 'has_lhalotree', 'filesize_simulation', 'is_uniform', 'softening_gas_comoving', 'mass_gas', 'is_zoom', 'z_start', 'num_files_sublink', 'has_ctrees', 'physics_model', 'z_final', 'cosmology', 'name'])\n"
     ]
    },
    {
     "data": {
      "text/plain": [
       "94196375"
      ]
     },
     "execution_count": 24,
     "metadata": {},
     "output_type": "execute_result"
    }
   ],
   "source": [
    "sim = get(r['simulations'][i]['url'], headers)\n",
    "print(sim.keys())\n",
    "\n",
    "sim['num_dm']"
   ]
  },
  {
   "cell_type": "code",
   "execution_count": 25,
   "id": "8e68b72d",
   "metadata": {},
   "outputs": [
    {
     "data": {
      "text/plain": [
       "136"
      ]
     },
     "execution_count": 25,
     "metadata": {},
     "output_type": "execute_result"
    }
   ],
   "source": [
    "snaps = get(sim['snapshots'], headers)\n",
    "len(snaps)"
   ]
  },
  {
   "cell_type": "code",
   "execution_count": 26,
   "id": "986acb94",
   "metadata": {},
   "outputs": [
    {
     "data": {
      "text/plain": [
       "{'num_groups_subfind': 111992,\n",
       " 'number': 135,\n",
       " 'redshift': 2.2204460492503099e-16,\n",
       " 'url': 'http://www.illustris-project.org/api/Illustris-3-Dark/snapshots/135/'}"
      ]
     },
     "execution_count": 26,
     "metadata": {},
     "output_type": "execute_result"
    }
   ],
   "source": [
    "# last snap is\n",
    "snaps[-1]"
   ]
  },
  {
   "cell_type": "code",
   "execution_count": 27,
   "id": "c2d712dc",
   "metadata": {},
   "outputs": [],
   "source": [
    "#to retrieve full metadata about a snapshot you can do\n",
    "# snap = get(snaps[-1]['url'])\n",
    "# snap"
   ]
  },
  {
   "cell_type": "code",
   "execution_count": 28,
   "id": "3108f2fe",
   "metadata": {},
   "outputs": [],
   "source": [
    "today_snapshots_url = sim['snapshots'] + \"z=0\""
   ]
  },
  {
   "cell_type": "code",
   "execution_count": 29,
   "id": "60ec7073",
   "metadata": {},
   "outputs": [],
   "source": [
    "snap = get(today_snapshots_url)"
   ]
  },
  {
   "cell_type": "code",
   "execution_count": 30,
   "id": "1842e6aa",
   "metadata": {},
   "outputs": [
    {
     "data": {
      "text/plain": [
       "{'files': {'groupcat': 'http://www.illustris-project.org/api/Illustris-3-Dark/files/groupcat-135/',\n",
       "  'snapshot': 'http://www.illustris-project.org/api/Illustris-3-Dark/files/snapshot-135/'},\n",
       " 'filesize_groupcat': 38768256.0,\n",
       " 'filesize_rockstar': 0.0,\n",
       " 'filesize_snapshot': 3391122236.0,\n",
       " 'num_bhs': 0,\n",
       " 'num_dm': 94196375,\n",
       " 'num_gas': 0,\n",
       " 'num_groups_fof': 94028,\n",
       " 'num_groups_rockstar': 0,\n",
       " 'num_groups_subfind': 111992,\n",
       " 'num_stars': 0,\n",
       " 'num_trmc': 0,\n",
       " 'number': 135,\n",
       " 'redshift': 2.2204460492503099e-16,\n",
       " 'simulation': 'http://www.illustris-project.org/api/Illustris-3-Dark/',\n",
       " 'subhalos': 'http://www.illustris-project.org/api/Illustris-3-Dark/snapshots/135/subhalos/',\n",
       " 'url': 'http://www.illustris-project.org/api/Illustris-3-Dark/snapshots/135/',\n",
       " 'vis': {'groupcat_halo_sizemass': 'http://www.illustris-project.org/api/Illustris-3-Dark/snapshots/135/subhalos/plot.png?xQuant=mhalo_200_log&yQuant=rhalo_200&xlim=9.0%2C15.0'}}"
      ]
     },
     "execution_count": 30,
     "metadata": {},
     "output_type": "execute_result"
    }
   ],
   "source": [
    "snap"
   ]
  },
  {
   "cell_type": "code",
   "execution_count": 51,
   "id": "280ecebb",
   "metadata": {},
   "outputs": [
    {
     "data": {
      "text/plain": [
       "'http://www.illustris-project.org/api/Illustris-3-Dark/snapshots/135/subhalos/'"
      ]
     },
     "execution_count": 51,
     "metadata": {},
     "output_type": "execute_result"
    }
   ],
   "source": [
    "snap['subhalos']"
   ]
  },
  {
   "cell_type": "code",
   "execution_count": 53,
   "id": "7c475c5e",
   "metadata": {},
   "outputs": [
    {
     "data": {
      "text/plain": [
       "{'cm_x': 1484.55,\n",
       " 'cm_y': 26504.1,\n",
       " 'cm_z': 19356.9,\n",
       " 'cutouts': {'parent_halo': 'http://www.illustris-project.org/api/Illustris-3-Dark/snapshots/135/halos/0/cutout.hdf5',\n",
       "  'subhalo': 'http://www.illustris-project.org/api/Illustris-3-Dark/snapshots/135/subhalos/4/cutout.hdf5'},\n",
       " 'desc_sfid': -1,\n",
       " 'desc_snap': -1,\n",
       " 'fp_match_sfid': 3,\n",
       " 'grnr': 0,\n",
       " 'halfmassrad': 88.5487,\n",
       " 'id': 4,\n",
       " 'len': 11214,\n",
       " 'mass': 379.994,\n",
       " 'mass_log_msun': 12.732204080139267,\n",
       " 'massinhalfrad': 0.0,\n",
       " 'massinmaxrad': 203.755,\n",
       " 'massinrad': 0.0,\n",
       " 'meta': {'info': 'http://www.illustris-project.org/api/Illustris-3-Dark/snapshots/135/subhalos/4/info.json',\n",
       "  'simulation': 'http://www.illustris-project.org/api/Illustris-3-Dark/',\n",
       "  'snapshot': 'http://www.illustris-project.org/api/Illustris-3-Dark/snapshots/135/',\n",
       "  'url': 'http://www.illustris-project.org/api/Illustris-3-Dark/snapshots/135/subhalos/4/'},\n",
       " 'parent': 0,\n",
       " 'pos_x': 1488.77,\n",
       " 'pos_y': 26511.1,\n",
       " 'pos_z': 19360.6,\n",
       " 'primary_flag': 0,\n",
       " 'prog_sfid': 3,\n",
       " 'prog_snap': 134,\n",
       " 'related': {'parent_halo': 'http://www.illustris-project.org/api/Illustris-3-Dark/snapshots/135/halos/0/',\n",
       "  'sublink_descendant': None,\n",
       "  'sublink_progenitor': 'http://www.illustris-project.org/api/Illustris-3-Dark/snapshots/134/subhalos/3/'},\n",
       " 'snap': 135,\n",
       " 'spin_x': 1021.24,\n",
       " 'spin_y': 2057.15,\n",
       " 'spin_z': -1212.84,\n",
       " 'trees': {'lhalotree': 'http://www.illustris-project.org/api/Illustris-3-Dark/snapshots/135/subhalos/4/lhalotree/full.hdf5',\n",
       "  'lhalotree_mpb': 'http://www.illustris-project.org/api/Illustris-3-Dark/snapshots/135/subhalos/4/lhalotree/mpb.hdf5',\n",
       "  'sublink': 'http://www.illustris-project.org/api/Illustris-3-Dark/snapshots/135/subhalos/4/sublink/full.hdf5',\n",
       "  'sublink_mdb': 'http://www.illustris-project.org/api/Illustris-3-Dark/snapshots/135/subhalos/4/sublink/mdb.hdf5',\n",
       "  'sublink_mpb': 'http://www.illustris-project.org/api/Illustris-3-Dark/snapshots/135/subhalos/4/sublink/mpb.hdf5',\n",
       "  'sublink_simple': 'http://www.illustris-project.org/api/Illustris-3-Dark/snapshots/135/subhalos/4/sublink/simple.json'},\n",
       " 'vel_x': -44.7704,\n",
       " 'vel_y': -838.089,\n",
       " 'vel_z': -1130.87,\n",
       " 'veldisp': 176.657,\n",
       " 'vis': {'halo_dm_dens': 'http://www.illustris-project.org/api/Illustris-3-Dark/snapshots/135/subhalos/4/vis.png?partType=dm',\n",
       "  'mergertree_sublink': 'http://www.illustris-project.org/api/Illustris-3-Dark/snapshots/135/subhalos/4/sublink/tree.png'},\n",
       " 'vmax': 304.102,\n",
       " 'vmaxrad': 94.7982}"
      ]
     },
     "execution_count": 53,
     "metadata": {},
     "output_type": "execute_result"
    }
   ],
   "source": [
    "get(\"http://www.illustris-project.org/api/Illustris-3-Dark/snapshots/135/subhalos/4/\")"
   ]
  },
  {
   "cell_type": "code",
   "execution_count": 56,
   "id": "60ca13ef",
   "metadata": {},
   "outputs": [
    {
     "data": {
      "text/plain": [
       "'http://www.illustris-project.org/api/Illustris-3-Dark/snapshots/135/subhalos/'"
      ]
     },
     "execution_count": 56,
     "metadata": {},
     "output_type": "execute_result"
    }
   ],
   "source": [
    "snap['subhalos']"
   ]
  },
  {
   "cell_type": "code",
   "execution_count": 57,
   "id": "8bb629fc",
   "metadata": {},
   "outputs": [],
   "source": [
    "subs = get(snap['subhalos'], {'limit':5, 'order_by':'-mass'})"
   ]
  },
  {
   "cell_type": "code",
   "execution_count": 58,
   "id": "d434323a",
   "metadata": {},
   "outputs": [
    {
     "data": {
      "text/plain": [
       "{'count': 111992,\n",
       " 'next': 'http://www.illustris-project.org/api/Illustris-3-Dark/snapshots/135/subhalos/?limit=5&offset=5&order_by=-mass',\n",
       " 'previous': None,\n",
       " 'results': [{'id': 0,\n",
       "   'mass_log_msun': 14.571219008531072,\n",
       "   'url': 'http://www.illustris-project.org/api/Illustris-3-Dark/snapshots/135/subhalos/0/'},\n",
       "  {'id': 574,\n",
       "   'mass_log_msun': 14.560458591098335,\n",
       "   'url': 'http://www.illustris-project.org/api/Illustris-3-Dark/snapshots/135/subhalos/574/'},\n",
       "  {'id': 961,\n",
       "   'mass_log_msun': 14.487772892185127,\n",
       "   'url': 'http://www.illustris-project.org/api/Illustris-3-Dark/snapshots/135/subhalos/961/'},\n",
       "  {'id': 1661,\n",
       "   'mass_log_msun': 14.317107281612147,\n",
       "   'url': 'http://www.illustris-project.org/api/Illustris-3-Dark/snapshots/135/subhalos/1661/'},\n",
       "  {'id': 1890,\n",
       "   'mass_log_msun': 14.289185946740965,\n",
       "   'url': 'http://www.illustris-project.org/api/Illustris-3-Dark/snapshots/135/subhalos/1890/'}]}"
      ]
     },
     "execution_count": 58,
     "metadata": {},
     "output_type": "execute_result"
    }
   ],
   "source": [
    "subs"
   ]
  },
  {
   "cell_type": "code",
   "execution_count": 61,
   "id": "baaf3f8a",
   "metadata": {},
   "outputs": [
    {
     "data": {
      "text/plain": [
       "[0, 574, 961, 1661, 1890]"
      ]
     },
     "execution_count": 61,
     "metadata": {},
     "output_type": "execute_result"
    }
   ],
   "source": [
    "[subs['results'][i]['id'] for i in range(5)]"
   ]
  },
  {
   "cell_type": "code",
   "execution_count": null,
   "id": "29f98fa8",
   "metadata": {},
   "outputs": [],
   "source": [
    "get"
   ]
  }
 ],
 "metadata": {
  "kernelspec": {
   "display_name": "Anaconda3 - 4.2.0",
   "language": "python",
   "name": "python3"
  },
  "language_info": {
   "codemirror_mode": {
    "name": "ipython",
    "version": 3
   },
   "file_extension": ".py",
   "mimetype": "text/x-python",
   "name": "python",
   "nbconvert_exporter": "python",
   "pygments_lexer": "ipython3",
   "version": "3.5.2"
  }
 },
 "nbformat": 4,
 "nbformat_minor": 5
}
