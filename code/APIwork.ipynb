{
 "cells": [
  {
   "cell_type": "code",
   "execution_count": 12,
   "id": "007f6320-ef0e-497a-af9b-38cc2349a9ba",
   "metadata": {},
   "outputs": [],
   "source": [
    "import requests"
   ]
  },
  {
   "cell_type": "code",
   "execution_count": 13,
   "id": "ae39c5f8-77d3-4c6e-b701-4d4d8d8ceecb",
   "metadata": {},
   "outputs": [],
   "source": [
    "baseUrl = 'http://www.illustris-project.org/api/'\n",
    "headers = {\"api-key\":\"a7c770df3fb83d41a97bb145b5c9eda4\"}"
   ]
  },
  {
   "cell_type": "code",
   "execution_count": 14,
   "id": "7f99ea96-5406-45d1-9c26-2694b98b618b",
   "metadata": {},
   "outputs": [],
   "source": [
    "def get(path, params = None):\n",
    "    #makes HHTP GET request to path\n",
    "    \n",
    "    r = requests.get(path, params=params, headers=headers)\n",
    "    \n",
    "    #reaise exception if response is not HTTP SUCCESS (200)\n",
    "    r.raise_for_status()\n",
    "    \n",
    "    if r.headers['content-type']== 'application/json':\n",
    "        return r.json() #parses json automagically\n",
    "    \n",
    "    return r"
   ]
  },
  {
   "cell_type": "code",
   "execution_count": 15,
   "id": "4618e61d-1e99-4045-8ae4-d59a155f9a8c",
   "metadata": {},
   "outputs": [],
   "source": [
    "r = get(baseUrl)"
   ]
  },
  {
   "cell_type": "code",
   "execution_count": 5,
   "id": "508140d1-885e-47cf-b028-8e3861a48f07",
   "metadata": {},
   "outputs": [
    {
     "name": "stdout",
     "output_type": "stream",
     "text": [
      "dict_keys(['simulations'])\n"
     ]
    }
   ],
   "source": [
    "print(r.keys())\n",
    "\n",
    "names = [sim['name'] for sim in r['simulations']]"
   ]
  },
  {
   "cell_type": "code",
   "execution_count": 6,
   "id": "8fb337c2",
   "metadata": {},
   "outputs": [],
   "source": [
    "i = names.index('Illustris-3-Dark')"
   ]
  },
  {
   "cell_type": "code",
   "execution_count": 10,
   "id": "b7b8137c",
   "metadata": {},
   "outputs": [
    {
     "name": "stdout",
     "output_type": "stream",
     "text": [
      "dict_keys(['name', 'description', 'name_alt', 'boxsize', 'z_start', 'z_final', 'cosmology', 'omega_0', 'omega_L', 'omega_B', 'hubble', 'physics_model', 'has_cooling', 'has_starformation', 'has_winds', 'has_blackholes', 'mass_gas', 'mass_dm', 'softening_dm_comoving', 'softening_stars_comoving', 'softening_blackholes_comoving', 'softening_gas_comoving', 'softening_dm_max_phys', 'softening_stars_max_phys', 'softening_blackholes_max_phys', 'softening_gas_max_phys', 'softening_gas_factor', 'softening_gas_comoving_min', 'num_dm', 'num_tr_mc', 'num_tr_vel', 'longids', 'is_uniform', 'is_zoom', 'is_subbox', 'num_files_snapshot', 'num_files_groupcat', 'num_files_rockstar', 'num_files_lhalotree', 'num_files_sublink', 'num_files_ctrees', 'filesize_lhalotree', 'filesize_sublink', 'filesize_ctrees', 'filesize_ics', 'filesize_simulation', 'has_fof', 'has_subfind', 'has_rockstar', 'has_lhalotree', 'has_sublink', 'has_ctrees', 'permission_required', 'num_snapshots', 'url', 'parent_simulation', 'child_simulations', 'files', 'checksums', 'snapshots'])\n"
     ]
    },
    {
     "data": {
      "text/plain": [
       "94196375"
      ]
     },
     "execution_count": 10,
     "metadata": {},
     "output_type": "execute_result"
    }
   ],
   "source": [
    "sim = get(r['simulations'][i]['url'])\n",
    "print(sim.keys())\n",
    "\n",
    "sim['num_dm']"
   ]
  },
  {
   "cell_type": "code",
   "execution_count": 8,
   "id": "8e68b72d",
   "metadata": {},
   "outputs": [
    {
     "data": {
      "text/plain": [
       "136"
      ]
     },
     "execution_count": 8,
     "metadata": {},
     "output_type": "execute_result"
    }
   ],
   "source": [
    "snaps = get(sim['snapshots'])\n",
    "len(snaps)"
   ]
  },
  {
   "cell_type": "code",
   "execution_count": 9,
   "id": "986acb94",
   "metadata": {},
   "outputs": [
    {
     "data": {
      "text/plain": [
       "{'number': 135,\n",
       " 'redshift': 2.2204460492503099e-16,\n",
       " 'num_groups_subfind': 111992,\n",
       " 'url': 'http://www.illustris-project.org/api/Illustris-3-Dark/snapshots/135/'}"
      ]
     },
     "execution_count": 9,
     "metadata": {},
     "output_type": "execute_result"
    }
   ],
   "source": [
    "# last snap is\n",
    "snaps[-1]"
   ]
  },
  {
   "cell_type": "code",
   "execution_count": 20,
   "id": "c2d712dc",
   "metadata": {},
   "outputs": [],
   "source": [
    "#to retrieve full metadata about a snapshot you can do\n",
    "# snap = get(snaps[-1]['url'])\n",
    "# snap"
   ]
  },
  {
   "cell_type": "code",
   "execution_count": 31,
   "id": "3108f2fe",
   "metadata": {},
   "outputs": [],
   "source": [
    "today_snapshots_url = sim['snapshots'] + \"z=0\""
   ]
  },
  {
   "cell_type": "code",
   "execution_count": 32,
   "id": "60ec7073",
   "metadata": {},
   "outputs": [],
   "source": [
    "snap = get(today_snapshots_url)"
   ]
  },
  {
   "cell_type": "code",
   "execution_count": 33,
   "id": "1842e6aa",
   "metadata": {},
   "outputs": [
    {
     "data": {
      "text/plain": [
       "{'simulation': 'http://www.illustris-project.org/api/Illustris-3-Dark/',\n",
       " 'number': 135,\n",
       " 'redshift': 2.2204460492503099e-16,\n",
       " 'num_gas': 0,\n",
       " 'num_dm': 94196375,\n",
       " 'num_trmc': 0,\n",
       " 'num_stars': 0,\n",
       " 'num_bhs': 0,\n",
       " 'num_groups_fof': 94028,\n",
       " 'num_groups_subfind': 111992,\n",
       " 'num_groups_rockstar': 0,\n",
       " 'filesize_snapshot': 3391122236.0,\n",
       " 'filesize_groupcat': 38768256.0,\n",
       " 'filesize_rockstar': 0.0,\n",
       " 'url': 'http://www.illustris-project.org/api/Illustris-3-Dark/snapshots/135/',\n",
       " 'subhalos': 'http://www.illustris-project.org/api/Illustris-3-Dark/snapshots/135/subhalos/',\n",
       " 'vis': {'groupcat_halo_sizemass': 'http://www.illustris-project.org/api/Illustris-3-Dark/snapshots/135/subhalos/plot.png?xQuant=mhalo_200_log&yQuant=rhalo_200&xlim=9.0%2C15.0'},\n",
       " 'files': {'snapshot': 'http://www.illustris-project.org/api/Illustris-3-Dark/files/snapshot-135/',\n",
       "  'groupcat': 'http://www.illustris-project.org/api/Illustris-3-Dark/files/groupcat-135/'}}"
      ]
     },
     "execution_count": 33,
     "metadata": {},
     "output_type": "execute_result"
    }
   ],
   "source": [
    "snap"
   ]
  },
  {
   "cell_type": "code",
   "execution_count": 41,
   "id": "2a85541a",
   "metadata": {},
   "outputs": [
    {
     "name": "stdout",
     "output_type": "stream",
     "text": [
      "SORRY!!!!!!! I SAID SORRY\n"
     ]
    }
   ],
   "source": [
    "print(\"SORRY!!!!!!! I SAID SORRY\")"
   ]
  },
  {
   "cell_type": "code",
   "execution_count": null,
   "id": "d94bed7f",
   "metadata": {},
   "outputs": [],
   "source": []
  }
 ],
 "metadata": {
  "kernelspec": {
   "display_name": "Python 3 (ipykernel)",
   "language": "python",
   "name": "python3"
  },
  "language_info": {
   "codemirror_mode": {
    "name": "ipython",
    "version": 3
   },
   "file_extension": ".py",
   "mimetype": "text/x-python",
   "name": "python",
   "nbconvert_exporter": "python",
   "pygments_lexer": "ipython3",
   "version": "3.9.7"
  }
 },
 "nbformat": 4,
 "nbformat_minor": 5
}
