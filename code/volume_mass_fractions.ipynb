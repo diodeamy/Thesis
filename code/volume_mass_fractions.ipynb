{
 "cells": [
  {
   "cell_type": "code",
   "execution_count": null,
   "id": "c98addc4",
   "metadata": {},
   "outputs": [],
   "source": [
    "import numpy as np\n",
    "import pandas as pd\n",
    "import pickle"
   ]
  },
  {
   "cell_type": "code",
   "execution_count": 1,
   "id": "09deb811",
   "metadata": {},
   "outputs": [],
   "source": [
    "# tempfile = \"/Users/users/nastase/PROJECT/DATA/nexus_outputs/MMF_outputs/output_133.a_den\""
   ]
  },
  {
   "cell_type": "code",
   "execution_count": null,
   "id": "4a4d2c89",
   "metadata": {},
   "outputs": [],
   "source": [
    "with open(f'/Users/users/nastase/PROJECT/DATA/nexus_outputs/particle_selecta/particle_ids_all.pickle', 'rb') as handle:\n",
    "    joined_dfs = pickle.load(handle)"
   ]
  },
  {
   "cell_type": "code",
   "execution_count": 2,
   "id": "ad6847cc",
   "metadata": {},
   "outputs": [],
   "source": [
    "def cwfracs_df(df, density):\n",
    "    # Preparing output structures\n",
    "    time_points = df.columns  # Assuming each column is a time point\n",
    "    vfracs_out = pd.DataFrame(index=time_points, columns=['f', 'v', 'w', 'n'])\n",
    "    mfracs_out = pd.DataFrame(index=time_points, columns=['f', 'v', 'w', 'n'])\n",
    "\n",
    "    # Process each time point\n",
    "    for col in df.columns:\n",
    "        # Get material counts and total counts\n",
    "        material_counts = df[col].value_counts()\n",
    "        total_count = len(df[col])\n",
    "\n",
    "        # Volume fractions\n",
    "        vfracs = material_counts / total_count\n",
    "\n",
    "        # Ensure all materials are present in the results, fill missing with zero\n",
    "        vfracs = vfracs.reindex(['f', 'v', 'w', 'n'], fill_value=0)\n",
    "\n",
    "        # Mass fractions: Calculate by multiplying volume fractions by their densities\n",
    "        mfracs = vfracs.copy()\n",
    "        for material in ['f', 'n', 'w', 'v']:\n",
    "            mfracs[material] *= density.get(material, 0)  # Use density or 0 if not found\n",
    "\n",
    "        # Normalize volume fractions to ensure sum to 100\n",
    "        vfracs_out.loc[col] = vfracs * 100\n",
    "        mfracs_out.loc[col] = mfracs * 100\n",
    "\n",
    "    return vfracs_out, mfracs_out\n"
   ]
  },
  {
   "cell_type": "code",
   "execution_count": null,
   "id": "7bf987f5",
   "metadata": {},
   "outputs": [],
   "source": []
  }
 ],
 "metadata": {
  "kernelspec": {
   "display_name": "Anaconda3 - 2023.03",
   "language": "python",
   "name": "python3-2023.03"
  },
  "language_info": {
   "codemirror_mode": {
    "name": "ipython",
    "version": 3
   },
   "file_extension": ".py",
   "mimetype": "text/x-python",
   "name": "python",
   "nbconvert_exporter": "python",
   "pygments_lexer": "ipython3",
   "version": "3.10.13"
  }
 },
 "nbformat": 4,
 "nbformat_minor": 5
}
