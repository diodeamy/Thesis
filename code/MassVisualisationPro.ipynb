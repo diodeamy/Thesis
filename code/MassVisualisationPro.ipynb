{
 "cells": [
  {
   "cell_type": "code",
   "execution_count": 19,
   "id": "c4a806d9",
   "metadata": {},
   "outputs": [],
   "source": [
    "import vaex\n",
    "import illustris_python as il\n",
    "import numpy as np\n",
    "import matplotlib as mpl\n",
    "import shared\n",
    "import matplotlib.pyplot as plt"
   ]
  },
  {
   "cell_type": "code",
   "execution_count": 20,
   "id": "0ce12dc1",
   "metadata": {},
   "outputs": [],
   "source": [
    "base_path = \"/Users/users/nastase/PROJECT/\""
   ]
  },
  {
   "cell_type": "code",
   "execution_count": null,
   "id": "8c1c60f5",
   "metadata": {},
   "outputs": [],
   "source": [
    "dm_pos = il.snapshot.loadSubset(base_path,135,'dm',['Coordinates'])\n",
    "plt.hist2d(dm_pos[:,0], dm_pos[:,1], norm=mpl.colors.LogNorm(), bins=64)\n",
    "plt.xlim([0,75000])\n",
    "plt.ylim([0,75000])\n",
    "plt.xlabel('x [ckpc/h]')\n",
    "plt.ylabel('y [ckpc/h]')\n",
    "plt.colorbar()"
   ]
  },
  {
   "cell_type": "code",
   "execution_count": null,
   "id": "0848124d",
   "metadata": {},
   "outputs": [],
   "source": []
  }
 ],
 "metadata": {
  "kernelspec": {
   "display_name": "Anaconda3 - 2023.03",
   "language": "python",
   "name": "python3-2023.03"
  },
  "language_info": {
   "codemirror_mode": {
    "name": "ipython",
    "version": 3
   },
   "file_extension": ".py",
   "mimetype": "text/x-python",
   "name": "python",
   "nbconvert_exporter": "python",
   "pygments_lexer": "ipython3",
   "version": "3.10.13"
  }
 },
 "nbformat": 4,
 "nbformat_minor": 5
}
