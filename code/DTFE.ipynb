{
 "cells": [
  {
   "cell_type": "code",
   "execution_count": 1,
   "id": "348edc96",
   "metadata": {},
   "outputs": [],
   "source": [
    "import numpy as np\n",
    "import illustris_python as il\n",
    "import matplotlib.pyplot as plt\n",
    "from shared.DTFE_utilities import DTFE"
   ]
  },
  {
   "cell_type": "code",
   "execution_count": 2,
   "id": "79d10b64",
   "metadata": {},
   "outputs": [],
   "source": [
    "base_path = \"/Users/users/nastase/PROJECT/\"\n",
    "snapnum = 49"
   ]
  },
  {
   "cell_type": "code",
   "execution_count": 3,
   "id": "00b5cc01",
   "metadata": {},
   "outputs": [],
   "source": [
    "dm_data = il.snapshot.loadSubset(base_path,snapnum,'dm',['Coordinates', 'Velocities'])\n",
    "dm_pos_all = dm_data['Coordinates']\n",
    "dm_vel_all = dm_data['Velocities']"
   ]
  },
  {
   "cell_type": "code",
   "execution_count": 4,
   "id": "4ea9e33e",
   "metadata": {},
   "outputs": [],
   "source": [
    "x_filter = (dm_pos_all[:,0] >= 20000) & (dm_pos_all[:,0] <= 21000)\n",
    "y_filter = (dm_pos_all[:,1] >= 20000) & (dm_pos_all[:,1] <= 21000)  \n",
    "z_filter = (dm_pos_all[:,2] >= 20000) & (dm_pos_all[:,2] <= 21000)    \n",
    "    \n",
    "total_filter = x_filter& y_filter & z_filter\n",
    "# total_filter = total_filter.reshape(-1)\n",
    "    \n",
    "dm_pos = dm_pos_all[total_filter]\n",
    "dm_vel = dm_vel_all[total_filter]"
   ]
  },
  {
   "cell_type": "code",
   "execution_count": 8,
   "id": "433116d9",
   "metadata": {
    "scrolled": true
   },
   "outputs": [
    {
     "data": {
      "text/plain": [
       "array([20209.705, 20085.305, 20034.453, 20056.441, 20064.22 , 20118.4  ,\n",
       "       20049.924, 20138.625, 20272.035, 20192.113, 20340.436, 20605.662,\n",
       "       20469.582, 20275.953, 20379.143, 20611.334, 20244.828, 20163.705,\n",
       "       20305.375, 20167.645, 20249.299, 20106.77 , 20481.695, 20333.555,\n",
       "       20593.188, 20329.602, 20484.264, 20253.586, 20168.535, 20172.502,\n",
       "       20115.068, 20137.893, 20252.74 , 20677.973, 20411.512, 20476.129,\n",
       "       20399.52 , 20637.898, 20478.264, 20100.977, 20212.488, 20320.219,\n",
       "       20369.666, 20509.838, 20645.219, 20493.48 , 20667.383, 20537.734,\n",
       "       20472.262, 20329.432, 20357.395, 20263.508, 20072.57 , 20041.383,\n",
       "       20015.861, 20114.291, 20151.582, 20058.543, 20291.174, 20301.418,\n",
       "       20664.76 , 20826.06 , 20789.574, 20820.273, 20690.918, 20917.729,\n",
       "       20893.91 , 20759.932, 20898.953, 20970.21 , 20950.008, 20698.21 ,\n",
       "       20944.84 , 20967.982, 20773.158, 20820.963, 20816.002, 20741.848,\n",
       "       20955.578, 20852.184, 20942.342, 20877.719, 20798.152, 20111.42 ,\n",
       "       20001.447, 20037.13 , 20218.324, 20392.658, 20424.861, 20579.025,\n",
       "       20647.549, 20426.912, 20233.   , 20144.584, 20235.31 , 20661.596,\n",
       "       20595.484, 20407.777, 20459.33 , 20618.291, 20331.867, 20245.1  ,\n",
       "       20169.008, 20016.582, 20118.023, 20010.178, 20529.494, 20366.969,\n",
       "       20143.842, 20223.8  , 20071.77 , 20166.523, 20086.   , 20180.701,\n",
       "       20030.719, 20495.37 , 20692.52 , 20570.08 , 20530.793, 20433.39 ,\n",
       "       20332.402], dtype=float32)"
      ]
     },
     "execution_count": 8,
     "metadata": {},
     "output_type": "execute_result"
    }
   ],
   "source": [
    "dm_pos[:,0]"
   ]
  },
  {
   "cell_type": "code",
   "execution_count": 5,
   "id": "e5545dc7",
   "metadata": {},
   "outputs": [],
   "source": [
    "mass = np.ones(len(dm_pos))"
   ]
  },
  {
   "cell_type": "code",
   "execution_count": 6,
   "id": "a3608e6e",
   "metadata": {},
   "outputs": [
    {
     "name": "stdout",
     "output_type": "stream",
     "text": [
      "Delaunay Tesselation Field Estimator initialization:\n",
      "\t-Evaluate Delaunay tessellation\n",
      "\t-Evaluate density estimate\n",
      "\t-Evaluate gradients\n"
     ]
    },
    {
     "ename": "TypingError",
     "evalue": "Failed in nopython mode pipeline (step: nopython frontend)\n\u001b[1mFailed in nopython mode pipeline (step: nopython frontend)\n\u001b[1m\u001b[1m\u001b[1mNo implementation of function Function(<intrinsic _impl>) found for signature:\n \n >>> _impl(array(float64, 2d, F), array(float32, 2d, C))\n \nThere are 2 candidate implementations:\n\u001b[1m  - Of which 2 did not match due to:\n  Intrinsic in function 'dot_2_impl.<locals>._impl': File: numba/np/linalg.py: Line 543.\n    With argument(s): '(array(float64, 2d, F), array(float32, 2d, C))':\u001b[0m\n\u001b[1m   Rejected as the implementation raised a specific error:\n     TypingError: \u001b[1m'@' arguments must all have the same dtype\u001b[0m\u001b[0m\n  raised from /Software/users/modules/7/software/anaconda3/2023.03/lib/python3.10/site-packages/numba/np/linalg.py:563\n\u001b[0m\n\u001b[0m\u001b[1mDuring: resolving callee type: Function(<intrinsic _impl>)\u001b[0m\n\u001b[0m\u001b[1mDuring: typing of call at /Software/users/modules/7/software/anaconda3/2023.03/lib/python3.10/site-packages/numba/np/linalg.py (582)\n\u001b[0m\n\u001b[1m\nFile \"../../../../../../Software/users/modules/7/software/anaconda3/2023.03/lib/python3.10/site-packages/numba/np/linalg.py\", line 582:\u001b[0m\n\u001b[1m            def _dot2_codegen(context, builder, sig, args):\n                <source elided>\n\n\u001b[1m        return lambda left, right: _impl(left, right)\n\u001b[0m        \u001b[1m^\u001b[0m\u001b[0m\n\n\u001b[0m\u001b[1mDuring: typing of intrinsic-call at /Users/users/nastase/GitBub/Thesis/code/shared/DTFE_utilities.py (45)\u001b[0m\n\u001b[1m\nFile \"shared/DTFE_utilities.py\", line 45:\u001b[0m\n\u001b[1mdef compute_gradients(pts: float64[:,:], simps: float64[:,:], rho: float64[:],\n    <source elided>\n        Drho[i] = Ainv @ np.array([r1 - r0, r2 - r0, r3 - r0])\n\u001b[1m        Dv[i] = Ainv @ np.stack((v1 - v0, v2 - v0, v3 - v0))\n\u001b[0m        \u001b[1m^\u001b[0m\u001b[0m\n",
     "output_type": "error",
     "traceback": [
      "\u001b[0;31m---------------------------------------------------------------------------\u001b[0m",
      "\u001b[0;31mTypingError\u001b[0m                               Traceback (most recent call last)",
      "File \u001b[0;32m<timed exec>:1\u001b[0m\n",
      "File \u001b[0;32m~/GitBub/Thesis/code/shared/DTFE_utilities.py:71\u001b[0m, in \u001b[0;36mDTFE.__init__\u001b[0;34m(self, points, velocities, m)\u001b[0m\n\u001b[1;32m     69\u001b[0m \u001b[38;5;66;03m#The gradients\u001b[39;00m\n\u001b[1;32m     70\u001b[0m \u001b[38;5;28mprint\u001b[39m(\u001b[38;5;124m\"\u001b[39m\u001b[38;5;130;01m\\t\u001b[39;00m\u001b[38;5;124m-Evaluate gradients\u001b[39m\u001b[38;5;124m\"\u001b[39m)\n\u001b[0;32m---> 71\u001b[0m \u001b[38;5;28mself\u001b[39m\u001b[38;5;241m.\u001b[39mDrho, \u001b[38;5;28mself\u001b[39m\u001b[38;5;241m.\u001b[39mDv \u001b[38;5;241m=\u001b[39m \u001b[43mcompute_gradients\u001b[49m\u001b[43m(\u001b[49m\u001b[38;5;28;43mself\u001b[39;49m\u001b[38;5;241;43m.\u001b[39;49m\u001b[43mdelaunay\u001b[49m\u001b[38;5;241;43m.\u001b[39;49m\u001b[43mpoints\u001b[49m\u001b[43m,\u001b[49m\u001b[43m \u001b[49m\u001b[38;5;28;43mself\u001b[39;49m\u001b[38;5;241;43m.\u001b[39;49m\u001b[43mdelaunay\u001b[49m\u001b[38;5;241;43m.\u001b[39;49m\u001b[43msimplices\u001b[49m\u001b[43m,\u001b[49m\n\u001b[1;32m     72\u001b[0m \u001b[43m                                       \u001b[49m\u001b[38;5;28;43mself\u001b[39;49m\u001b[38;5;241;43m.\u001b[39;49m\u001b[43mrho\u001b[49m\u001b[43m,\u001b[49m\u001b[43m \u001b[49m\u001b[38;5;28;43mself\u001b[39;49m\u001b[38;5;241;43m.\u001b[39;49m\u001b[43mvelocities\u001b[49m\u001b[43m)\u001b[49m\n",
      "File \u001b[0;32m/Software/users/modules/7/software/anaconda3/2023.03/lib/python3.10/site-packages/numba/core/dispatcher.py:468\u001b[0m, in \u001b[0;36m_DispatcherBase._compile_for_args\u001b[0;34m(self, *args, **kws)\u001b[0m\n\u001b[1;32m    464\u001b[0m         msg \u001b[38;5;241m=\u001b[39m (\u001b[38;5;124mf\u001b[39m\u001b[38;5;124m\"\u001b[39m\u001b[38;5;132;01m{\u001b[39;00m\u001b[38;5;28mstr\u001b[39m(e)\u001b[38;5;241m.\u001b[39mrstrip()\u001b[38;5;132;01m}\u001b[39;00m\u001b[38;5;124m \u001b[39m\u001b[38;5;130;01m\\n\u001b[39;00m\u001b[38;5;130;01m\\n\u001b[39;00m\u001b[38;5;124mThis error may have been caused \u001b[39m\u001b[38;5;124m\"\u001b[39m\n\u001b[1;32m    465\u001b[0m                \u001b[38;5;124mf\u001b[39m\u001b[38;5;124m\"\u001b[39m\u001b[38;5;124mby the following argument(s):\u001b[39m\u001b[38;5;130;01m\\n\u001b[39;00m\u001b[38;5;132;01m{\u001b[39;00margs_str\u001b[38;5;132;01m}\u001b[39;00m\u001b[38;5;130;01m\\n\u001b[39;00m\u001b[38;5;124m\"\u001b[39m)\n\u001b[1;32m    466\u001b[0m         e\u001b[38;5;241m.\u001b[39mpatch_message(msg)\n\u001b[0;32m--> 468\u001b[0m     \u001b[43merror_rewrite\u001b[49m\u001b[43m(\u001b[49m\u001b[43me\u001b[49m\u001b[43m,\u001b[49m\u001b[43m \u001b[49m\u001b[38;5;124;43m'\u001b[39;49m\u001b[38;5;124;43mtyping\u001b[39;49m\u001b[38;5;124;43m'\u001b[39;49m\u001b[43m)\u001b[49m\n\u001b[1;32m    469\u001b[0m \u001b[38;5;28;01mexcept\u001b[39;00m errors\u001b[38;5;241m.\u001b[39mUnsupportedError \u001b[38;5;28;01mas\u001b[39;00m e:\n\u001b[1;32m    470\u001b[0m     \u001b[38;5;66;03m# Something unsupported is present in the user code, add help info\u001b[39;00m\n\u001b[1;32m    471\u001b[0m     error_rewrite(e, \u001b[38;5;124m'\u001b[39m\u001b[38;5;124munsupported_error\u001b[39m\u001b[38;5;124m'\u001b[39m)\n",
      "File \u001b[0;32m/Software/users/modules/7/software/anaconda3/2023.03/lib/python3.10/site-packages/numba/core/dispatcher.py:409\u001b[0m, in \u001b[0;36m_DispatcherBase._compile_for_args.<locals>.error_rewrite\u001b[0;34m(e, issue_type)\u001b[0m\n\u001b[1;32m    407\u001b[0m     \u001b[38;5;28;01mraise\u001b[39;00m e\n\u001b[1;32m    408\u001b[0m \u001b[38;5;28;01melse\u001b[39;00m:\n\u001b[0;32m--> 409\u001b[0m     \u001b[38;5;28;01mraise\u001b[39;00m e\u001b[38;5;241m.\u001b[39mwith_traceback(\u001b[38;5;28;01mNone\u001b[39;00m)\n",
      "\u001b[0;31mTypingError\u001b[0m: Failed in nopython mode pipeline (step: nopython frontend)\n\u001b[1mFailed in nopython mode pipeline (step: nopython frontend)\n\u001b[1m\u001b[1m\u001b[1mNo implementation of function Function(<intrinsic _impl>) found for signature:\n \n >>> _impl(array(float64, 2d, F), array(float32, 2d, C))\n \nThere are 2 candidate implementations:\n\u001b[1m  - Of which 2 did not match due to:\n  Intrinsic in function 'dot_2_impl.<locals>._impl': File: numba/np/linalg.py: Line 543.\n    With argument(s): '(array(float64, 2d, F), array(float32, 2d, C))':\u001b[0m\n\u001b[1m   Rejected as the implementation raised a specific error:\n     TypingError: \u001b[1m'@' arguments must all have the same dtype\u001b[0m\u001b[0m\n  raised from /Software/users/modules/7/software/anaconda3/2023.03/lib/python3.10/site-packages/numba/np/linalg.py:563\n\u001b[0m\n\u001b[0m\u001b[1mDuring: resolving callee type: Function(<intrinsic _impl>)\u001b[0m\n\u001b[0m\u001b[1mDuring: typing of call at /Software/users/modules/7/software/anaconda3/2023.03/lib/python3.10/site-packages/numba/np/linalg.py (582)\n\u001b[0m\n\u001b[1m\nFile \"../../../../../../Software/users/modules/7/software/anaconda3/2023.03/lib/python3.10/site-packages/numba/np/linalg.py\", line 582:\u001b[0m\n\u001b[1m            def _dot2_codegen(context, builder, sig, args):\n                <source elided>\n\n\u001b[1m        return lambda left, right: _impl(left, right)\n\u001b[0m        \u001b[1m^\u001b[0m\u001b[0m\n\n\u001b[0m\u001b[1mDuring: typing of intrinsic-call at /Users/users/nastase/GitBub/Thesis/code/shared/DTFE_utilities.py (45)\u001b[0m\n\u001b[1m\nFile \"shared/DTFE_utilities.py\", line 45:\u001b[0m\n\u001b[1mdef compute_gradients(pts: float64[:,:], simps: float64[:,:], rho: float64[:],\n    <source elided>\n        Drho[i] = Ainv @ np.array([r1 - r0, r2 - r0, r3 - r0])\n\u001b[1m        Dv[i] = Ainv @ np.stack((v1 - v0, v2 - v0, v3 - v0))\n\u001b[0m        \u001b[1m^\u001b[0m\u001b[0m\n"
     ]
    }
   ],
   "source": [
    "%%time\n",
    "dtfe = DTFE(dm_pos, dm_vel, mass)"
   ]
  },
  {
   "cell_type": "code",
   "execution_count": null,
   "id": "19b310a4",
   "metadata": {},
   "outputs": [],
   "source": []
  }
 ],
 "metadata": {
  "@webio": {
   "lastCommId": null,
   "lastKernelId": null
  },
  "kernelspec": {
   "display_name": "Anaconda3 - 2023.03",
   "language": "python",
   "name": "python3-2023.03"
  },
  "language_info": {
   "codemirror_mode": {
    "name": "ipython",
    "version": 3
   },
   "file_extension": ".py",
   "mimetype": "text/x-python",
   "name": "python",
   "nbconvert_exporter": "python",
   "pygments_lexer": "ipython3",
   "version": "3.10.13"
  }
 },
 "nbformat": 4,
 "nbformat_minor": 5
}
