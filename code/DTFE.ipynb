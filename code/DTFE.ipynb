{
 "cells": [
  {
   "cell_type": "code",
   "execution_count": 1,
   "id": "348edc96",
   "metadata": {},
   "outputs": [],
   "source": [
    "import numpy as np\n",
    "import illustris_python as il\n",
    "import matplotlib.pyplot as plt\n",
    "from shared.DTFE_utilities import DTFE"
   ]
  },
  {
   "cell_type": "code",
   "execution_count": 2,
   "id": "79d10b64",
   "metadata": {},
   "outputs": [],
   "source": [
    "base_path = \"/Users/users/nastase/PROJECT/\"\n",
    "snapnum = 135"
   ]
  },
  {
   "cell_type": "code",
   "execution_count": 3,
   "id": "00b5cc01",
   "metadata": {},
   "outputs": [],
   "source": [
    "dm_data = il.snapshot.loadSubset(base_path,snapnum,'dm',['Coordinates', 'Velocities'])\n",
    "dm_pos_all = dm_data['Coordinates']\n",
    "dm_vel_all = dm_data['Velocities']"
   ]
  },
  {
   "cell_type": "code",
   "execution_count": 4,
   "id": "a732f122",
   "metadata": {},
   "outputs": [],
   "source": [
    "x_filter = (dm_pos_all[:,0] >= 20000) & (dm_pos_all[:,0] <= 30000)\n",
    "y_filter = (dm_pos_all[:,1] >= 20000) & (dm_pos_all[:,1] <= 30000)  \n",
    "z_filter = (dm_pos_all[:,2] >= 20000) & (dm_pos_all[:,2] <= 30000)    \n",
    "    \n",
    "total_filter = x_filter& y_filter & z_filter\n",
    "# total_filter = total_filter.reshape(-1)\n",
    "    \n",
    "dm_pos = dm_pos_all[total_filter].astype(np.float64)\n",
    "dm_vel = dm_vel_all[total_filter].astype(np.float64)"
   ]
  },
  {
   "cell_type": "code",
   "execution_count": 5,
   "id": "e5545dc7",
   "metadata": {},
   "outputs": [],
   "source": [
    "mass = np.ones(len(dm_pos))"
   ]
  },
  {
   "cell_type": "code",
   "execution_count": 6,
   "id": "a3608e6e",
   "metadata": {},
   "outputs": [
    {
     "name": "stdout",
     "output_type": "stream",
     "text": [
      "Delaunay Tesselation Field Estimator initialization:\n",
      "\t-Evaluate Delaunay tessellation\n",
      "\t-Evaluate density estimate\n",
      "\t-Evaluate gradients\n",
      "CPU times: user 10.3 s, sys: 294 ms, total: 10.6 s\n",
      "Wall time: 12 s\n"
     ]
    }
   ],
   "source": [
    "%%time\n",
    "dtfe = DTFE(dm_pos, mass)"
   ]
  },
  {
   "cell_type": "code",
   "execution_count": 7,
   "id": "48e1a52d",
   "metadata": {},
   "outputs": [],
   "source": [
    "def densPlot(data, imageSize):\n",
    "    X = np.arange(0, data.shape[0])\n",
    "    Y = np.arange(0, data.shape[1])\n",
    "    X, Y = np.meshgrid(X, Y)\n",
    "\n",
    "    plt.figure(figsize=(imageSize, imageSize))\n",
    "    plt.pcolormesh(X, Y, data, shading='auto')\n",
    "    plt.axis(\"equal\")\n",
    "    plt.show()"
   ]
  },
  {
   "cell_type": "code",
   "execution_count": 8,
   "id": "a7d697cd",
   "metadata": {},
   "outputs": [],
   "source": [
    "L = 128\n",
    "sigma = 8\n",
    "gamma = 1"
   ]
  },
  {
   "cell_type": "code",
   "execution_count": 9,
   "id": "72528e56",
   "metadata": {},
   "outputs": [
    {
     "name": "stdout",
     "output_type": "stream",
     "text": [
      "CPU times: user 4 µs, sys: 0 ns, total: 4 µs\n",
      "Wall time: 7.15 µs\n"
     ]
    },
    {
     "name": "stderr",
     "output_type": "stream",
     "text": [
      "/var/lib/condor/execute/dir_6739/ipykernel_36638/3189670364.py:7: RuntimeWarning: invalid value encountered in log\n",
      "  densPlot(np.log(dens), 10)\n"
     ]
    },
    {
     "data": {
      "image/png": "[encoded data removed]",
      "text/plain": [
       "<Figure size 1000x1000 with 1 Axes>"
      ]
     },
     "metadata": {},
     "output_type": "display_data"
    }
   ],
   "source": [
    "%time\n",
    "n = int(4 * L)\n",
    "X, Y = np.meshgrid(np.arange(0.1 * L, 0.9 * L, 0.8 * L / n),   \n",
    "                   np.arange(0.1 * L, 0.9 * L, 0.8 * L / n))\n",
    "\n",
    "dens  = dtfe.density(X.flat, Y.flat, np.full_like(X, int(L / 2)).flat).reshape((n,n))\n",
    "densPlot(np.log(dens), 10)"
   ]
  },
  {
   "cell_type": "code",
   "execution_count": null,
   "id": "e082eeac",
   "metadata": {},
   "outputs": [],
   "source": []
  }
 ],
 "metadata": {
  "@webio": {
   "lastCommId": null,
   "lastKernelId": null
  },
  "kernelspec": {
   "display_name": "Anaconda3 - 2023.03",
   "language": "python",
   "name": "python3-2023.03"
  },
  "language_info": {
   "codemirror_mode": {
    "name": "ipython",
    "version": 3
   },
   "file_extension": ".py",
   "mimetype": "text/x-python",
   "name": "python",
   "nbconvert_exporter": "python",
   "pygments_lexer": "ipython3",
   "version": "3.10.13"
  }
 },
 "nbformat": 4,
 "nbformat_minor": 5
}
