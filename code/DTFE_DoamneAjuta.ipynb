{
 "cells": [
  {
   "cell_type": "markdown",
   "id": "2e57f9e2",
   "metadata": {},
   "source": [
    "## Import libraries and define (reduced) DTFE class"
   ]
  },
  {
   "cell_type": "code",
   "execution_count": 1,
   "id": "81011d30",
   "metadata": {},
   "outputs": [],
   "source": [
    "#Load the numpy and scipy libraries\n",
    "import numpy as np\n",
    "from scipy.spatial import Delaunay\n",
    "import numba\n",
    "from numba import float32, float64, int64\n",
    "from typing import Union\n",
    "from matplotlib import pyplot as plt\n",
    "\n",
    "@numba.jit(nopython=True, nogil=True)\n",
    "def tetrahedron_volume(sim: int64[:], points: float64[:,:]):\n",
    "    return abs(np.linalg.det(np.stack((points[sim[1]] - points[sim[0]], \n",
    "                                       points[sim[2]] - points[sim[0]],\n",
    "                                       points[sim[3]] - points[sim[0]])))) / 6\n",
    "\n",
    "@numba.jit(nopython=True, nogil=True)\n",
    "def compute_densities(pts: float64[:,:], simps: float64[:,:],\n",
    "                      m: Union[float64, float64[:]]) -> np.ndarray:\n",
    "    M = len(pts)\n",
    "    rho = np.zeros(M, dtype='float64')\n",
    "    for sim in simps:\n",
    "        vol = tetrahedron_volume(sim, pts)\n",
    "        for index in sim:\n",
    "            rho[index] += vol\n",
    "    return (3 + 1) * m / rho\n",
    "\n",
    "@numba.jit(nopython=True, nogil=True)\n",
    "def compute_gradients(pts, simps, rho):\n",
    "    N = len(simps)\n",
    "    Drho = np.zeros((N, 3), dtype='float64')\n",
    "    Dv   = np.zeros((N, 3, 3), dtype='float64')\n",
    "\n",
    "    for i, s in enumerate(simps):\n",
    "        [p0, p1, p2, p3] = pts[s]\n",
    "        [r0, r1, r2, r3] = rho[s]\n",
    "        #[v0, v1, v2, v3] = v[s]\n",
    "\n",
    "        Ainv: float64[:,:] = np.linalg.inv(np.stack((p1 - p0, p2 - p0, p3 - p0)))\n",
    "        Drho[i] = Ainv @ np.array([r1 - r0, r2 - r0, r3 - r0])\n",
    "        #Dv[i] = Ainv @ np.stack((v1 - v0, v2 - v0, v3 - v0))\n",
    "    return Drho\n",
    "\n",
    "@numba.jit(nopython=True, nogil=True)\n",
    "def map_affine(a, b, c):\n",
    "    assert(len(a) == len(b) == len(c))\n",
    "    result = np.zeros_like(a)\n",
    "    for i in range(len(a)):\n",
    "        result[i] = a[i] + b[i] @ c[i]\n",
    "    return result\n",
    "\n",
    "#The Delaunay Tesselation Field Estimator \n",
    "class DTFE:\n",
    "    def __init__(self, points, m):\n",
    "        print(\"Delaunay Tesselation Field Estimator initialization:\")\n",
    "        #self.velocities = velocities\n",
    "        print(\"\\t-Evaluate Delaunay tessellation\")\n",
    "        self.delaunay = Delaunay(points)\n",
    "        \n",
    "        #Area of a triangle\n",
    "        \n",
    "        #The density estimate\n",
    "        print(\"\\t-Evaluate density estimate\")\n",
    "        self.rho = compute_densities(self.delaunay.points, self.delaunay.simplices, m)\n",
    "        #The gradients\n",
    "        print(\"\\t-Evaluate gradients\")\n",
    "        self.Drho = compute_gradients(self.delaunay.points, self.delaunay.simplices,\n",
    "                                               self.rho)\n",
    "\n",
    "    #The interpolations\n",
    "    def density(self, x, y, z):\n",
    "        simplexIndex = self.delaunay.find_simplex(np.c_[x, y, z])\n",
    "        pointIndex   = self.delaunay.simplices[simplexIndex][...,0]\n",
    "        return map_affine(self.rho[pointIndex], self.Drho[simplexIndex],\n",
    "                          np.c_[x, y, z] - self.delaunay.points[pointIndex])"
   ]
  },
  {
   "cell_type": "markdown",
   "id": "faab3555",
   "metadata": {},
   "source": [
    "# ILLUSTIS TIME"
   ]
  },
  {
   "cell_type": "code",
   "execution_count": 2,
   "id": "6e80c4aa",
   "metadata": {},
   "outputs": [],
   "source": [
    "from pathlib import Path\n",
    "import vaex\n",
    "from matplotlib import pyplot as plt\n",
    "import numpy as np\n",
    "import pandas as pd\n",
    "\n",
    "from matplotlib import animation\n",
    "\n",
    "from scipy.optimize import minimize, curve_fit\n",
    "\n",
    "from scipy import interpolate\n",
    "from scipy import ndimage\n",
    "\n",
    "import illustris_python as il"
   ]
  },
  {
   "cell_type": "code",
   "execution_count": 3,
   "id": "7d2e0f30",
   "metadata": {},
   "outputs": [],
   "source": [
    "base_path = \"/Users/users/nastase/PROJECT/\"\n",
    "snapshot_number = 133\n",
    "\n",
    "dm_data = il.snapshot.loadSubset(base_path, snapshot_number,'dm', ['Coordinates', 'Velocities'])\n",
    "dm_pos_all = dm_data['Coordinates']\n",
    "dm_vel_all = dm_data['Velocities']"
   ]
  },
  {
   "cell_type": "code",
   "execution_count": 4,
   "id": "c637424d",
   "metadata": {},
   "outputs": [],
   "source": [
    "x_min, x_max = 10_000, 25_000\n",
    "y_min, y_max = 10_000, 25_000\n",
    "z_min, z_max = 10_000, 25_000\n",
    "\n",
    "x_filter = (dm_pos_all[:,0] >= x_min) & (dm_pos_all[:,0] <= x_max)\n",
    "y_filter = (dm_pos_all[:,1] >= y_min) & (dm_pos_all[:,1] <= y_max) \n",
    "z_filter = (dm_pos_all[:,2] >= z_min) & (dm_pos_all[:,2] <= z_max)\n",
    "\n",
    "data_filter = x_filter & y_filter & z_filter\n",
    "\n",
    "dm_pos_subset = dm_pos_all[data_filter].astype(np.float64)"
   ]
  },
  {
   "cell_type": "code",
   "execution_count": 6,
   "id": "1dc7bb8a",
   "metadata": {},
   "outputs": [],
   "source": [
    "wid = 750\n",
    "\n",
    "p=dm_pos_subset\n",
    "m=np.ones_like(len(dm_pos_all)).astype(np.float64)"
   ]
  },
  {
   "cell_type": "code",
   "execution_count": 7,
   "id": "68fab87c",
   "metadata": {},
   "outputs": [
    {
     "name": "stdout",
     "output_type": "stream",
     "text": [
      "Delaunay Tesselation Field Estimator initialization:\n",
      "\t-Evaluate Delaunay tessellation\n",
      "\t-Evaluate density estimate\n",
      "\t-Evaluate gradients\n",
      "CPU times: user 56.7 s, sys: 2.28 s, total: 58.9 s\n",
      "Wall time: 1min 58s\n"
     ]
    }
   ],
   "source": [
    "%%time\n",
    "dtfe = DTFE(p, m)"
   ]
  },
  {
   "cell_type": "code",
   "execution_count": 30,
   "id": "f153398c",
   "metadata": {},
   "outputs": [],
   "source": [
    "L = x_max - x_min\n",
    "n = 256\n",
    "\n",
    "X,Y,Z = np.meshgrid(np.linspace(-L/2,L/2,n),np.linspace(-L/2,L/2,n),np.linspace(-wid/2,wid/2,n))\n",
    "\n",
    "d= dtfe.density(X.flatten(),Y.flatten(),Z.flatten())"
   ]
  },
  {
   "cell_type": "code",
   "execution_count": 31,
   "id": "90d64d29",
   "metadata": {},
   "outputs": [],
   "source": [
    "den = d.reshape(n,n,n)"
   ]
  },
  {
   "cell_type": "code",
   "execution_count": 32,
   "id": "cb4e955e",
   "metadata": {},
   "outputs": [],
   "source": [
    "dens = den[1:n-1,1:n-1,1:n-1]"
   ]
  },
  {
   "cell_type": "code",
   "execution_count": 33,
   "id": "90013357",
   "metadata": {},
   "outputs": [
    {
     "data": {
      "text/plain": [
       "679.4245595921024"
      ]
     },
     "execution_count": 33,
     "metadata": {},
     "output_type": "execute_result"
    }
   ],
   "source": [
    "np.max((dens[:,:,int(n/2 -1)]))"
   ]
  },
  {
   "cell_type": "code",
   "execution_count": 34,
   "id": "d376598e",
   "metadata": {},
   "outputs": [
    {
     "data": {
      "text/plain": [
       "16777216"
      ]
     },
     "execution_count": 34,
     "metadata": {},
     "output_type": "execute_result"
    }
   ],
   "source": [
    "256**3"
   ]
  },
  {
   "cell_type": "code",
   "execution_count": 35,
   "id": "112d92fb",
   "metadata": {},
   "outputs": [
    {
     "data": {
      "text/plain": [
       "16777216"
      ]
     },
     "execution_count": 35,
     "metadata": {},
     "output_type": "execute_result"
    }
   ],
   "source": [
    "len(d)"
   ]
  },
  {
   "cell_type": "code",
   "execution_count": 36,
   "id": "c9fdef0f",
   "metadata": {},
   "outputs": [
    {
     "data": {
      "text/plain": [
       "(254, 254, 254)"
      ]
     },
     "execution_count": 36,
     "metadata": {},
     "output_type": "execute_result"
    }
   ],
   "source": [
    "np.shape(dens)"
   ]
  },
  {
   "cell_type": "code",
   "execution_count": 37,
   "id": "20e469cb",
   "metadata": {},
   "outputs": [
    {
     "data": {
      "image/png": "[encoded data removed]",
      "text/plain": [
       "<Figure size 640x480 with 2 Axes>"
      ]
     },
     "metadata": {},
     "output_type": "display_data"
    }
   ],
   "source": [
    "plt.imshow(dens[:,:,int(n/2 -1)],norm=\"log\",origin=\"lower\",vmin =1e-8,vmax = 1e-3)\n",
    "plt.yticks(np.linspace(0,n-2,5), np.linspace(-L/2,L/2,5,dtype=int))\n",
    "plt.xticks(np.linspace(0,n-2,5), np.linspace(-L/2,L/2,5,dtype=int))\n",
    "\n",
    "plt.title(\"Physical Space DTFE\")\n",
    "plt.colorbar()\n",
    "plt.show()"
   ]
  },
  {
   "cell_type": "code",
   "execution_count": null,
   "id": "8ab3a01f",
   "metadata": {},
   "outputs": [],
   "source": []
  }
 ],
 "metadata": {
  "@webio": {
   "lastCommId": null,
   "lastKernelId": null
  },
  "kernelspec": {
   "display_name": "Anaconda3 - 2023.03",
   "language": "python",
   "name": "python3-2023.03"
  },
  "language_info": {
   "codemirror_mode": {
    "name": "ipython",
    "version": 3
   },
   "file_extension": ".py",
   "mimetype": "text/x-python",
   "name": "python",
   "nbconvert_exporter": "python",
   "pygments_lexer": "ipython3",
   "version": "3.10.13"
  }
 },
 "nbformat": 4,
 "nbformat_minor": 5
}
