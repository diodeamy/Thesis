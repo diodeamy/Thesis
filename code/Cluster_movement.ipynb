{
 "cells": [
  {
   "cell_type": "raw",
   "id": "e0c2a2f6",
   "metadata": {},
   "source": [
    "Largest subhalo IDs for z = 0.00 and z = 5.00:\n",
    "\n",
    "- [0, 30, 24, 40, 6] for z = 5.00 (snapshot 49)\n",
    "\n",
    "- [0, 574, 961, 1661, 1890] for z = 0 (snapshot 135) "
   ]
  },
  {
   "cell_type": "code",
   "execution_count": 1,
   "id": "293fb706",
   "metadata": {},
   "outputs": [],
   "source": [
    "from shared.utilities import get_coordinates_for_particleIDs, get_redshift_dictionary,get_snapshot_cluster_coordinates"
   ]
  },
  {
   "cell_type": "code",
   "execution_count": 2,
   "id": "d08cd91d",
   "metadata": {},
   "outputs": [],
   "source": [
    "redshift_snapshot_dict = get_redshift_dictionary()"
   ]
  },
  {
   "cell_type": "code",
   "execution_count": 3,
   "id": "b6b5938c",
   "metadata": {},
   "outputs": [],
   "source": [
    "snapshot_values = list(redshift_snapshot_dict.keys())"
   ]
  },
  {
   "cell_type": "markdown",
   "id": "692f5803",
   "metadata": {},
   "source": [
    "# now -> earlier"
   ]
  },
  {
   "cell_type": "markdown",
   "id": "d10da31e",
   "metadata": {},
   "source": [
    "## Subhalo 0"
   ]
  },
  {
   "cell_type": "code",
   "execution_count": null,
   "id": "7c1afc71",
   "metadata": {},
   "outputs": [],
   "source": [
    "coordinates_n_0 = get_snapshot_cluster_coordinates(135, 0, snapshot_values)"
   ]
  },
  {
   "cell_type": "markdown",
   "id": "606c8cf3",
   "metadata": {},
   "source": [
    "# earlier -> now"
   ]
  },
  {
   "cell_type": "markdown",
   "id": "33952138",
   "metadata": {},
   "source": [
    "## Subhalo 0"
   ]
  }
 ],
 "metadata": {
  "@webio": {
   "lastCommId": null,
   "lastKernelId": null
  },
  "kernelspec": {
   "display_name": "Anaconda3 - 2023.03",
   "language": "python",
   "name": "python3-2023.03"
  },
  "language_info": {
   "codemirror_mode": {
    "name": "ipython",
    "version": 3
   },
   "file_extension": ".py",
   "mimetype": "text/x-python",
   "name": "python",
   "nbconvert_exporter": "python",
   "pygments_lexer": "ipython3",
   "version": "3.10.13"
  }
 },
 "nbformat": 4,
 "nbformat_minor": 5
}
