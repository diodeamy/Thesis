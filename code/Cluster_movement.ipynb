{
 "cells": [
  {
   "cell_type": "raw",
   "id": "e0c2a2f6",
   "metadata": {},
   "source": [
    "Largest subhalo IDs for z = 0.00 and z = 5.00:\n",
    "\n",
    "- [0, 30, 24, 40, 6] for z = 5.00 (snapshot 49)\n",
    "\n",
    "- [0, 574, 961, 1661, 1890] for z = 0 (snapshot 135) "
   ]
  },
  {
   "cell_type": "code",
   "execution_count": 32,
   "id": "293fb706",
   "metadata": {},
   "outputs": [],
   "source": [
    "from shared.utilities import get_coordinates_for_particleIDs, get_redshift_dictionary,get_snapshot_cluster_coordinates"
   ]
  },
  {
   "cell_type": "code",
   "execution_count": 33,
   "id": "f65ee5a1",
   "metadata": {},
   "outputs": [],
   "source": [
    "base_path = \"/Users/users/nastase/PROJECT/\""
   ]
  },
  {
   "cell_type": "code",
   "execution_count": 34,
   "id": "d08cd91d",
   "metadata": {},
   "outputs": [],
   "source": [
    "redshift_snapshot_dict = get_redshift_dictionary()"
   ]
  },
  {
   "cell_type": "code",
   "execution_count": 35,
   "id": "b6b5938c",
   "metadata": {},
   "outputs": [],
   "source": [
    "snapshot_values = list(redshift_snapshot_dict.keys())"
   ]
  },
  {
   "cell_type": "markdown",
   "id": "692f5803",
   "metadata": {},
   "source": [
    "# now -> earlier"
   ]
  },
  {
   "cell_type": "markdown",
   "id": "d10da31e",
   "metadata": {},
   "source": [
    "## Subhalo 0"
   ]
  },
  {
   "cell_type": "code",
   "execution_count": 36,
   "id": "7c1afc71",
   "metadata": {},
   "outputs": [
    {
     "ename": "NameError",
     "evalue": "name 'base_path' is not defined",
     "output_type": "error",
     "traceback": [
      "\u001b[0;31m---------------------------------------------------------------------------\u001b[0m",
      "\u001b[0;31mNameError\u001b[0m                                 Traceback (most recent call last)",
      "Cell \u001b[0;32mIn[36], line 1\u001b[0m\n\u001b[0;32m----> 1\u001b[0m coordinates_n_0 \u001b[38;5;241m=\u001b[39m \u001b[43mget_snapshot_cluster_coordinates\u001b[49m\u001b[43m(\u001b[49m\u001b[38;5;241;43m135\u001b[39;49m\u001b[43m,\u001b[49m\u001b[43m \u001b[49m\u001b[38;5;241;43m0\u001b[39;49m\u001b[43m,\u001b[49m\u001b[43m \u001b[49m\u001b[43msnapshot_values\u001b[49m\u001b[43m)\u001b[49m\n",
      "File \u001b[0;32m~/GitBub/Thesis/code/shared/utilities.py:81\u001b[0m, in \u001b[0;36mget_snapshot_cluster_coordinates\u001b[0;34m(base_snapshot_id, subhalo_id, test_snapshot_ids)\u001b[0m\n\u001b[1;32m     78\u001b[0m \u001b[38;5;28;01mimport\u001b[39;00m \u001b[38;5;21;01mmatplotlib\u001b[39;00m \u001b[38;5;28;01mas\u001b[39;00m \u001b[38;5;21;01mmpl\u001b[39;00m\n\u001b[1;32m     79\u001b[0m \u001b[38;5;28;01mimport\u001b[39;00m \u001b[38;5;21;01mshared\u001b[39;00m\n\u001b[0;32m---> 81\u001b[0m subhalo \u001b[38;5;241m=\u001b[39m il\u001b[38;5;241m.\u001b[39msnapshot\u001b[38;5;241m.\u001b[39mloadSubhalo(\u001b[43mbase_path\u001b[49m, base_snapshot_id, subhalo_id, \u001b[38;5;124m'\u001b[39m\u001b[38;5;124mDM\u001b[39m\u001b[38;5;124m'\u001b[39m)\n\u001b[1;32m     82\u001b[0m subhalo_particle_ids \u001b[38;5;241m=\u001b[39m subhalo[\u001b[38;5;124m'\u001b[39m\u001b[38;5;124mParticleIDs\u001b[39m\u001b[38;5;124m'\u001b[39m]\n\u001b[1;32m     83\u001b[0m subhalo_coordinates \u001b[38;5;241m=\u001b[39m subhalo[\u001b[38;5;124m'\u001b[39m\u001b[38;5;124mCoordinates\u001b[39m\u001b[38;5;124m'\u001b[39m]\n",
      "\u001b[0;31mNameError\u001b[0m: name 'base_path' is not defined"
     ]
    }
   ],
   "source": [
    "coordinates_n_0 = get_snapshot_cluster_coordinates(135, 0, snapshot_values)"
   ]
  },
  {
   "cell_type": "markdown",
   "id": "606c8cf3",
   "metadata": {},
   "source": [
    "# earlier -> now"
   ]
  },
  {
   "cell_type": "markdown",
   "id": "33952138",
   "metadata": {},
   "source": [
    "## Subhalo 0"
   ]
  }
 ],
 "metadata": {
  "@webio": {
   "lastCommId": null,
   "lastKernelId": null
  },
  "kernelspec": {
   "display_name": "Anaconda3 - 2023.03",
   "language": "python",
   "name": "python3-2023.03"
  },
  "language_info": {
   "codemirror_mode": {
    "name": "ipython",
    "version": 3
   },
   "file_extension": ".py",
   "mimetype": "text/x-python",
   "name": "python",
   "nbconvert_exporter": "python",
   "pygments_lexer": "ipython3",
   "version": "3.10.13"
  }
 },
 "nbformat": 4,
 "nbformat_minor": 5
}
