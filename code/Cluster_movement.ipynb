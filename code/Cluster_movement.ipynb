{
 "cells": [
  {
   "cell_type": "markdown",
   "id": "0a8393e5",
   "metadata": {},
   "source": [
    "Largest subhalo IDs for z = 0.00 and z = 5.00:\n",
    "\n",
    "- [0, 30, 24, 40, 6] for z = 5.00 (snapshot 49)\n",
    "\n",
    "- [0, 574, 961, 1661, 1890] for z = 0 (snapshot 135) "
   ]
  },
  {
   "cell_type": "code",
   "execution_count": 2,
   "id": "9e776ef7",
   "metadata": {},
   "outputs": [],
   "source": [
    "from shared.utilities import get_coordinates_for_particleIDs, get_redshift_dictionary,get_snapshot_cluster_coordinates"
   ]
  },
  {
   "cell_type": "code",
   "execution_count": null,
   "id": "4fd2ec1a",
   "metadata": {},
   "outputs": [],
   "source": []
  }
 ],
 "metadata": {
  "kernelspec": {
   "display_name": "Anaconda3 - 2023.03",
   "language": "python",
   "name": "python3-2023.03"
  },
  "language_info": {
   "codemirror_mode": {
    "name": "ipython",
    "version": 3
   },
   "file_extension": ".py",
   "mimetype": "text/x-python",
   "name": "python",
   "nbconvert_exporter": "python",
   "pygments_lexer": "ipython3",
   "version": "3.10.13"
  }
 },
 "nbformat": 4,
 "nbformat_minor": 5
}
