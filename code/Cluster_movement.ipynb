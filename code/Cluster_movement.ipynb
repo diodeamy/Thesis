{
 "cells": [
  {
   "cell_type": "raw",
   "id": "e0c2a2f6",
   "metadata": {},
   "source": [
    "Largest subhalo IDs for z = 0.00 and z = 5.00:\n",
    "\n",
    "- [0, 30, 24, 40, 6] for z = 5.00 (snapshot 49)\n",
    "\n",
    "- [0, 574, 961, 1661, 1890] for z = 0 (snapshot 135) "
   ]
  },
  {
   "cell_type": "code",
   "execution_count": 1,
   "id": "293fb706",
   "metadata": {},
   "outputs": [],
   "source": [
    "from shared.utilities import get_coordinates_for_particleIDs, get_redshift_dictionary,get_snapshot_cluster_coordinates"
   ]
  },
  {
   "cell_type": "code",
   "execution_count": 2,
   "id": "d08cd91d",
   "metadata": {},
   "outputs": [],
   "source": [
    "redshift_snapshot_dict = get_redshift_dictionary()"
   ]
  },
  {
   "cell_type": "code",
   "execution_count": 3,
   "id": "b6b5938c",
   "metadata": {},
   "outputs": [],
   "source": [
    "snapshot_values = list(redshift_snapshot_dict.keys())"
   ]
  },
  {
   "cell_type": "markdown",
   "id": "692f5803",
   "metadata": {},
   "source": [
    "# now -> earlier"
   ]
  },
  {
   "cell_type": "markdown",
   "id": "d10da31e",
   "metadata": {},
   "source": [
    "## Subhalo 0"
   ]
  },
  {
   "cell_type": "code",
   "execution_count": 4,
   "id": "7c1afc71",
   "metadata": {},
   "outputs": [
    {
     "ename": "KeyboardInterrupt",
     "evalue": "",
     "output_type": "error",
     "traceback": [
      "\u001b[0;31m---------------------------------------------------------------------------\u001b[0m",
      "\u001b[0;31mKeyboardInterrupt\u001b[0m                         Traceback (most recent call last)",
      "Cell \u001b[0;32mIn[4], line 1\u001b[0m\n\u001b[0;32m----> 1\u001b[0m coordinates_n_0 \u001b[38;5;241m=\u001b[39m \u001b[43mget_snapshot_cluster_coordinates\u001b[49m\u001b[43m(\u001b[49m\u001b[38;5;241;43m135\u001b[39;49m\u001b[43m,\u001b[49m\u001b[43m \u001b[49m\u001b[38;5;241;43m0\u001b[39;49m\u001b[43m,\u001b[49m\u001b[43m \u001b[49m\u001b[43msnapshot_values\u001b[49m\u001b[43m)\u001b[49m\n",
      "File \u001b[0;32m~/GitBub/Thesis/code/shared/utilities.py:84\u001b[0m, in \u001b[0;36mget_snapshot_cluster_coordinates\u001b[0;34m(base_snapshot_id, subhalo_id, test_snapshot_ids)\u001b[0m\n\u001b[1;32m     81\u001b[0m test_coordinates[base_snapshot_id] \u001b[38;5;241m=\u001b[39m subhalo_coordinates\n\u001b[1;32m     83\u001b[0m \u001b[38;5;28;01mfor\u001b[39;00m test_snapshot_id \u001b[38;5;129;01min\u001b[39;00m test_snapshot_ids:\n\u001b[0;32m---> 84\u001b[0m   coords_ids \u001b[38;5;241m=\u001b[39m \u001b[43mil\u001b[49m\u001b[38;5;241;43m.\u001b[39;49m\u001b[43msnapshot\u001b[49m\u001b[38;5;241;43m.\u001b[39;49m\u001b[43mloadSubset\u001b[49m\u001b[43m(\u001b[49m\u001b[43mbase_path\u001b[49m\u001b[43m,\u001b[49m\u001b[43m \u001b[49m\u001b[43mtest_snapshot_id\u001b[49m\u001b[43m,\u001b[49m\u001b[43m \u001b[49m\u001b[38;5;124;43m'\u001b[39;49m\u001b[38;5;124;43mdm\u001b[39;49m\u001b[38;5;124;43m'\u001b[39;49m\u001b[43m,\u001b[49m\u001b[43m \u001b[49m\u001b[43m[\u001b[49m\u001b[38;5;124;43m'\u001b[39;49m\u001b[38;5;124;43mCoordinates\u001b[39;49m\u001b[38;5;124;43m'\u001b[39;49m\u001b[43m,\u001b[49m\u001b[43m \u001b[49m\u001b[38;5;124;43m'\u001b[39;49m\u001b[38;5;124;43mParticleIDs\u001b[39;49m\u001b[38;5;124;43m'\u001b[39;49m\u001b[43m]\u001b[49m\u001b[43m)\u001b[49m\n\u001b[1;32m     85\u001b[0m   coordinates \u001b[38;5;241m=\u001b[39m get_coordinates_for_particleIDs(coords_ids, subhalo_particle_ids)\n\u001b[1;32m     86\u001b[0m   test_coordinates[test_snapshot_id] \u001b[38;5;241m=\u001b[39m coordinates\n",
      "File \u001b[0;32m~/GitBub/Thesis/code/illustris_python/snapshot.py:139\u001b[0m, in \u001b[0;36mloadSubset\u001b[0;34m(basePath, snapNum, partType, fields, subset, mdi, sq, float32)\u001b[0m\n\u001b[1;32m    136\u001b[0m \u001b[38;5;28;01mfor\u001b[39;00m i, field \u001b[38;5;129;01min\u001b[39;00m \u001b[38;5;28menumerate\u001b[39m(fields):\n\u001b[1;32m    137\u001b[0m     \u001b[38;5;66;03m# read data local to the current file\u001b[39;00m\n\u001b[1;32m    138\u001b[0m     \u001b[38;5;28;01mif\u001b[39;00m mdi \u001b[38;5;129;01mis\u001b[39;00m \u001b[38;5;28;01mNone\u001b[39;00m \u001b[38;5;129;01mor\u001b[39;00m mdi[i] \u001b[38;5;129;01mis\u001b[39;00m \u001b[38;5;28;01mNone\u001b[39;00m:\n\u001b[0;32m--> 139\u001b[0m         result[field][wOffset:wOffset\u001b[38;5;241m+\u001b[39mnumToReadLocal] \u001b[38;5;241m=\u001b[39m \u001b[43mf\u001b[49m\u001b[43m[\u001b[49m\u001b[43mgName\u001b[49m\u001b[43m]\u001b[49m\u001b[43m[\u001b[49m\u001b[43mfield\u001b[49m\u001b[43m]\u001b[49m\u001b[43m[\u001b[49m\u001b[43mfileOff\u001b[49m\u001b[43m:\u001b[49m\u001b[43mfileOff\u001b[49m\u001b[38;5;241;43m+\u001b[39;49m\u001b[43mnumToReadLocal\u001b[49m\u001b[43m]\u001b[49m\n\u001b[1;32m    140\u001b[0m     \u001b[38;5;28;01melse\u001b[39;00m:\n\u001b[1;32m    141\u001b[0m         result[field][wOffset:wOffset\u001b[38;5;241m+\u001b[39mnumToReadLocal] \u001b[38;5;241m=\u001b[39m f[gName][field][fileOff:fileOff\u001b[38;5;241m+\u001b[39mnumToReadLocal, mdi[i]]\n",
      "File \u001b[0;32mh5py/_objects.pyx:54\u001b[0m, in \u001b[0;36mh5py._objects.with_phil.wrapper\u001b[0;34m()\u001b[0m\n",
      "File \u001b[0;32mh5py/_objects.pyx:55\u001b[0m, in \u001b[0;36mh5py._objects.with_phil.wrapper\u001b[0;34m()\u001b[0m\n",
      "File \u001b[0;32m/Software/users/modules/7/software/anaconda3/2023.03/lib/python3.10/site-packages/h5py/_hl/dataset.py:758\u001b[0m, in \u001b[0;36mDataset.__getitem__\u001b[0;34m(self, args, new_dtype)\u001b[0m\n\u001b[1;32m    756\u001b[0m \u001b[38;5;28;01mif\u001b[39;00m \u001b[38;5;28mself\u001b[39m\u001b[38;5;241m.\u001b[39m_fast_read_ok \u001b[38;5;129;01mand\u001b[39;00m (new_dtype \u001b[38;5;129;01mis\u001b[39;00m \u001b[38;5;28;01mNone\u001b[39;00m):\n\u001b[1;32m    757\u001b[0m     \u001b[38;5;28;01mtry\u001b[39;00m:\n\u001b[0;32m--> 758\u001b[0m         \u001b[38;5;28;01mreturn\u001b[39;00m \u001b[38;5;28;43mself\u001b[39;49m\u001b[38;5;241;43m.\u001b[39;49m\u001b[43m_fast_reader\u001b[49m\u001b[38;5;241;43m.\u001b[39;49m\u001b[43mread\u001b[49m\u001b[43m(\u001b[49m\u001b[43margs\u001b[49m\u001b[43m)\u001b[49m\n\u001b[1;32m    759\u001b[0m     \u001b[38;5;28;01mexcept\u001b[39;00m \u001b[38;5;167;01mTypeError\u001b[39;00m:\n\u001b[1;32m    760\u001b[0m         \u001b[38;5;28;01mpass\u001b[39;00m  \u001b[38;5;66;03m# Fall back to Python read pathway below\u001b[39;00m\n",
      "\u001b[0;31mKeyboardInterrupt\u001b[0m: "
     ]
    }
   ],
   "source": [
    "coordinates_n_0 = get_snapshot_cluster_coordinates(135, 0, snapshot_values)"
   ]
  },
  {
   "cell_type": "markdown",
   "id": "606c8cf3",
   "metadata": {},
   "source": [
    "# earlier -> now"
   ]
  },
  {
   "cell_type": "markdown",
   "id": "33952138",
   "metadata": {},
   "source": [
    "## Subhalo 0"
   ]
  }
 ],
 "metadata": {
  "@webio": {
   "lastCommId": null,
   "lastKernelId": null
  },
  "kernelspec": {
   "display_name": "Anaconda3 - 2023.03",
   "language": "python",
   "name": "python3-2023.03"
  },
  "language_info": {
   "codemirror_mode": {
    "name": "ipython",
    "version": 3
   },
   "file_extension": ".py",
   "mimetype": "text/x-python",
   "name": "python",
   "nbconvert_exporter": "python",
   "pygments_lexer": "ipython3",
   "version": "3.10.13"
  }
 },
 "nbformat": 4,
 "nbformat_minor": 5
}
