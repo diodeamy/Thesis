{
 "cells": [
  {
   "cell_type": "raw",
   "id": "e0c2a2f6",
   "metadata": {},
   "source": [
    "Largest subhalo IDs for z = 0.00 and z = 5.00:\n",
    "\n",
    "- [0, 30, 24, 40, 6] for z = 5.00 (snapshot 49)\n",
    "\n",
    "- [0, 574, 961, 1661, 1890] for z = 0 (snapshot 135) "
   ]
  },
  {
   "cell_type": "code",
   "execution_count": 1,
   "id": "293fb706",
   "metadata": {},
   "outputs": [],
   "source": [
    "from shared.utilities import get_coordinates_for_particleIDs, get_redshift_dictionary,get_snapshot_cluster_coordinates"
   ]
  },
  {
   "cell_type": "code",
   "execution_count": 2,
   "id": "d08cd91d",
   "metadata": {},
   "outputs": [],
   "source": [
    "redshift_snapshot_dict = get_redshift_dictionary()"
   ]
  },
  {
   "cell_type": "code",
   "execution_count": 3,
   "id": "b6b5938c",
   "metadata": {},
   "outputs": [],
   "source": [
    "snapshot_values = list(redshift_snapshot_dict.keys())"
   ]
  },
  {
   "cell_type": "markdown",
   "id": "692f5803",
   "metadata": {},
   "source": [
    "# now -> earlier"
   ]
  },
  {
   "cell_type": "markdown",
   "id": "d10da31e",
   "metadata": {},
   "source": [
    "## Subhalo 0"
   ]
  },
  {
   "cell_type": "code",
   "execution_count": 5,
   "id": "7c1afc71",
   "metadata": {},
   "outputs": [],
   "source": [
    "coordinates_n_0 = get_snapshot_cluster_coordinates(135, 0, [49, 51])"
   ]
  },
  {
   "cell_type": "code",
   "execution_count": 6,
   "id": "adce719d",
   "metadata": {},
   "outputs": [
    {
     "data": {
      "text/plain": [
       "{135: array([[  860.2786, 26320.94  , 18281.758 ],\n",
       "        [  862.8968, 26320.16  , 18283.193 ],\n",
       "        [  859.6459, 26324.168 , 18280.25  ],\n",
       "        ...,\n",
       "        [  506.7241, 24325.861 , 17064.234 ],\n",
       "        [74846.09  , 24965.346 , 16922.973 ],\n",
       "        [  413.9229, 24865.03  , 17005.541 ]], dtype=float32),\n",
       " 49: array([[74525.914 , 24877.139 , 22780.594 ],\n",
       "        [74248.32  , 25676.932 , 22886.352 ],\n",
       "        [ 2297.5715, 24381.035 , 20145.734 ],\n",
       "        ...,\n",
       "        [ 3377.9062, 18889.197 , 11995.264 ],\n",
       "        [  770.3715, 19836.334 ,  8283.145 ],\n",
       "        [ 1101.3389, 21730.807 ,  9488.003 ]], dtype=float32),\n",
       " 51: array([[74547.63   , 24918.48   , 22712.725  ],\n",
       "        [74318.2    , 25697.334  , 22779.865  ],\n",
       "        [ 2252.6274 , 24462.598  , 20183.713  ],\n",
       "        ...,\n",
       "        [ 3372.1396 , 18962.365  , 12073.201  ],\n",
       "        [  756.85925, 19925.205  ,  8409.16   ],\n",
       "        [ 1119.1703 , 21750.443  ,  9558.725  ]], dtype=float32)}"
      ]
     },
     "execution_count": 6,
     "metadata": {},
     "output_type": "execute_result"
    }
   ],
   "source": [
    "coordinates_n_0"
   ]
  },
  {
   "cell_type": "markdown",
   "id": "606c8cf3",
   "metadata": {},
   "source": [
    "# earlier -> now"
   ]
  },
  {
   "cell_type": "markdown",
   "id": "33952138",
   "metadata": {},
   "source": [
    "## Subhalo 0"
   ]
  }
 ],
 "metadata": {
  "@webio": {
   "lastCommId": null,
   "lastKernelId": null
  },
  "kernelspec": {
   "display_name": "Anaconda3 - 2023.03",
   "language": "python",
   "name": "python3-2023.03"
  },
  "language_info": {
   "codemirror_mode": {
    "name": "ipython",
    "version": 3
   },
   "file_extension": ".py",
   "mimetype": "text/x-python",
   "name": "python",
   "nbconvert_exporter": "python",
   "pygments_lexer": "ipython3",
   "version": "3.10.13"
  }
 },
 "nbformat": 4,
 "nbformat_minor": 5
}
