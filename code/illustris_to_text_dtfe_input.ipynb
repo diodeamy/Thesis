{
 "cells": [
  {
   "cell_type": "code",
   "execution_count": 1,
   "id": "ea8f86da",
   "metadata": {},
   "outputs": [],
   "source": [
    "import illustris_python as il\n",
    "import numpy as np"
   ]
  },
  {
   "cell_type": "code",
   "execution_count": 2,
   "id": "16dda8af",
   "metadata": {},
   "outputs": [],
   "source": [
    "base_path = \"/Users/users/nastase/PROJECT/\""
   ]
  },
  {
   "cell_type": "code",
   "execution_count": 3,
   "id": "fe649dc1",
   "metadata": {},
   "outputs": [],
   "source": [
    "def load_data(snapshot_number):\n",
    "    data = il.snapshot.loadSubset(base_path, snapshot_number, 'dm', [\"Coordinates\", \"Velocities\"])\n",
    "    data[\"Masses\"] = np.ones(len(data[\"Coordinates\"]))\n",
    "    \n",
    "    return data"
   ]
  },
  {
   "cell_type": "code",
   "execution_count": 4,
   "id": "560f61e5",
   "metadata": {},
   "outputs": [],
   "source": [
    "def create_data_subset(data, fraction):\n",
    "    N_el = len(data[\"Coordinates\"])\n",
    "    random = np.random.uniform(0, 1, N_el)\n",
    "    mask = random < fraction\n",
    "    \n",
    "    # Apply the mask to the coordinates and velocities\n",
    "    coordinates_small = data[\"Coordinates\"][mask]\n",
    "    velocities_small = data[\"Velocities\"][mask]\n",
    "    masses_small = data[\"Masses\"][mask]\n",
    "    \n",
    "    \n",
    "    # Create the new data dictionary with the masked data\n",
    "    data_small = {\n",
    "        \"count\": np.sum(mask),  # This is the number of elements in the small subset\n",
    "        \"Coordinates\": coordinates_small,\n",
    "        \"Velocities\": velocities_small,\n",
    "        \"Masses\": masses_small\n",
    "    }\n",
    "    \n",
    "    return data_small"
   ]
  },
  {
   "cell_type": "code",
   "execution_count": 5,
   "id": "9050b318",
   "metadata": {},
   "outputs": [],
   "source": [
    "data = load_data(135)"
   ]
  },
  {
   "cell_type": "code",
   "execution_count": 6,
   "id": "4656f0e4",
   "metadata": {},
   "outputs": [],
   "source": [
    "data_small = create_data_subset(data, 1/200)"
   ]
  },
  {
   "cell_type": "code",
   "execution_count": 7,
   "id": "ea7002ce",
   "metadata": {},
   "outputs": [],
   "source": [
    "def convert_data_to_tex_even_faster(data, snapshot_number, path):\n",
    "    \n",
    "    particle_number = data[\"count\"]\n",
    "    coordinates = data[\"Coordinates\"]\n",
    "    velocities = data[\"Velocities\"]\n",
    "    masses = data[\"Masses\"]\n",
    "    \n",
    "    box_min = 0\n",
    "    box_max = 75000\n",
    "    \n",
    "    filename = f\"{path}/file_{snapshot_number}.txt\"\n",
    "    header = f\"{particle_number}\\n{box_min:.6f} {box_max:.6f} {box_min:.6f} {box_max:.6f} {box_min:.6f} {box_max:.6f}\\n\"\n",
    "    \n",
    "    all_data = np.hstack((coordinates, velocities, masses.reshape(-1, 1)))\n",
    "    \n",
    "    # Convert all data to formatted strings\n",
    "    lines = \"\\n\".join(f\"{x:.6f} {y:.6f} {z:.6f} {vx:.6f} {vy:.6f} {vz:.6f} {m:.6f}\" for x, y, z, vx, vy, vz, m in all_data)\n",
    "    \n",
    "    with open(filename, 'w') as f:\n",
    "        f.write(header)\n",
    "        f.write(lines)\n",
    "        f.write('\\n')  # Add a newline at the end"
   ]
  },
  {
   "cell_type": "code",
   "execution_count": 8,
   "id": "1f326fbb",
   "metadata": {},
   "outputs": [],
   "source": [
    "convert_data_to_tex_even_faster(data_small, 135, \"/Users/users/nastase/PROJECT/DATA/files_for_dtfe/\")"
   ]
  },
  {
   "cell_type": "code",
   "execution_count": null,
   "id": "6ac9be0d",
   "metadata": {},
   "outputs": [],
   "source": []
  }
 ],
 "metadata": {
  "@webio": {
   "lastCommId": null,
   "lastKernelId": null
  },
  "kernelspec": {
   "display_name": "Anaconda3 - 2023.03",
   "language": "python",
   "name": "python3-2023.03"
  },
  "language_info": {
   "codemirror_mode": {
    "name": "ipython",
    "version": 3
   },
   "file_extension": ".py",
   "mimetype": "text/x-python",
   "name": "python",
   "nbconvert_exporter": "python",
   "pygments_lexer": "ipython3",
   "version": "3.10.13"
  }
 },
 "nbformat": 4,
 "nbformat_minor": 5
}
