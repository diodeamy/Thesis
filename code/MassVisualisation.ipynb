{
 "cells": [
  {
   "cell_type": "code",
   "execution_count": 8,
   "id": "fdc32b98",
   "metadata": {},
   "outputs": [],
   "source": [
    "from shared.http import get\n",
    "import h5py"
   ]
  },
  {
   "cell_type": "code",
   "execution_count": 9,
   "id": "331faf07",
   "metadata": {},
   "outputs": [],
   "source": [
    "base_url = \"http://www.illustris-project.org/api/Illustris-3-Dark/\"\n",
    "simulation_metadata = get(base_url)\n",
    "today_snaps_url = simulation_metadata['snapshots'] +  \"z=0\"\n",
    "simulation_today = get(today_snaps_url)\n",
    "# params = "
   ]
  },
  {
   "cell_type": "code",
   "execution_count": 3,
   "id": "f536c064",
   "metadata": {},
   "outputs": [
    {
     "data": {
      "text/plain": [
       "{'simulation': 'http://www.illustris-project.org/api/Illustris-3-Dark/',\n",
       " 'number': 135,\n",
       " 'redshift': 2.2204460492503099e-16,\n",
       " 'num_gas': 0,\n",
       " 'num_dm': 94196375,\n",
       " 'num_trmc': 0,\n",
       " 'num_stars': 0,\n",
       " 'num_bhs': 0,\n",
       " 'num_groups_fof': 94028,\n",
       " 'num_groups_subfind': 111992,\n",
       " 'num_groups_rockstar': 0,\n",
       " 'filesize_snapshot': 3391122236.0,\n",
       " 'filesize_groupcat': 38768256.0,\n",
       " 'filesize_rockstar': 0.0,\n",
       " 'url': 'http://www.illustris-project.org/api/Illustris-3-Dark/snapshots/135/',\n",
       " 'subhalos': 'http://www.illustris-project.org/api/Illustris-3-Dark/snapshots/135/subhalos/',\n",
       " 'vis': {'groupcat_halo_sizemass': 'http://www.illustris-project.org/api/Illustris-3-Dark/snapshots/135/subhalos/plot.png?xQuant=mhalo_200_log&yQuant=rhalo_200&xlim=9.0%2C15.0'},\n",
       " 'files': {'snapshot': 'http://www.illustris-project.org/api/Illustris-3-Dark/files/snapshot-135/',\n",
       "  'groupcat': 'http://www.illustris-project.org/api/Illustris-3-Dark/files/groupcat-135/'}}"
      ]
     },
     "execution_count": 3,
     "metadata": {},
     "output_type": "execute_result"
    }
   ],
   "source": [
    "simulation_today"
   ]
  },
  {
   "cell_type": "code",
   "execution_count": 4,
   "id": "827db87f",
   "metadata": {},
   "outputs": [],
   "source": [
    "today_snaps_files_url = simulation_today['files']['snapshot']\n",
    "today_snaps_files = get(today_snaps_files_url)['files']"
   ]
  },
  {
   "cell_type": "code",
   "execution_count": 7,
   "id": "855592cb",
   "metadata": {},
   "outputs": [
    {
     "name": "stdout",
     "output_type": "stream",
     "text": [
      "{'Date': 'Tue, 23 Apr 2024 20:50:22 GMT', 'Server': 'Apache', 'Content-Disposition': 'attachment; filename=snap_135.0.hdf5', 'X-Frame-Options': 'SAMEORIGIN', 'Last-Modified': 'Sun, 08 Nov 2015 16:55:26 GMT', 'ETag': '\"193165a8-6101629574a37\"', 'Content-Length': '422667688', 'Content-Type': 'application/octet-stream', 'Keep-Alive': 'timeout=5, max=100', 'Connection': 'Keep-Alive'}\n"
     ]
    }
   ],
   "source": [
    "snap0 = get(today_snaps_files[0])"
   ]
  },
  {
   "cell_type": "code",
   "execution_count": 6,
   "id": "4e0c55b2",
   "metadata": {},
   "outputs": [
    {
     "data": {
      "text/plain": [
       "'snap_135.0.hdf5'"
      ]
     },
     "execution_count": 6,
     "metadata": {},
     "output_type": "execute_result"
    }
   ],
   "source": [
    "snap0"
   ]
  },
  {
   "cell_type": "code",
   "execution_count": 11,
   "id": "4b82c761",
   "metadata": {},
   "outputs": [],
   "source": [
    "file_snap0 = h5py.File(snap0, 'r')"
   ]
  },
  {
   "cell_type": "code",
   "execution_count": 12,
   "id": "f96948ce",
   "metadata": {},
   "outputs": [
    {
     "name": "stdout",
     "output_type": "stream",
     "text": [
      "<KeysViewHDF5 ['Header', 'PartType1']>\n"
     ]
    }
   ],
   "source": [
    "print(file_snap0.keys())"
   ]
  },
  {
   "cell_type": "code",
   "execution_count": 17,
   "id": "bc309318",
   "metadata": {},
   "outputs": [],
   "source": [
    "dHeader_snap0 = file_snap0['Header']"
   ]
  },
  {
   "cell_type": "code",
   "execution_count": 24,
   "id": "138b04e5",
   "metadata": {},
   "outputs": [
    {
     "ename": "AttributeError",
     "evalue": "'Group' object has no attribute 'shape'",
     "output_type": "error",
     "traceback": [
      "\u001b[0;31m---------------------------------------------------------------------------\u001b[0m",
      "\u001b[0;31mAttributeError\u001b[0m                            Traceback (most recent call last)",
      "\u001b[0;32m/var/folders/92/lch654g970bbnp6xj7dvsbxh0000gn/T/ipykernel_14775/4229123519.py\u001b[0m in \u001b[0;36m<module>\u001b[0;34m\u001b[0m\n\u001b[0;32m----> 1\u001b[0;31m \u001b[0mdHeader_snap0\u001b[0m\u001b[0;34m.\u001b[0m\u001b[0mshape\u001b[0m\u001b[0;34m\u001b[0m\u001b[0;34m\u001b[0m\u001b[0m\n\u001b[0m",
      "\u001b[0;31mAttributeError\u001b[0m: 'Group' object has no attribute 'shape'"
     ]
    }
   ],
   "source": [
    "dHeader_snap0.shape"
   ]
  },
  {
   "cell_type": "code",
   "execution_count": 25,
   "id": "5f10333a",
   "metadata": {},
   "outputs": [],
   "source": [
    "dPart_snap0 = file_snap0['PartType1']"
   ]
  },
  {
   "cell_type": "code",
   "execution_count": 27,
   "id": "583b233e",
   "metadata": {},
   "outputs": [
    {
     "name": "stdout",
     "output_type": "stream",
     "text": [
      "Coordinates\n",
      "ParticleIDs\n",
      "Potential\n",
      "Velocities\n"
     ]
    }
   ],
   "source": [
    "for name in dPart_snap0:\n",
    "    print(name)"
   ]
  },
  {
   "cell_type": "code",
   "execution_count": 28,
   "id": "70ded0d6",
   "metadata": {},
   "outputs": [],
   "source": [
    "coordinates_snap0 = dPart_snap0['Coordinates']"
   ]
  },
  {
   "cell_type": "code",
   "execution_count": 30,
   "id": "8d834748",
   "metadata": {},
   "outputs": [
    {
     "data": {
      "text/plain": [
       "(11740586, 3)"
      ]
     },
     "execution_count": 30,
     "metadata": {},
     "output_type": "execute_result"
    }
   ],
   "source": [
    "coordinates_snap0.shape"
   ]
  },
  {
   "cell_type": "code",
   "execution_count": null,
   "id": "2e7c7e6e",
   "metadata": {},
   "outputs": [],
   "source": []
  },
  {
   "cell_type": "code",
   "execution_count": null,
   "id": "fc23e964",
   "metadata": {},
   "outputs": [],
   "source": []
  },
  {
   "cell_type": "code",
   "execution_count": null,
   "id": "9c531cee",
   "metadata": {},
   "outputs": [],
   "source": []
  },
  {
   "cell_type": "code",
   "execution_count": null,
   "id": "b3b0183b",
   "metadata": {},
   "outputs": [],
   "source": []
  }
 ],
 "metadata": {
  "kernelspec": {
   "display_name": "Python 3 (ipykernel)",
   "language": "python",
   "name": "python3"
  },
  "language_info": {
   "codemirror_mode": {
    "name": "ipython",
    "version": 3
   },
   "file_extension": ".py",
   "mimetype": "text/x-python",
   "name": "python",
   "nbconvert_exporter": "python",
   "pygments_lexer": "ipython3",
   "version": "3.9.7"
  }
 },
 "nbformat": 4,
 "nbformat_minor": 5
}
