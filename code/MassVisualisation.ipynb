{
 "cells": [
  {
   "cell_type": "code",
   "execution_count": 1,
   "id": "df09629e",
   "metadata": {},
   "outputs": [],
   "source": [
    "from shared.http import get\n",
    "import h5py\n",
    "import numpy as np\n",
    "import matplotlib.pyplot as plt"
   ]
  },
  {
   "cell_type": "code",
   "execution_count": 2,
   "id": "6fe58f9e",
   "metadata": {},
   "outputs": [],
   "source": [
    "base_url = \"http://www.illustris-project.org/api/Illustris-3-Dark/\"\n",
    "simulation_metadata = get(base_url)\n",
    "today_snaps_url = simulation_metadata['snapshots'] +  \"z=0\"\n",
    "simulation_today = get(today_snaps_url)\n",
    "# params = "
   ]
  },
  {
   "cell_type": "code",
   "execution_count": 3,
   "id": "9f728fb5",
   "metadata": {},
   "outputs": [
    {
     "data": {
      "text/plain": [
       "{'simulation': 'http://www.illustris-project.org/api/Illustris-3-Dark/',\n",
       " 'number': 135,\n",
       " 'redshift': 2.2204460492503099e-16,\n",
       " 'num_gas': 0,\n",
       " 'num_dm': 94196375,\n",
       " 'num_trmc': 0,\n",
       " 'num_stars': 0,\n",
       " 'num_bhs': 0,\n",
       " 'num_groups_fof': 94028,\n",
       " 'num_groups_subfind': 111992,\n",
       " 'num_groups_rockstar': 0,\n",
       " 'filesize_snapshot': 3391122236.0,\n",
       " 'filesize_groupcat': 38768256.0,\n",
       " 'filesize_rockstar': 0.0,\n",
       " 'url': 'http://www.illustris-project.org/api/Illustris-3-Dark/snapshots/135/',\n",
       " 'subhalos': 'http://www.illustris-project.org/api/Illustris-3-Dark/snapshots/135/subhalos/',\n",
       " 'vis': {'groupcat_halo_sizemass': 'http://www.illustris-project.org/api/Illustris-3-Dark/snapshots/135/subhalos/plot.png?xQuant=mhalo_200_log&yQuant=rhalo_200&xlim=9.0%2C15.0'},\n",
       " 'files': {'snapshot': 'http://www.illustris-project.org/api/Illustris-3-Dark/files/snapshot-135/',\n",
       "  'groupcat': 'http://www.illustris-project.org/api/Illustris-3-Dark/files/groupcat-135/'}}"
      ]
     },
     "execution_count": 3,
     "metadata": {},
     "output_type": "execute_result"
    }
   ],
   "source": [
    "simulation_today"
   ]
  },
  {
   "cell_type": "code",
   "execution_count": 4,
   "id": "5089a245",
   "metadata": {},
   "outputs": [],
   "source": [
    "today_snaps_files_url = simulation_today['files']['snapshot']\n",
    "today_snaps_files = get(today_snaps_files_url)['files']"
   ]
  },
  {
   "cell_type": "code",
   "execution_count": 7,
   "id": "b79d2b22",
   "metadata": {},
   "outputs": [
    {
     "name": "stdout",
     "output_type": "stream",
     "text": [
      "{'Date': 'Tue, 23 Apr 2024 20:50:22 GMT', 'Server': 'Apache', 'Content-Disposition': 'attachment; filename=snap_135.0.hdf5', 'X-Frame-Options': 'SAMEORIGIN', 'Last-Modified': 'Sun, 08 Nov 2015 16:55:26 GMT', 'ETag': '\"193165a8-6101629574a37\"', 'Content-Length': '422667688', 'Content-Type': 'application/octet-stream', 'Keep-Alive': 'timeout=5, max=100', 'Connection': 'Keep-Alive'}\n"
     ]
    }
   ],
   "source": [
    "snap0 = get(today_snaps_files[0])"
   ]
  },
  {
   "cell_type": "code",
   "execution_count": 7,
   "id": "59a0b18e",
   "metadata": {},
   "outputs": [],
   "source": [
    "snap0 = 'snap_135.0.hdf5'"
   ]
  },
  {
   "cell_type": "code",
   "execution_count": 5,
   "id": "51e83e7d",
   "metadata": {},
   "outputs": [
    {
     "ename": "NameError",
     "evalue": "name 'snap0' is not defined",
     "output_type": "error",
     "traceback": [
      "\u001b[0;31m---------------------------------------------------------------------------\u001b[0m",
      "\u001b[0;31mNameError\u001b[0m                                 Traceback (most recent call last)",
      "\u001b[0;32m/var/folders/92/lch654g970bbnp6xj7dvsbxh0000gn/T/ipykernel_15924/248831092.py\u001b[0m in \u001b[0;36m<module>\u001b[0;34m\u001b[0m\n\u001b[0;32m----> 1\u001b[0;31m \u001b[0msnap0\u001b[0m\u001b[0;34m\u001b[0m\u001b[0;34m\u001b[0m\u001b[0m\n\u001b[0m",
      "\u001b[0;31mNameError\u001b[0m: name 'snap0' is not defined"
     ]
    }
   ],
   "source": [
    "snap0"
   ]
  },
  {
   "cell_type": "code",
   "execution_count": 8,
   "id": "64dbf6be",
   "metadata": {},
   "outputs": [],
   "source": [
    "file_snap0 = h5py.File(snap0, 'r')"
   ]
  },
  {
   "cell_type": "code",
   "execution_count": 9,
   "id": "e29eacfc",
   "metadata": {},
   "outputs": [
    {
     "name": "stdout",
     "output_type": "stream",
     "text": [
      "<KeysViewHDF5 ['Header', 'PartType1']>\n"
     ]
    }
   ],
   "source": [
    "print(file_snap0.keys())"
   ]
  },
  {
   "cell_type": "code",
   "execution_count": 10,
   "id": "68db6e41",
   "metadata": {},
   "outputs": [],
   "source": [
    "dHeader_snap0 = file_snap0['Header']"
   ]
  },
  {
   "cell_type": "code",
   "execution_count": 11,
   "id": "8df73a55",
   "metadata": {},
   "outputs": [
    {
     "ename": "AttributeError",
     "evalue": "'Group' object has no attribute 'shape'",
     "output_type": "error",
     "traceback": [
      "\u001b[0;31m---------------------------------------------------------------------------\u001b[0m",
      "\u001b[0;31mAttributeError\u001b[0m                            Traceback (most recent call last)",
      "\u001b[0;32m/var/folders/92/lch654g970bbnp6xj7dvsbxh0000gn/T/ipykernel_15924/4229123519.py\u001b[0m in \u001b[0;36m<module>\u001b[0;34m\u001b[0m\n\u001b[0;32m----> 1\u001b[0;31m \u001b[0mdHeader_snap0\u001b[0m\u001b[0;34m.\u001b[0m\u001b[0mshape\u001b[0m\u001b[0;34m\u001b[0m\u001b[0;34m\u001b[0m\u001b[0m\n\u001b[0m",
      "\u001b[0;31mAttributeError\u001b[0m: 'Group' object has no attribute 'shape'"
     ]
    }
   ],
   "source": [
    "dHeader_snap0.shape"
   ]
  },
  {
   "cell_type": "code",
   "execution_count": 12,
   "id": "b8f5d819",
   "metadata": {},
   "outputs": [],
   "source": [
    "dPart_snap0 = file_snap0['PartType1']"
   ]
  },
  {
   "cell_type": "code",
   "execution_count": 13,
   "id": "e8b6abce",
   "metadata": {},
   "outputs": [
    {
     "name": "stdout",
     "output_type": "stream",
     "text": [
      "Coordinates\n",
      "ParticleIDs\n",
      "Potential\n",
      "Velocities\n"
     ]
    }
   ],
   "source": [
    "for name in dPart_snap0:\n",
    "    print(name)"
   ]
  },
  {
   "cell_type": "code",
   "execution_count": 14,
   "id": "147cd3f9",
   "metadata": {},
   "outputs": [],
   "source": [
    "coordinates_snap0 = dPart_snap0['Coordinates']"
   ]
  },
  {
   "cell_type": "code",
   "execution_count": 30,
   "id": "6962704e",
   "metadata": {},
   "outputs": [
    {
     "data": {
      "text/plain": [
       "(11740586, 3)"
      ]
     },
     "execution_count": 30,
     "metadata": {},
     "output_type": "execute_result"
    }
   ],
   "source": [
    "coordinates_snap0.shape"
   ]
  },
  {
   "cell_type": "code",
   "execution_count": 15,
   "id": "eca76b26",
   "metadata": {},
   "outputs": [],
   "source": [
    "snap0_coord_array = np.array(coordinates_snap0)"
   ]
  },
  {
   "cell_type": "code",
   "execution_count": 16,
   "id": "df998655",
   "metadata": {},
   "outputs": [],
   "source": [
    "x_snap0 = snap0_coord_array[:, 0]\n",
    "y_snap0 = snap0_coord_array[:, 1]\n",
    "z_snap0 = snap0_coord_array[:, 2]"
   ]
  },
  {
   "cell_type": "code",
   "execution_count": 17,
   "id": "42202c5b",
   "metadata": {},
   "outputs": [],
   "source": [
    "x_snap0_reduced = np.random.choice(x_snap0, 1000)\n",
    "y_snap0_reduced = np.random.choice(y_snap0, 1000)"
   ]
  },
  {
   "cell_type": "code",
   "execution_count": 57,
   "id": "05e219dc",
   "metadata": {},
   "outputs": [
    {
     "data": {
      "text/plain": [
       "<matplotlib.collections.PathCollection at 0x7ff450bf9dc0>"
      ]
     },
     "execution_count": 57,
     "metadata": {},
     "output_type": "execute_result"
    },
    {
     "data": {
      "image/png": "[encoded data removed]",
      "text/plain": [
       "<Figure size 432x288 with 1 Axes>"
      ]
     },
     "metadata": {
      "needs_background": "light"
     },
     "output_type": "display_data"
    }
   ],
   "source": [
    "plt.scatter(x_snap0, y_snap0)"
   ]
  },
  {
   "cell_type": "code",
   "execution_count": 18,
   "id": "10a6eeff",
   "metadata": {},
   "outputs": [
    {
     "name": "stderr",
     "output_type": "stream",
     "text": [
      "No handles with labels found to put in legend.\n"
     ]
    },
    {
     "data": {
      "image/png": "[encoded data removed]",
      "text/plain": [
       "<Figure size 432x288 with 1 Axes>"
      ]
     },
     "metadata": {
      "needs_background": "light"
     },
     "output_type": "display_data"
    }
   ],
   "source": [
    "ax = plt.figure().add_subplot(projection='3d')\n",
    "ax.scatter(x_snap0, y_snap0, z_snap0, c='red')\n",
    "\n",
    "ax.legend()\n",
    "ax.set_xlim(np.min(x_snap0), np.max(x_snap0))\n",
    "ax.set_ylim(np.min(y_snap0), np.max(y_snap0))\n",
    "ax.set_zlim(np.min(z_snap0), np.max(z_snap0))\n",
    "ax.set_xlabel('X')\n",
    "ax.set_ylabel('Y')\n",
    "ax.set_zlabel('Z')\n",
    "ax.view_init(elev=20., azim=-35)\n",
    "\n",
    "plt.show()"
   ]
  },
  {
   "cell_type": "code",
   "execution_count": null,
   "id": "7e7f2d4a",
   "metadata": {},
   "outputs": [],
   "source": []
  }
 ],
 "metadata": {
  "kernelspec": {
   "display_name": "Anaconda3 - 4.2.0",
   "language": "python",
   "name": "python3"
  },
  "language_info": {
   "codemirror_mode": {
    "name": "ipython",
    "version": 3
   },
   "file_extension": ".py",
   "mimetype": "text/x-python",
   "name": "python",
   "nbconvert_exporter": "python",
   "pygments_lexer": "ipython3",
   "version": "3.5.2"
  }
 },
 "nbformat": 4,
 "nbformat_minor": 5
}
