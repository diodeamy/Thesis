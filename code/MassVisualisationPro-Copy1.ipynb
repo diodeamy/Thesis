{
 "cells": [
  {
   "cell_type": "code",
   "execution_count": 3,
   "id": "47d88cd0",
   "metadata": {},
   "outputs": [],
   "source": [
    "import vaex\n",
    "import illustris_python as il\n",
    "import numpy as np\n",
    "import matplotlib as mpl\n",
    "import shared\n",
    "import matplotlib.pyplot as plt"
   ]
  },
  {
   "cell_type": "code",
   "execution_count": 6,
   "id": "b36ed0f2",
   "metadata": {},
   "outputs": [],
   "source": [
    "base_path = \"/Users/users/nastase/PROJECT/\""
   ]
  },
  {
   "cell_type": "code",
   "execution_count": 14,
   "id": "69fe84ab",
   "metadata": {},
   "outputs": [],
   "source": [
    "dm_pos = il.snapshot.loadSubset(base_path,135,'dm',['Coordinates', 'ParticleIDs'])\n",
    "# plt.hist2d(np.random.choice(dm_pos[:,0], 1000), np.random.choice(dm_pos[:,1], 1000), norm=mpl.colors.LogNorm(), bins=2048)\n",
    "# # plt.xlim([10000,20000])\n",
    "# # plt.ylim([50000,60000])\n",
    "# plt.xlabel('x [ckpc/h]')\n",
    "# plt.ylabel('y [ckpc/h]')\n",
    "# plt.colorbar()"
   ]
  },
  {
   "cell_type": "code",
   "execution_count": 15,
   "id": "6f2e8b78",
   "metadata": {},
   "outputs": [],
   "source": [
    "def random_sample_particles(snapshot, x_min, x_max, y_min, y_max, z_min, z_max, n):\n",
    "    # Assuming dm_pos is a dictionary with keys 'Coordinates' and 'ParticleIDs'\n",
    "    dm_pos = il.snapshot.loadSubset(base_path, snapshot, 'dm', ['Coordinates', 'ParticleIDs'])\n",
    "\n",
    "    # Extracting coordinates\n",
    "    coordinates = dm_pos['Coordinates']\n",
    "    x_coords = coordinates[:, 0]\n",
    "    y_coords = coordinates[:, 1]\n",
    "    z_coords = coordinates[:, 2]\n",
    "\n",
    "    # Finding indices of particles within the specified range\n",
    "    indices = np.where(\n",
    "        (x_coords >= x_min) & (x_coords <= x_max) &\n",
    "        (y_coords >= y_min) & (y_coords <= y_max) &\n",
    "        (z_coords >= z_min) & (z_coords <= z_max)\n",
    "    )[0]\n",
    "\n",
    "    # Randomly sampling n indices\n",
    "    sampled_indices = np.random.choice(indices, size=n, replace=False)\n",
    "\n",
    "    # Extracting particle IDs for the sampled indices\n",
    "    particle_ids = dm_pos['ParticleIDs'][sampled_indices]\n",
    "\n",
    "    return particle_ids"
   ]
  }
 ],
 "metadata": {
  "kernelspec": {
   "display_name": "Anaconda3 - 2023.03",
   "language": "python",
   "name": "python3-2023.03"
  },
  "language_info": {
   "codemirror_mode": {
    "name": "ipython",
    "version": 3
   },
   "file_extension": ".py",
   "mimetype": "text/x-python",
   "name": "python",
   "nbconvert_exporter": "python",
   "pygments_lexer": "ipython3",
   "version": "3.10.13"
  }
 },
 "nbformat": 4,
 "nbformat_minor": 5
}
