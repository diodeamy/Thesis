{
 "cells": [
  {
   "cell_type": "markdown",
   "id": "5d4b9f57",
   "metadata": {},
   "source": [
    "Howtoloadresults.com forever and ever"
   ]
  },
  {
   "cell_type": "code",
   "execution_count": 1,
   "id": "62d853ec",
   "metadata": {},
   "outputs": [],
   "source": [
    "from shared.utilities import load_results"
   ]
  },
  {
   "cell_type": "code",
   "execution_count": null,
   "id": "21ba0a8b",
   "metadata": {},
   "outputs": [],
   "source": [
    "python_results = load_results(\n",
    "    \"/Users/users/nastase/GitBub/Thesis/code/Data/W5_subhalo_movements/all_results.pickle\"\n",
    ")"
   ]
  }
 ],
 "metadata": {
  "kernelspec": {
   "display_name": "Anaconda3 - 2023.03",
   "language": "python",
   "name": "python3-2023.03"
  },
  "language_info": {
   "codemirror_mode": {
    "name": "ipython",
    "version": 3
   },
   "file_extension": ".py",
   "mimetype": "text/x-python",
   "name": "python",
   "nbconvert_exporter": "python",
   "pygments_lexer": "ipython3",
   "version": "3.10.13"
  }
 },
 "nbformat": 4,
 "nbformat_minor": 5
}
